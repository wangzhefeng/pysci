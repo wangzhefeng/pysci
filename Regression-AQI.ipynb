{
 "cells": [
  {
   "cell_type": "code",
   "execution_count": 39,
   "metadata": {},
   "outputs": [],
   "source": [
    "import numpy as np\n",
    "import pandas as pd\n",
    "from pandas.api.types import CategoricalDtype\n",
    "import matplotlib.pyplot as plt\n",
    "%matplotlib inline\n",
    "import seaborn as sns"
   ]
  },
  {
   "cell_type": "markdown",
   "metadata": {},
   "source": [
    "## 1.读取数据"
   ]
  },
  {
   "cell_type": "code",
   "execution_count": 40,
   "metadata": {
    "scrolled": false
   },
   "outputs": [],
   "source": [
    "data_path = \"./data/gouxionghui_data/mojitainqi_8/data.xlsx\"\n",
    "data = pd.read_excel(data_path, na_values = np.nan)"
   ]
  },
  {
   "cell_type": "markdown",
   "metadata": {},
   "source": [
    "## 2.了解数据、数据质量检查"
   ]
  },
  {
   "cell_type": "code",
   "execution_count": 41,
   "metadata": {},
   "outputs": [
    {
     "data": {
      "text/html": [
       "<div>\n",
       "<style scoped>\n",
       "    .dataframe tbody tr th:only-of-type {\n",
       "        vertical-align: middle;\n",
       "    }\n",
       "\n",
       "    .dataframe tbody tr th {\n",
       "        vertical-align: top;\n",
       "    }\n",
       "\n",
       "    .dataframe thead th {\n",
       "        text-align: right;\n",
       "    }\n",
       "</style>\n",
       "<table border=\"1\" class=\"dataframe\">\n",
       "  <thead>\n",
       "    <tr style=\"text-align: right;\">\n",
       "      <th></th>\n",
       "      <th>城市</th>\n",
       "      <th>地区</th>\n",
       "      <th>城市AQI</th>\n",
       "      <th>PM2.5浓度</th>\n",
       "      <th>PM10浓度</th>\n",
       "      <th>首要污染物</th>\n",
       "      <th>污染等级</th>\n",
       "      <th>地区AQI</th>\n",
       "    </tr>\n",
       "  </thead>\n",
       "  <tbody>\n",
       "    <tr>\n",
       "      <th>0</th>\n",
       "      <td>鞍山实时空气质量指数</td>\n",
       "      <td>明达新区</td>\n",
       "      <td>177</td>\n",
       "      <td>125μg/m³</td>\n",
       "      <td>228μg/m³</td>\n",
       "      <td>PM2.5</td>\n",
       "      <td>轻度污染</td>\n",
       "      <td>165</td>\n",
       "    </tr>\n",
       "    <tr>\n",
       "      <th>1</th>\n",
       "      <td>鞍山实时空气质量指数</td>\n",
       "      <td>千山</td>\n",
       "      <td>177</td>\n",
       "      <td>117μg/m³</td>\n",
       "      <td>145μg/m³</td>\n",
       "      <td>PM2.5</td>\n",
       "      <td>轻度污染</td>\n",
       "      <td>153</td>\n",
       "    </tr>\n",
       "    <tr>\n",
       "      <th>2</th>\n",
       "      <td>鞍山实时空气质量指数</td>\n",
       "      <td>深沟寺</td>\n",
       "      <td>177</td>\n",
       "      <td>138μg/m³</td>\n",
       "      <td>244μg/m³</td>\n",
       "      <td>PM2.5</td>\n",
       "      <td>轻度污染</td>\n",
       "      <td>183</td>\n",
       "    </tr>\n",
       "    <tr>\n",
       "      <th>3</th>\n",
       "      <td>鞍山实时空气质量指数</td>\n",
       "      <td>太平</td>\n",
       "      <td>177</td>\n",
       "      <td>126μg/m³</td>\n",
       "      <td>239μg/m³</td>\n",
       "      <td>PM2.5</td>\n",
       "      <td>轻度污染</td>\n",
       "      <td>166</td>\n",
       "    </tr>\n",
       "    <tr>\n",
       "      <th>4</th>\n",
       "      <td>鞍山实时空气质量指数</td>\n",
       "      <td>太阳城</td>\n",
       "      <td>177</td>\n",
       "      <td>142μg/m³</td>\n",
       "      <td>242μg/m³</td>\n",
       "      <td>PM2.5</td>\n",
       "      <td>轻度污染</td>\n",
       "      <td>189</td>\n",
       "    </tr>\n",
       "  </tbody>\n",
       "</table>\n",
       "</div>"
      ],
      "text/plain": [
       "           城市    地区  城市AQI   PM2.5浓度    PM10浓度  首要污染物  污染等级  地区AQI\n",
       "0  鞍山实时空气质量指数  明达新区    177  125μg/m³  228μg/m³  PM2.5  轻度污染    165\n",
       "1  鞍山实时空气质量指数    千山    177  117μg/m³  145μg/m³  PM2.5  轻度污染    153\n",
       "2  鞍山实时空气质量指数   深沟寺    177  138μg/m³  244μg/m³  PM2.5  轻度污染    183\n",
       "3  鞍山实时空气质量指数    太平    177  126μg/m³  239μg/m³  PM2.5  轻度污染    166\n",
       "4  鞍山实时空气质量指数   太阳城    177  142μg/m³  242μg/m³  PM2.5  轻度污染    189"
      ]
     },
     "execution_count": 41,
     "metadata": {},
     "output_type": "execute_result"
    }
   ],
   "source": [
    "data.head()"
   ]
  },
  {
   "cell_type": "code",
   "execution_count": 42,
   "metadata": {},
   "outputs": [
    {
     "name": "stdout",
     "output_type": "stream",
     "text": [
      "数据维度:\n",
      " ------------\n",
      " (1453, 8)\n",
      "********************\n",
      "数据变量类型：\n",
      " ------------\n",
      " 城市         object\n",
      "地区         object\n",
      "城市AQI       int64\n",
      "PM2.5浓度    object\n",
      "PM10浓度     object\n",
      "首要污染物      object\n",
      "污染等级       object\n",
      "地区AQI       int64\n",
      "dtype: object\n"
     ]
    }
   ],
   "source": [
    "print('数据维度:\\n', '------------\\n', data.shape)\n",
    "print('*' * 20)\n",
    "print('数据变量类型：\\n', '------------\\n',data.dtypes)"
   ]
  },
  {
   "cell_type": "markdown",
   "metadata": {},
   "source": [
    "## 3.数据预处理"
   ]
  },
  {
   "cell_type": "markdown",
   "metadata": {},
   "source": [
    "### 3.1 将`PM2.5浓度`，`PM10浓度`转换为数值型变量"
   ]
  },
  {
   "cell_type": "code",
   "execution_count": 43,
   "metadata": {},
   "outputs": [],
   "source": [
    "data['PM2.5浓度值'] = data['PM2.5浓度'].str.split('μ').str.get(0)\n",
    "# data['PM2.5浓度值'] = data['PM2.5浓度'].str.replace('μg/m³', '')\n",
    "# data['PM2.5浓度单位'] = 'μ' + data['PM2.5浓度'].str.split('μ').str.get(1)\n",
    "data.drop(['PM2.5浓度'], axis = 1, inplace = True)\n",
    "\n",
    "data['PM10浓度值'] = data['PM10浓度'].str.split('μ').str.get(0)\n",
    "# data['PM10浓度值'] = data['PM10浓度'].str.replace('μg/m³', '')\n",
    "# data['PM10浓度单位'] = 'μ' + data['PM10浓度'].str.split('μ').str.get(1)\n",
    "data.drop(['PM10浓度'], axis = 1, inplace = True)"
   ]
  },
  {
   "cell_type": "code",
   "execution_count": 44,
   "metadata": {
    "scrolled": false
   },
   "outputs": [],
   "source": [
    "data.loc[data['PM10浓度值'].str.contains('—'), 'PM10浓度值'] = np.nan\n",
    "data.loc[data['首要污染物'] == '—', '首要污染物'] = np.nan"
   ]
  },
  {
   "cell_type": "code",
   "execution_count": 45,
   "metadata": {},
   "outputs": [],
   "source": [
    "data['PM2.5浓度值'] = pd.to_numeric(data['PM2.5浓度值'], errors = 'coerce')\n",
    "data['PM10浓度值'] = pd.to_numeric(data['PM10浓度值'], errors = 'coerce').astype('Int64')"
   ]
  },
  {
   "cell_type": "markdown",
   "metadata": {},
   "source": [
    "### 2.2 类别型数据处理\n",
    "\n",
    "* 将object类型转化为category类型\n",
    "* 将有序category转换为排序的category"
   ]
  },
  {
   "cell_type": "markdown",
   "metadata": {},
   "source": [
    "#### 2.2.1 `城市`，`地区`转换为无序类别型变量"
   ]
  },
  {
   "cell_type": "code",
   "execution_count": 46,
   "metadata": {},
   "outputs": [
    {
     "name": "stdout",
     "output_type": "stream",
     "text": [
      "Index(['七台河', '三亚', '三明', '三门峡', '上海', '上饶', '东莞', '东营', '中卫', '中山',\n",
      "       ...\n",
      "       '黄冈', '黄南州', '黄山', '黄石', '黑河', '黔东南州', '黔南州', '黔西南州', '齐齐哈尔', '龙岩'],\n",
      "      dtype='object', length=365)\n",
      "Index(['1号', '22中南校区', '2号', '2号子站', 'JN子站', '一中', '一商场', '丁字口', '七星岩子站',\n",
      "       '七贤岭',\n",
      "       ...\n",
      "       '龙岩师专', '龙新', '龙泉镇', '龙洲湾', '龙港区', '龙湖子站', '龙湾', '龙虎山', '龙赛医院',\n",
      "       '龙隐路小学'],\n",
      "      dtype='object', length=1264)\n",
      "Index(['O3', 'PM10', 'PM2.5'], dtype='object')\n"
     ]
    }
   ],
   "source": [
    "data['城市'] = data['城市'].str.replace('实时空气质量指数', '')\n",
    "data['城市'] = data['城市'].astype('category')\n",
    "data['地区'] = data['地区'].astype('category')\n",
    "data['首要污染物'] = data['首要污染物'].astype('category')\n",
    "\n",
    "print(data['城市'].cat.categories)\n",
    "print(data['地区'].cat.categories)\n",
    "print(data['首要污染物'].cat.categories)"
   ]
  },
  {
   "cell_type": "markdown",
   "metadata": {},
   "source": [
    "#### 2.2.2 `污染等级`转换为有序类别型数据"
   ]
  },
  {
   "cell_type": "code",
   "execution_count": 47,
   "metadata": {
    "scrolled": true
   },
   "outputs": [
    {
     "name": "stdout",
     "output_type": "stream",
     "text": [
      "Int64Index([1, 2, 3, 4, 5], dtype='int64')\n",
      "True\n"
     ]
    }
   ],
   "source": [
    "levels = {\n",
    "    '严重污染': 5,\n",
    "    '中度污染': 4,\n",
    "    '轻度污染': 3,\n",
    "    '良': 2,\n",
    "    '优': 1\n",
    "}\n",
    "data['污染等级'] = data['污染等级'] \\\n",
    "    .astype(CategoricalDtype(categories = ['优', '良', '轻度污染', '中度污染', '严重污染'], ordered = True)) \\\n",
    "    .cat.rename_categories(levels)\n",
    "print(data.污染等级.cat.categories)\n",
    "print(data.污染等级.cat.ordered)"
   ]
  },
  {
   "cell_type": "code",
   "execution_count": 48,
   "metadata": {},
   "outputs": [
    {
     "data": {
      "text/plain": [
       "城市          category\n",
       "地区          category\n",
       "城市AQI          int64\n",
       "首要污染物       category\n",
       "污染等级        category\n",
       "地区AQI          int64\n",
       "PM2.5浓度值       int64\n",
       "PM10浓度值        Int64\n",
       "dtype: object"
      ]
     },
     "execution_count": 48,
     "metadata": {},
     "output_type": "execute_result"
    }
   ],
   "source": [
    "data.dtypes"
   ]
  },
  {
   "cell_type": "code",
   "execution_count": 49,
   "metadata": {},
   "outputs": [
    {
     "data": {
      "text/html": [
       "<div>\n",
       "<style scoped>\n",
       "    .dataframe tbody tr th:only-of-type {\n",
       "        vertical-align: middle;\n",
       "    }\n",
       "\n",
       "    .dataframe tbody tr th {\n",
       "        vertical-align: top;\n",
       "    }\n",
       "\n",
       "    .dataframe thead th {\n",
       "        text-align: right;\n",
       "    }\n",
       "</style>\n",
       "<table border=\"1\" class=\"dataframe\">\n",
       "  <thead>\n",
       "    <tr style=\"text-align: right;\">\n",
       "      <th></th>\n",
       "      <th>城市</th>\n",
       "      <th>地区</th>\n",
       "      <th>城市AQI</th>\n",
       "      <th>首要污染物</th>\n",
       "      <th>污染等级</th>\n",
       "      <th>地区AQI</th>\n",
       "      <th>PM2.5浓度值</th>\n",
       "      <th>PM10浓度值</th>\n",
       "    </tr>\n",
       "  </thead>\n",
       "  <tbody>\n",
       "    <tr>\n",
       "      <th>0</th>\n",
       "      <td>鞍山</td>\n",
       "      <td>明达新区</td>\n",
       "      <td>177</td>\n",
       "      <td>PM2.5</td>\n",
       "      <td>3</td>\n",
       "      <td>165</td>\n",
       "      <td>125</td>\n",
       "      <td>228</td>\n",
       "    </tr>\n",
       "    <tr>\n",
       "      <th>1</th>\n",
       "      <td>鞍山</td>\n",
       "      <td>千山</td>\n",
       "      <td>177</td>\n",
       "      <td>PM2.5</td>\n",
       "      <td>3</td>\n",
       "      <td>153</td>\n",
       "      <td>117</td>\n",
       "      <td>145</td>\n",
       "    </tr>\n",
       "    <tr>\n",
       "      <th>2</th>\n",
       "      <td>鞍山</td>\n",
       "      <td>深沟寺</td>\n",
       "      <td>177</td>\n",
       "      <td>PM2.5</td>\n",
       "      <td>3</td>\n",
       "      <td>183</td>\n",
       "      <td>138</td>\n",
       "      <td>244</td>\n",
       "    </tr>\n",
       "    <tr>\n",
       "      <th>3</th>\n",
       "      <td>鞍山</td>\n",
       "      <td>太平</td>\n",
       "      <td>177</td>\n",
       "      <td>PM2.5</td>\n",
       "      <td>3</td>\n",
       "      <td>166</td>\n",
       "      <td>126</td>\n",
       "      <td>239</td>\n",
       "    </tr>\n",
       "    <tr>\n",
       "      <th>4</th>\n",
       "      <td>鞍山</td>\n",
       "      <td>太阳城</td>\n",
       "      <td>177</td>\n",
       "      <td>PM2.5</td>\n",
       "      <td>3</td>\n",
       "      <td>189</td>\n",
       "      <td>142</td>\n",
       "      <td>242</td>\n",
       "    </tr>\n",
       "  </tbody>\n",
       "</table>\n",
       "</div>"
      ],
      "text/plain": [
       "   城市    地区  城市AQI  首要污染物 污染等级  地区AQI  PM2.5浓度值  PM10浓度值\n",
       "0  鞍山  明达新区    177  PM2.5    3    165       125      228\n",
       "1  鞍山    千山    177  PM2.5    3    153       117      145\n",
       "2  鞍山   深沟寺    177  PM2.5    3    183       138      244\n",
       "3  鞍山    太平    177  PM2.5    3    166       126      239\n",
       "4  鞍山   太阳城    177  PM2.5    3    189       142      242"
      ]
     },
     "execution_count": 49,
     "metadata": {},
     "output_type": "execute_result"
    }
   ],
   "source": [
    "data.head()"
   ]
  },
  {
   "cell_type": "code",
   "execution_count": null,
   "metadata": {},
   "outputs": [],
   "source": []
  }
 ],
 "metadata": {
  "kernelspec": {
   "display_name": "Python 3",
   "language": "python",
   "name": "python3"
  },
  "language_info": {
   "codemirror_mode": {
    "name": "ipython",
    "version": 3
   },
   "file_extension": ".py",
   "mimetype": "text/x-python",
   "name": "python",
   "nbconvert_exporter": "python",
   "pygments_lexer": "ipython3",
   "version": "3.6.5"
  }
 },
 "nbformat": 4,
 "nbformat_minor": 2
}
