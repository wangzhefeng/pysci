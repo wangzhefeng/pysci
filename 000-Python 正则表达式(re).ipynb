{
 "cells": [
  {
   "cell_type": "markdown",
   "metadata": {},
   "source": [
    "* 单词：`r'\\b\\hello\\b'`\n",
    "* 小数：`r'\\d+(\\.\\d*)?'`\n",
    "* 运算符：`r'[+-*/]'`"
   ]
  },
  {
   "cell_type": "code",
   "execution_count": 1,
   "metadata": {},
   "outputs": [],
   "source": [
    "import re\n",
    "from re import compile\n"
   ]
  },
  {
   "cell_type": "markdown",
   "metadata": {},
   "source": [
    "* `re`中的正则表达式与Perl中的正则表达式匹配操作类似；\n",
    "* 在正则表达式匹配中，要搜索的模式字符串和被匹配的字符串可以是Unicode字符串(str)或者8位字节码(8-bit)字符串(bytes),但是两种类型不能混合使用，即搜索的字符串和被匹配的字符串必须是上面两种类型中的一种；\n",
    "* 正则表达式中的反义字符：`\\`\n",
    "    - `\\`: `\\\\\\\\`\n",
    "    - `\\`: `r'\\'`\n",
    "    - `\\n`: `r'\\n'`"
   ]
  },
  {
   "cell_type": "markdown",
   "metadata": {},
   "source": [
    "# 1. 正则表达式语法\n",
    "\n",
    "## 1.1 语法\n",
    "\n",
    "* 正则表达式可以进行合并\n",
    "    - `A`是一个正则表达式，`B`也是一个正则表达式，合并起来的`AB`同样也是一个正则表达式；\n",
    "    - 如果一个字符串`p`能够与正则表达式`A`匹配，字符串`q`能够与正则表达式`B`匹配，那么字符串`pq`一般也能与正则表达式`AB`匹配，除非`A`或`B`包含低优先级操作；\n",
    "    - 复杂的正则表达式可以用简单的正则表达式构造；\n",
    "* 正则表达式元字符可以包含特殊字符和普通字符\n",
    "    - 普通字符：只匹配自己，可以连接普通字符\n",
    "        - `A`\n",
    "        - `a`\n",
    "        - `0`\n",
    "        - `last`\n",
    "    - 特殊字符：代表普通字符的类，影响普通字符周围的正则表达式的解释方式\n",
    "        - `|`\n",
    "        - `(`\n",
    "        * 重复限定符：不能直接嵌套，避免非贪婪修饰符后缀(`?`)的模糊性,以及其他修饰符，为了对内部重复应用第二次重复，可以使用括号。\n",
    "            - `*`\n",
    "            - `+`\n",
    "            - `?`\n",
    "            - `{m, n}`\n",
    "* 正则表达式模式\n",
    "    - 默认模式\n",
    "    - 贪婪模式\n",
    "    - 非贪婪模式"
   ]
  },
  {
   "cell_type": "markdown",
   "metadata": {},
   "source": [
    "## 1.2 元字符"
   ]
  },
  {
   "cell_type": "markdown",
   "metadata": {},
   "source": [
    "|一般字符 |含义     |解释   |\n",
    "|---------|-----------|--------|\n",
    "| `.`    |匹配除换行符之外的任何字符|re.DOTALL模式下匹配包括换行符在内的任何字符|\n",
    "| `\\`|转义字符，使后一个字符改变原来(正则表达式)的意思|\n",
    "| `[...]`|字符集，对应的位置可以是字符集中任意字符，字符集中的字符可以逐个列出，也可以给出范围，第一个字符如果是`^`则取反||"
   ]
  },
  {
   "cell_type": "markdown",
   "metadata": {},
   "source": [
    "|预定义字符 |含义     |解释   |\n",
    "|---------|-----------|--------|\n",
    "| `\\d`|数字`[0-9]`||\n",
    "| `\\D`|非数字`[^0-9]`||\n",
    "| `\\s`|空白字符`[<空格>\\t\\r\\n\\f\\v]`||\n",
    "| `\\S`|非空白字符`[^\\s]`||\n",
    "| `\\w`|字母，数字，汉字`[a-zA-Z0-9]`||\n",
    "| `\\W`|非单词字母`[^\\w]`||\n",
    "| `\\b`|匹配单词的开始或结束||\n",
    "| `\\B`|匹配不是单词开头或结束的位置||"
   ]
  },
  {
   "cell_type": "markdown",
   "metadata": {},
   "source": [
    "|边界匹配符|含义    |解释   |\n",
    "|--------|---------|--------|\n",
    "| `^`|匹配字符串的开头|re.MULTILINE模式下匹配每一行的开头|\n",
    "| `$`|匹配字符串的结尾|re.MULTILINE模式下匹配每一行的结尾|"
   ]
  },
  {
   "cell_type": "markdown",
   "metadata": {},
   "source": [
    "| 重复限定符|含义|解释|\n",
    "|:----------|:----|:----|\n",
    "| `?`|匹配前面的正则表达式0或1次|重复限定符|\n",
    "| `*`|匹配前面的正则表达式0次或多次|重复限定符|\n",
    "| `+`|匹配前面的正则表达式1次或多次|重复限定符|\n",
    "| `{m}`|匹配前面的正则表达式m次||\n",
    "| `{m,}`|匹配前面的正则表达式m次或更多次||\n",
    "| `{m, n}`|匹配前面的正则表达式m至n次||\n",
    "| `??`|`?`的非贪婪模式||\n",
    "| `*?`|`*`的非贪婪模式||\n",
    "| `+?`|`+`的非贪婪模式||\n",
    "| `{m}?`|`{m}`的非贪婪模式||\n",
    "| `{m,}?`|`{m,}`的非贪婪模式||\n",
    "| `{m, n}?`|`{m, n}`的非贪婪模式||"
   ]
  },
  {
   "cell_type": "markdown",
   "metadata": {},
   "source": [
    "| 逻辑或（分支条件）   |含义|解释|\n",
    "|-----------|----|----|\n",
    "|竖杆     | 先尝试匹配左边的表达式，匹配成功后则跳过右边的表达式，否则尝试匹配右边的表达式||"
   ]
  },
  {
   "cell_type": "markdown",
   "metadata": {},
   "source": [
    "| 分组   |含义|解释|\n",
    "|-----------|----|----|\n",
    "| `(...)`| 被括号括起来的表达式将作为分组，从表达式左边开始每遇到一个分组的左括号，编号+1||\n",
    "| `\\<number>`|引用编号为<number>的分组匹配到的字符串||"
   ]
  },
  {
   "cell_type": "markdown",
   "metadata": {},
   "source": [
    "| 万能匹配字符   |含义|解释|\n",
    "|-----------|----|----|\n",
    "| `.*`| 万能匹配贪婪模式||\n",
    "| `.*?`|万能匹配非贪婪模式||"
   ]
  },
  {
   "cell_type": "markdown",
   "metadata": {},
   "source": [
    "# 2.`re`模块"
   ]
  },
  {
   "cell_type": "markdown",
   "metadata": {},
   "source": [
    "## 2.1 模块内容\n",
    "\n",
    "* 匹配修饰符\n",
    "    - re.A\n",
    "         - re.ASCII\n",
    "    - re.DEBUG\n",
    "    - re.I\n",
    "        - re.IGNORECASE\n",
    "    - re.L\n",
    "        - re.LOCALE\n",
    "    - re.M\n",
    "        - re.MULTILINE\n",
    "    - re.S\n",
    "        - re.DOTALL\n",
    "    - re.X\n",
    "        - re.VERBOSE\n",
    "* 匹配函数\n",
    "    - `re.match()`\n",
    "    - `re.search()`\n",
    "    - re.fullmatch()\n",
    "    - `re.split()`\n",
    "    - `re.findall()`\n",
    "    - `re.finditer()`\n",
    "    - `re.sub()`\n",
    "    - `re.subn()`\n",
    "    - re.escape()\n",
    "    - re.purge()\n",
    "* exception \n",
    "    - re.error(msg, pattern = None, pos = None)\n",
    "        - msg\n",
    "        - pattern\n",
    "        - pos\n",
    "        - lineno\n",
    "        - colno\n",
    "* 正则表达式对象\n",
    "    - Pattern对象\n",
    "        - Pattern = re.compile(pattern, flags = 0)\n",
    "    - Pattern对象属性\n",
    "        - Pattern.flags\n",
    "        - Pattern.groups\n",
    "        - Pattern.groupindex\n",
    "        - Pattern.pattern\n",
    "    - Pattern对象方法\n",
    "        - MatchObj = Pattern.search(string, pos, endpos)\n",
    "        - MatchObj = Pattern.match(string, pos, endpos)\n",
    "        - MatchObj = Pattern.fullmatch(string, pos, endpos)\n",
    "        - MatchObj = Pattern.split(string, maxsplit = 0)\n",
    "        - MatchObj = Pattern.findall(string, pos, endpos)\n",
    "        - MatchObj = Pattern.finditer(string, pos, endpos)\n",
    "        - MatchObj = Pattern.sub(repl, string, count = 0)\n",
    "        - MatchObj = Pattern.subn(repl, string, count = 0)\n",
    "            - Match Object\n",
    "                - 方法\n",
    "                    - Match.expand(template)\n",
    "                    - Match.group()\n",
    "                    - `Match.__getitem__(g)`\n",
    "                    - Match.groups()\n",
    "                    - Match.groupdict()\n",
    "                    - Match.start()\n",
    "                    - Match.end()\n",
    "                    - Match.span()\n",
    "                - 属性\n",
    "                    - Match.pos\n",
    "                    - Match.endpos\n",
    "                    - Match.lastindex\n",
    "                    - Match.lastgroup\n",
    "                    - Match.re\n",
    "                    - Match.string\n",
    "\n",
    "\n",
    "\n",
    "\n"
   ]
  },
  {
   "cell_type": "markdown",
   "metadata": {},
   "source": [
    "# 3.函数，方法"
   ]
  },
  {
   "cell_type": "markdown",
   "metadata": {},
   "source": [
    "## 3.1 `re.match()`, `re.search()`\n",
    "\n",
    "* 单行模式\n",
    "    * re.match()\n",
    "        - 仅从字符串开头进行匹配，开头匹配不到就返回None\n",
    "    * re.search()\n",
    "        - 可以在字符串中的任意位置进行匹配\n",
    "    * re.search('^')\n",
    "        - 同re.match()\n",
    "* 多行模式\n",
    "    * re.match(re.MULTILINE)\n",
    "        - 多行模式下，仅从第一行字符串开头进行匹配，开头匹配不到就返回None\n",
    "    * re.search('', re.MULTILINE)\n",
    "        - 多行模式下，可以从多行的字符串的任意位置进行匹配\n",
    "    * re.search('^', re.MULTILINE)\n",
    "        - 多行模式下，可以从多行的字符串的开头进行匹配"
   ]
  },
  {
   "cell_type": "markdown",
   "metadata": {},
   "source": [
    "# 4. 例子"
   ]
  }
 ],
 "metadata": {
  "kernelspec": {
   "display_name": "Python 3",
   "language": "python",
   "name": "python3"
  },
  "language_info": {
   "codemirror_mode": {
    "name": "ipython",
    "version": 3
   },
   "file_extension": ".py",
   "mimetype": "text/x-python",
   "name": "python",
   "nbconvert_exporter": "python",
   "pygments_lexer": "ipython3",
   "version": "3.6.5"
  }
 },
 "nbformat": 4,
 "nbformat_minor": 2
}
