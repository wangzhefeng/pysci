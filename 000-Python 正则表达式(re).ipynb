{
 "cells": [
  {
   "cell_type": "markdown",
   "metadata": {},
   "source": [
    "* 小数：`r'\\d+(\\.\\d*)?'`\n",
    "* 运算符：`r'[+-*/]'`"
   ]
  },
  {
   "cell_type": "code",
   "execution_count": 1,
   "metadata": {},
   "outputs": [],
   "source": [
    "import re"
   ]
  },
  {
   "cell_type": "markdown",
   "metadata": {},
   "source": [
    "* `re`中的正则表达式与Perl中的正则表达式匹配操作类似；\n",
    "* 在正则表达式匹配中，要搜索的模式字符串和被匹配的字符串可以是Unicode字符串(str)或者8位字节码(8-bit)字符串(bytes),但是两种类型不能混合使用，即搜索的字符串和被匹配的字符串必须是上面两种类型中的一种；\n",
    "* 正则表达式中的反义字符：`\\`\n",
    "    - `\\`: `\\\\\\\\`\n",
    "    - `\\`: `r'\\'`\n",
    "    - `\\n`: `r'\\n'`"
   ]
  },
  {
   "cell_type": "markdown",
   "metadata": {},
   "source": [
    "# 1. 正则表达式语法\n",
    "\n",
    "## 1.1 语法\n",
    "\n",
    "* 正则表达式可以进行合并\n",
    "    - `A`是一个正则表达式，`B`也是一个正则表达式，合并起来的`AB`同样也是一个正则表达式；\n",
    "    - 如果一个字符串`p`能够与正则表达式`A`匹配，字符串`q`能够与正则表达式`B`匹配，那么字符串`pq`一般也能与正则表达式`AB`匹配，除非`A`或`B`包含低优先级操作；\n",
    "    - 复杂的正则表达式可以用简单的正则表达式构造；\n",
    "* 正则表达式元字符可以包含特殊字符和普通字符\n",
    "    - 普通字符：只匹配自己，可以连接普通字符\n",
    "        - `A`\n",
    "        - `a`\n",
    "        - `0`\n",
    "        - `last`\n",
    "    - 特殊字符：代表普通字符的类，影响普通字符周围的正则表达式的解释方式\n",
    "        - `|`\n",
    "        - `(`\n",
    "        * 重复限定符：不能直接嵌套，避免非贪婪修饰符后缀(`?`)的模糊性,以及其他修饰符，为了对内部重复应用第二次重复，可以使用括号。\n",
    "            - `*`\n",
    "            - `+`\n",
    "            - `?`\n",
    "            - `{m, n}`\n",
    "* 正则表达式模式\n",
    "    - 默认模式\n",
    "    - 贪婪模式\n",
    "    - 非贪婪模式"
   ]
  },
  {
   "cell_type": "markdown",
   "metadata": {},
   "source": [
    "## 1.2 元字符"
   ]
  },
  {
   "cell_type": "markdown",
   "metadata": {},
   "source": [
    "|一般字符 |含义     |解释   |\n",
    "|---------|-----------|--------|\n",
    "| `.`    |匹配除换行符之外的任何字符|re.DOTALL模式下匹配包括换行符在内的任何字符|\n",
    "| `\\`|转义字符，使后一个字符改变原来(正则表达式)的意思|\n",
    "| `[...]`|字符集，对应的位置可以是字符集中任意字符，字符集中的字符可以逐个列出，也可以给出范围，第一个字符如果是`^`则取反||"
   ]
  },
  {
   "cell_type": "markdown",
   "metadata": {},
   "source": [
    "|预定义字符 |含义     |解释   |\n",
    "|---------|-----------|--------|\n",
    "| `\\d`|数字`[0-9]`||\n",
    "| `\\D`|非数字`[^0-9]`||\n",
    "| `\\s`|空白字符`[<空格>\\t\\r\\n\\f\\v]`||\n",
    "| `\\S`|非空白字符`[^\\s]`||\n",
    "| `\\w`|字母`[a-zA-Z0-9]`||\n",
    "| `\\W`|非单词字母`[^\\w]`||"
   ]
  },
  {
   "cell_type": "markdown",
   "metadata": {},
   "source": [
    "|边界匹配符|含义    |解释   |\n",
    "|--------|---------|--------|\n",
    "| `^`|匹配字符串的开头|re.MULTILINE模式下匹配每一行的开头|\n",
    "| `$`|匹配字符串的结尾|re.MULTILINE模式下匹配每一行的结尾|"
   ]
  },
  {
   "cell_type": "markdown",
   "metadata": {},
   "source": [
    "| 重复限定符|含义|解释|\n",
    "|:----------|:----|:----|\n",
    "| `?`|匹配`?`前面的正则表达式0或1次|重复限定符|\n",
    "| `*`|匹配`*`前面的正则表达式0次或多次|重复限定符|\n",
    "| `+`|匹配`+`前面的正则表达式1次或多次|重复限定符|\n",
    "| `{m}`|匹配前面的正则表达式m次||\n",
    "| `{m, n}`|匹配前面的正则表达式m至n次||\n",
    "| `??`|`?`的非贪婪模式||\n",
    "| `*?`|`*`的非贪婪模式||\n",
    "| `+?`|`+`的非贪婪模式||\n",
    "| `{m}?`|`{m}`的非贪婪模式||\n",
    "| `{m, n}?`|`{m, n}`的非贪婪模式||"
   ]
  },
  {
   "cell_type": "markdown",
   "metadata": {},
   "source": [
    "| 逻辑或   |含义|解释|\n",
    "|-----------|----|:----|\n",
    "|竖杆     | 先尝试匹配左边的表达式，匹配成功后则跳过右边的表达式，否则尝试匹配右边的表达式||"
   ]
  },
  {
   "cell_type": "markdown",
   "metadata": {},
   "source": [
    "| 分组   |含义|解释|\n",
    "|-----------|----|----|\n",
    "| `(...)`| 被括号括起来的表达式将作为分组，从表达式左边开始每遇到一个分组的左括号，编号+1||\n",
    "| `\\<number>`|引用编号为<number>的分组匹配到的字符串||"
   ]
  },
  {
   "cell_type": "markdown",
   "metadata": {},
   "source": [
    "| 万能匹配字符   |含义|解释|\n",
    "|-----------|----|----|\n",
    "| `.*`| 万能匹配贪婪模式||\n",
    "| `.*?`|万能匹配非贪婪模式||"
   ]
  },
  {
   "cell_type": "markdown",
   "metadata": {},
   "source": [
    "# 2.`re`模块"
   ]
  },
  {
   "cell_type": "markdown",
   "metadata": {},
   "source": [
    "## 2.1 模块内容\n",
    "\n",
    "* 匹配修饰符\n",
    "    - re.A\n",
    "         - re.ASCII\n",
    "    - re.DEBUG\n",
    "    - re.I\n",
    "        - re.IGNORECASE\n",
    "    - re.L\n",
    "        - re.LOCALE\n",
    "    - re.M\n",
    "        - re.MULTILINE\n",
    "    - re.S\n",
    "        - re.DOTALL\n",
    "    - re.X\n",
    "        - re.VERBOSE\n",
    "* 匹配函数\n",
    "    - `re.match()`\n",
    "    - `re.search()`\n",
    "    - re.fullmatch()\n",
    "    - `re.split()`\n",
    "    - `re.findall()`\n",
    "    - `re.finditer()`\n",
    "    - `re.sub()`\n",
    "    - `re.subn()`\n",
    "    - re.escape()\n",
    "    - re.purge()\n",
    "* exception \n",
    "    - re.error(msg, pattern = None, pos = None)\n",
    "        - msg\n",
    "        - pattern\n",
    "        - pos\n",
    "        - lineno\n",
    "        - colno\n",
    "* 正则表达式对象\n",
    "    - Pattern对象\n",
    "        - Pattern = re.compile(pattern, flags = 0)\n",
    "    - 属性\n",
    "        - Pattern.flags\n",
    "        - Pattern.groups\n",
    "        - Pattern.groupindex\n",
    "        - Pattern.pattern\n",
    "    - 方法\n",
    "        - MatchObj = Pattern.search(string, pos, endpos)\n",
    "        - MatchObj = Pattern.match(string, pos, endpos)\n",
    "        - MatchObj = Pattern.fullmatch(string, pos, endpos)\n",
    "        - MatchObj = Pattern.split(string, maxsplit = 0)\n",
    "        - MatchObj = Pattern.findall(string, pos, endpos)\n",
    "        - MatchObj = Pattern.finditer(string, pos, endpos)\n",
    "        - MatchObj = Pattern.sub(repl, string, count = 0)\n",
    "        - MatchObj = Pattern.subn(repl, string, count = 0)\n",
    "            - Match Object\n",
    "                - 方法\n",
    "                    - Match.expand(template)\n",
    "                    - Match.group()\n",
    "                    - `Match.__getitem__(g)`\n",
    "                    - Match.groups()\n",
    "                    - Match.groupdict()\n",
    "                    - Match.start()\n",
    "                    - Match.end()\n",
    "                    - Match.span()\n",
    "                - 属性\n",
    "                    - Match.pos\n",
    "                    - Match.endpos\n",
    "                    - Match.lastindex\n",
    "                    - Match.lastgroup\n",
    "                    - Match.re\n",
    "                    - Match.string\n",
    "\n",
    "\n",
    "\n",
    "\n"
   ]
  },
  {
   "cell_type": "markdown",
   "metadata": {},
   "source": [
    "# 3. 例子"
   ]
  },
  {
   "cell_type": "markdown",
   "metadata": {},
   "source": [
    "#### `re.match()`"
   ]
  },
  {
   "cell_type": "code",
   "execution_count": 19,
   "metadata": {
    "scrolled": true
   },
   "outputs": [
    {
     "name": "stdout",
     "output_type": "stream",
     "text": [
      "<Match: 'akt5q', groups = ()>\n",
      "None\n",
      "None\n",
      "<Match: '727ak', groups = ()>\n"
     ]
    }
   ],
   "source": [
    "def displaymatch(match):\n",
    "    if match is None:\n",
    "        return None\n",
    "    return '<Match: %r, groups = %r>'% (match.group(), match.groups())\n",
    "\n",
    "# 牌的有效性\n",
    "valid = re.compile(r'^[2-9atjqk]{5}$')\n",
    "print(displaymatch(valid.match('akt5q')))\n",
    "print(displaymatch(valid.match('akt5e')))\n",
    "print(displaymatch(valid.match('akt')))\n",
    "print(displaymatch(valid.match('727ak')))"
   ]
  },
  {
   "cell_type": "code",
   "execution_count": 20,
   "metadata": {},
   "outputs": [
    {
     "name": "stdout",
     "output_type": "stream",
     "text": [
      "<Match: '717', groups = ('7',)>\n",
      "<Match: '354aa', groups = ('a',)>\n"
     ]
    }
   ],
   "source": [
    "# 特殊牌\n",
    "pair = re.compile(r'.*(.).*\\1')\n",
    "print(displaymatch(pair.match('717ak')))\n",
    "print(displaymatch(pair.match('354aa')))"
   ]
  },
  {
   "cell_type": "code",
   "execution_count": 26,
   "metadata": {},
   "outputs": [
    {
     "name": "stdout",
     "output_type": "stream",
     "text": [
      "7\n",
      "\n",
      "AttributeError:  'NoneType' object has no attribute 'group'\n",
      "\n",
      "a\n"
     ]
    }
   ],
   "source": [
    "print(pair.match('717ak').group(1))\n",
    "print()\n",
    "\n",
    "try: \n",
    "    pair.match('718ak').group(1)\n",
    "except :\n",
    "    print('AttributeError: ', \"'NoneType' object has no attribute 'group'\")\n",
    "\n",
    "print()\n",
    "print(pair.match('354aa').group(1))"
   ]
  },
  {
   "cell_type": "markdown",
   "metadata": {},
   "source": [
    "#### `re.match()`, `re.search()`\n",
    "\n",
    "* 单行模式\n",
    "    * re.match()\n",
    "        - 仅从字符串开头进行匹配，开头匹配不到就返回None\n",
    "    * re.search()\n",
    "        - 可以在字符串中的任意位置进行匹配\n",
    "    * re.search('^')\n",
    "        - 同re.match()\n",
    "* 多行模式\n",
    "    * re.match(re.MULTILINE)\n",
    "        - 多行模式下，仅从第一行字符串开头进行匹配，开头匹配不到就返回None\n",
    "    * re.search('', re.MULTILINE)\n",
    "        - 多行模式下，可以从多行的字符串的任意位置进行匹配\n",
    "    * re.search('^', re.MULTILINE)\n",
    "        - 多行模式下，可以从多行的字符串的开头进行匹配"
   ]
  },
  {
   "cell_type": "code",
   "execution_count": 27,
   "metadata": {},
   "outputs": [],
   "source": [
    "re.match('c', 'abcdef')"
   ]
  },
  {
   "cell_type": "code",
   "execution_count": 28,
   "metadata": {},
   "outputs": [
    {
     "data": {
      "text/plain": [
       "<_sre.SRE_Match object; span=(2, 3), match='c'>"
      ]
     },
     "execution_count": 28,
     "metadata": {},
     "output_type": "execute_result"
    }
   ],
   "source": [
    "re.search('c', 'abcde')"
   ]
  },
  {
   "cell_type": "code",
   "execution_count": 31,
   "metadata": {},
   "outputs": [],
   "source": [
    "re.search('^c', 'abcdef')"
   ]
  },
  {
   "cell_type": "code",
   "execution_count": 32,
   "metadata": {},
   "outputs": [
    {
     "data": {
      "text/plain": [
       "<_sre.SRE_Match object; span=(0, 1), match='a'>"
      ]
     },
     "execution_count": 32,
     "metadata": {},
     "output_type": "execute_result"
    }
   ],
   "source": [
    "re.search('^a', 'abcde')"
   ]
  },
  {
   "cell_type": "code",
   "execution_count": 33,
   "metadata": {},
   "outputs": [],
   "source": [
    "re.match('X', 'A\\nB\\nX')"
   ]
  },
  {
   "cell_type": "code",
   "execution_count": 34,
   "metadata": {},
   "outputs": [
    {
     "data": {
      "text/plain": [
       "<_sre.SRE_Match object; span=(4, 5), match='X'>"
      ]
     },
     "execution_count": 34,
     "metadata": {},
     "output_type": "execute_result"
    }
   ],
   "source": [
    "re.search('X', 'A\\nB\\nX')"
   ]
  },
  {
   "cell_type": "markdown",
   "metadata": {},
   "source": [
    "#### `re.split()`"
   ]
  },
  {
   "cell_type": "code",
   "execution_count": 51,
   "metadata": {},
   "outputs": [
    {
     "data": {
      "text/plain": [
       "['Ross McFluff: 834.345.1254 155 Elm Street',\n",
       " 'Ronald Heathmore: 892.345.3428 436 Finley Avenue',\n",
       " 'Frank Burger: 925.541.7625 662 South Dogwood Way',\n",
       " 'Heather Albrecht: 548.326.4584 919 Park Place']"
      ]
     },
     "execution_count": 51,
     "metadata": {},
     "output_type": "execute_result"
    }
   ],
   "source": [
    "text = \"\"\"Ross McFluff: 834.345.1254 155 Elm Street\n",
    "\n",
    "Ronald Heathmore: 892.345.3428 436 Finley Avenue\n",
    "Frank Burger: 925.541.7625 662 South Dogwood Way\n",
    "\n",
    "\n",
    "Heather Albrecht: 548.326.4584 919 Park Place\"\"\"\n",
    "\n",
    "entries = re.split('\\n+', text)\n",
    "entries"
   ]
  },
  {
   "cell_type": "code",
   "execution_count": 44,
   "metadata": {},
   "outputs": [
    {
     "name": "stderr",
     "output_type": "stream",
     "text": [
      "D:\\Anaconda3\\lib\\re.py:212: FutureWarning: split() requires a non-empty pattern match.\n",
      "  return _compile(pattern, flags).split(string, maxsplit)\n"
     ]
    },
    {
     "data": {
      "text/plain": [
       "[['Ross McFluff', ' 834.345.1254 155 Elm Street'],\n",
       " ['Ronald Heathmore', ' 892.345.3428 436 Finley Avenue'],\n",
       " ['Frank Burger', ' 925.541.7625 662 South Dogwood Way'],\n",
       " ['Heather Albrecht', ' 548.326.4584 919 Park Place']]"
      ]
     },
     "execution_count": 44,
     "metadata": {},
     "output_type": "execute_result"
    }
   ],
   "source": [
    "[re.split(':?', entry, 4) for entry in entries]"
   ]
  },
  {
   "cell_type": "code",
   "execution_count": 55,
   "metadata": {},
   "outputs": [
    {
     "data": {
      "text/plain": [
       "[['Ross', 'McFluff', '834.345.1254', '155 Elm Street'],\n",
       " ['Ronald', 'Heathmore', '892.345.3428', '436 Finley Avenue'],\n",
       " ['Frank', 'Burger', '925.541.7625', '662 South Dogwood Way'],\n",
       " ['Heather', 'Albrecht', '548.326.4584', '919 Park Place']]"
      ]
     },
     "execution_count": 55,
     "metadata": {},
     "output_type": "execute_result"
    }
   ],
   "source": [
    "[re.split(\":? \", entry, 3) for entry in entries]"
   ]
  },
  {
   "cell_type": "code",
   "execution_count": 57,
   "metadata": {},
   "outputs": [
    {
     "data": {
      "text/plain": [
       "[['Ross', 'McFluff', '834.345.1254', '155', 'Elm Street'],\n",
       " ['Ronald', 'Heathmore', '892.345.3428', '436', 'Finley Avenue'],\n",
       " ['Frank', 'Burger', '925.541.7625', '662', 'South Dogwood Way'],\n",
       " ['Heather', 'Albrecht', '548.326.4584', '919', 'Park Place']]"
      ]
     },
     "execution_count": 57,
     "metadata": {},
     "output_type": "execute_result"
    }
   ],
   "source": [
    "[re.split(\":?\", entry, 4) for entry in entries]\n",
    "[re.split(\":? \", entry, 3) for entry in entries]"
   ]
  },
  {
   "cell_type": "markdown",
   "metadata": {},
   "source": [
    "#### `re.sub()`"
   ]
  },
  {
   "cell_type": "code",
   "execution_count": 78,
   "metadata": {},
   "outputs": [
    {
     "data": {
      "text/plain": [
       "'Pooesfrsr Ambdalelok, pelsae rerpot your aecbesns polmtrpy.'"
      ]
     },
     "execution_count": 78,
     "metadata": {},
     "output_type": "execute_result"
    }
   ],
   "source": [
    "import random\n",
    "def repl(m):\n",
    "    inner_word = list(m.group(2))\n",
    "    random.shuffle(inner_word)\n",
    "    return m.group(1) + \"\".join(inner_word) + m.group(3)\n",
    "text = \"Professor Abdolmalek, please report your absences promptly.\"\n",
    "re.sub(r\"(\\w)(\\w+)(\\w)\", repl, text)"
   ]
  },
  {
   "cell_type": "markdown",
   "metadata": {},
   "source": [
    "#### `re.findall()`"
   ]
  },
  {
   "cell_type": "code",
   "execution_count": 75,
   "metadata": {},
   "outputs": [
    {
     "data": {
      "text/plain": [
       "['carefully', 'quickly']"
      ]
     },
     "execution_count": 75,
     "metadata": {},
     "output_type": "execute_result"
    }
   ],
   "source": [
    "text = \"He was carefully disguised but captured quickly by police.\"\n",
    "re.findall(r'\\w+ly', text)"
   ]
  },
  {
   "cell_type": "markdown",
   "metadata": {},
   "source": [
    "#### `re.finditer()`"
   ]
  },
  {
   "cell_type": "code",
   "execution_count": 77,
   "metadata": {},
   "outputs": [
    {
     "name": "stdout",
     "output_type": "stream",
     "text": [
      "07-16: carefully\n",
      "40-47: quickly\n"
     ]
    }
   ],
   "source": [
    "text = \"He was carefully disguised but captured quickly by police.\"\n",
    "for m in re.finditer(r'\\w+ly', text):\n",
    "    print('%02d-%02d: %s' % (m.start(), m.end(), m.group(0)))"
   ]
  },
  {
   "cell_type": "markdown",
   "metadata": {},
   "source": [
    "#### `r(\\)`"
   ]
  },
  {
   "cell_type": "code",
   "execution_count": 81,
   "metadata": {},
   "outputs": [
    {
     "data": {
      "text/plain": [
       "<_sre.SRE_Match object; span=(0, 4), match=' ff '>"
      ]
     },
     "execution_count": 81,
     "metadata": {},
     "output_type": "execute_result"
    }
   ],
   "source": [
    "re.match(r'\\W(.)\\1\\W', ' ff ')"
   ]
  },
  {
   "cell_type": "code",
   "execution_count": 82,
   "metadata": {},
   "outputs": [
    {
     "data": {
      "text/plain": [
       "<_sre.SRE_Match object; span=(0, 4), match=' ff '>"
      ]
     },
     "execution_count": 82,
     "metadata": {},
     "output_type": "execute_result"
    }
   ],
   "source": [
    "re.match('\\\\W(.)\\\\1\\\\W', ' ff ')"
   ]
  },
  {
   "cell_type": "code",
   "execution_count": 83,
   "metadata": {},
   "outputs": [
    {
     "data": {
      "text/plain": [
       "<_sre.SRE_Match object; span=(0, 1), match='\\\\'>"
      ]
     },
     "execution_count": 83,
     "metadata": {},
     "output_type": "execute_result"
    }
   ],
   "source": [
    "re.match(r'\\\\', r'\\\\')"
   ]
  },
  {
   "cell_type": "code",
   "execution_count": 84,
   "metadata": {},
   "outputs": [
    {
     "data": {
      "text/plain": [
       "<_sre.SRE_Match object; span=(0, 1), match='\\\\'>"
      ]
     },
     "execution_count": 84,
     "metadata": {},
     "output_type": "execute_result"
    }
   ],
   "source": [
    "re.match('\\\\\\\\', r'\\\\')"
   ]
  },
  {
   "cell_type": "code",
   "execution_count": 89,
   "metadata": {},
   "outputs": [],
   "source": [
    "import collections\n",
    "import re\n",
    "\n",
    "Token = collections.namedtuple('Token', ['type', 'value', 'line', 'column'])\n",
    "\n",
    "def tokenize(code):\n",
    "    keywords = {'IF', 'THEN', 'ENDIF', 'FOR', 'NEXT', 'GOSUB', 'RETURN'}\n",
    "    token_specification = [\n",
    "        ('NUMBER', r'\\d+(\\.\\d*)?'),\n",
    "        ('ASSIGN', r':='),\n",
    "        ('END', r';'),\n",
    "        ('ID', r'[A-Za-z]+'),\n",
    "        ('OP', r'[+\\-*/]'),\n",
    "        ('NEWLINE', r'\\n'),\n",
    "        ('SKIP', r'[ \\t]+'),\n",
    "        ('MISMATCH', r'.'),\n",
    "    ]\n",
    "    tok_regex = '|'.join('?P<%s>%s' % pair for pair in token_specification) \n",
    "    line_num = 1\n",
    "    line_start = 0\n",
    "    for mo in re.finditer(tok_regex, code):\n",
    "        pass"
   ]
  },
  {
   "cell_type": "code",
   "execution_count": null,
   "metadata": {},
   "outputs": [],
   "source": []
  }
 ],
 "metadata": {
  "kernelspec": {
   "display_name": "Python 3",
   "language": "python",
   "name": "python3"
  },
  "language_info": {
   "codemirror_mode": {
    "name": "ipython",
    "version": 3
   },
   "file_extension": ".py",
   "mimetype": "text/x-python",
   "name": "python",
   "nbconvert_exporter": "python",
   "pygments_lexer": "ipython3",
   "version": "3.6.5"
  }
 },
 "nbformat": 4,
 "nbformat_minor": 2
}
