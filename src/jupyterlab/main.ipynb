{
 "cells": [
  {
   "cell_type": "code",
   "execution_count": 1,
   "metadata": {
    "slideshow": {
     "slide_type": "slide"
    }
   },
   "outputs": [
    {
     "name": "stdout",
     "output_type": "stream",
     "text": [
      "Package               Version\n",
      "--------------------- ---------\n",
      "alabaster             0.7.12\n",
      "appnope               0.1.0\n",
      "argon2-cffi           20.1.0\n",
      "async-generator       1.10\n",
      "attrs                 20.1.0\n",
      "Babel                 2.8.0\n",
      "backcall              0.2.0\n",
      "bleach                3.1.5\n",
      "certifi               2020.6.20\n",
      "cffi                  1.14.2\n",
      "chardet               3.0.4\n",
      "cmdstanpy             0.9.5\n",
      "convertdate           2.2.1\n",
      "cycler                0.10.0\n",
      "Cython                0.29.21\n",
      "decorator             4.4.2\n",
      "defusedxml            0.6.0\n",
      "docutils              0.16\n",
      "entrypoints           0.3\n",
      "ephem                 3.7.7.1\n",
      "et-xmlfile            1.0.1\n",
      "fbprophet             0.7\n",
      "graphviz              0.14.2\n",
      "holidays              0.10.3\n",
      "idna                  2.10\n",
      "imagesize             1.2.0\n",
      "ipykernel             5.3.4\n",
      "ipython               7.18.0\n",
      "ipython-genutils      0.2.0\n",
      "ipywidgets            7.5.1\n",
      "jdcal                 1.4.1\n",
      "jedi                  0.17.2\n",
      "Jinja2                2.11.2\n",
      "joblib                0.16.0\n",
      "json5                 0.9.5\n",
      "jsonschema            3.2.0\n",
      "jupyter               1.0.0\n",
      "jupyter-client        6.1.7\n",
      "jupyter-console       6.2.0\n",
      "jupyter-core          4.6.3\n",
      "jupyter-server        0.1.1\n",
      "jupyterlab            2.2.6\n",
      "jupyterlab-pygments   0.1.1\n",
      "jupyterlab-server     1.2.0\n",
      "kiwisolver            1.2.0\n",
      "korean-lunar-calendar 0.2.1\n",
      "lightgbm              3.0.0\n",
      "livereload            2.6.3\n",
      "LunarCalendar         0.0.9\n",
      "MarkupSafe            1.1.1\n",
      "matplotlib            3.3.1\n",
      "mistune               0.8.4\n",
      "mpmath                1.1.0\n",
      "nbconvert             5.6.1\n",
      "nbformat              5.0.7\n",
      "nose                  1.3.7\n",
      "notebook              6.1.3\n",
      "numpy                 1.19.1\n",
      "openpyxl              3.0.5\n",
      "packaging             20.4\n",
      "pandas                1.1.1\n",
      "pandocfilters         1.4.2\n",
      "parso                 0.7.1\n",
      "patsy                 0.5.1\n",
      "pexpect               4.8.0\n",
      "pickleshare           0.7.5\n",
      "Pillow                7.2.0\n",
      "pip                   20.2.2\n",
      "plotly                4.9.0\n",
      "prometheus-client     0.8.0\n",
      "prompt-toolkit        3.0.6\n",
      "ptyprocess            0.6.0\n",
      "pycparser             2.20\n",
      "Pygments              2.6.1\n",
      "PyMeeus               0.3.7\n",
      "pyparsing             2.4.7\n",
      "pyrsistent            0.16.0\n",
      "pystan                2.19.1.1\n",
      "python-dateutil       2.8.1\n",
      "pytz                  2020.1\n",
      "PyWavelets            1.1.1\n",
      "pyzmq                 19.0.2\n",
      "qtconsole             4.7.6\n",
      "QtPy                  1.9.0\n",
      "requests              2.24.0\n",
      "retrying              1.3.3\n",
      "rstcheck              3.3.1\n",
      "scikit-learn          0.23.2\n",
      "scipy                 1.5.2\n",
      "seaborn               0.10.1\n",
      "Send2Trash            1.5.0\n",
      "setuptools            49.6.0\n",
      "setuptools-git        1.2\n",
      "seuif97               1.1.0.7\n",
      "six                   1.15.0\n",
      "snowballstemmer       2.0.0\n",
      "statsmodels           0.12.0\n",
      "sympy                 1.6.2\n",
      "terminado             0.8.3\n",
      "testpath              0.4.4\n",
      "threadpoolctl         2.1.0\n",
      "tornado               6.0.4\n",
      "tqdm                  4.48.2\n",
      "traitlets             4.3.3\n",
      "urllib3               1.25.10\n",
      "voila                 0.1.22\n",
      "wcwidth               0.2.5\n",
      "webencodings          0.5.1\n",
      "wheel                 0.35.1\n",
      "widgetsnbextension    3.5.1\n",
      "xgboost               1.2.0\n",
      "xlrd                  1.2.0\n",
      "\u001b[33mWARNING: You are using pip version 20.2.2; however, version 20.3.3 is available.\n",
      "You should consider upgrading via the '/Users/zfwang/.virtualenv/pysci/bin/python -m pip install --upgrade pip' command.\u001b[0m\n"
     ]
    }
   ],
   "source": [
    "!pip list"
   ]
  },
  {
   "cell_type": "code",
   "execution_count": 2,
   "metadata": {},
   "outputs": [
    {
     "name": "stdout",
     "output_type": "stream",
     "text": [
      "pip 20.2.2 from /Users/zfwang/.virtualenv/pysci/lib/python3.8/site-packages/pip (python 3.8)\n"
     ]
    }
   ],
   "source": [
    "!pip -V"
   ]
  },
  {
   "cell_type": "code",
   "execution_count": null,
   "metadata": {},
   "outputs": [],
   "source": []
  }
 ],
 "metadata": {
  "kernelspec": {
   "display_name": "Python 3",
   "language": "python",
   "name": "python3"
  },
  "language_info": {
   "codemirror_mode": {
    "name": "ipython",
    "version": 3
   },
   "file_extension": ".py",
   "mimetype": "text/x-python",
   "name": "python",
   "nbconvert_exporter": "python",
   "pygments_lexer": "ipython3",
   "version": "3.8.5"
  }
 },
 "nbformat": 4,
 "nbformat_minor": 4
}
