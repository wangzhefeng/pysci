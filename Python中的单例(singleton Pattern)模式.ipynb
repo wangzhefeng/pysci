{
 "cells": [
  {
   "cell_type": "markdown",
   "metadata": {},
   "source": [
    "# 目录\n",
    "\n",
    "* 单例模式介绍\n",
    "* Python实现单例模式的几种方式\n",
    "    - 使用模块\n",
    "    - 使用装饰器\n",
    "    - 实用类\n",
    "    - 基于`__new__`方法\n",
    "    - 基于`metaclass`方式实现\n",
    "        - 相关知识\n",
    "        - 实现单例模式"
   ]
  },
  {
   "cell_type": "markdown",
   "metadata": {},
   "source": [
    "## 单例模式"
   ]
  },
  {
   "cell_type": "markdown",
   "metadata": {},
   "source": [
    "* 单例模式(Singleton Pattern)：主要目的是确保某一个类(class)中只有一个实例(instance)存在，从而避免浪费内存资源；"
   ]
  },
  {
   "cell_type": "markdown",
   "metadata": {},
   "source": [
    "## Python实现单例模式的几种方式"
   ]
  },
  {
   "cell_type": "markdown",
   "metadata": {},
   "source": [
    "#### 1.使用模块\n",
    "\n",
    "* Python的模块就是天然的单例模式，因为模块第一次导入时，会生成`.pyc`文件，当第二次导入时，就会直接加载`.pyc`文件，而不会再次执行模块代码，因此，只需要把相关的函数和数据定义在一个模块中，就可以获得一个单例对象。"
   ]
  },
  {
   "cell_type": "markdown",
   "metadata": {},
   "source": [
    "#### 2.使用装饰器"
   ]
  },
  {
   "cell_type": "code",
   "execution_count": null,
   "metadata": {},
   "outputs": [],
   "source": [
    "def Singleton(cls):\n",
    "    _instance = {}\n",
    "    \n",
    "    def _singleton(*args, **kargs):\n",
    "        if cls not in _instance:\n",
    "            return _instance[cls]\n",
    "    return _singleton\n",
    "\n",
    "@Singleton\n",
    "class A(object):\n",
    "    a = 1\n",
    "    \n",
    "    def __init__(self, x = 0):\n",
    "        slef.x = x\n",
    "\n",
    "a1 = A(2)\n",
    "a2 = A(3)"
   ]
  },
  {
   "cell_type": "markdown",
   "metadata": {},
   "source": [
    "#### 3.使用类"
   ]
  },
  {
   "cell_type": "code",
   "execution_count": null,
   "metadata": {},
   "outputs": [],
   "source": [
    "class Singleton(object):\n",
    "    def __init__(self):\n",
    "        pass\n",
    "    \n",
    "    @classmethod\n",
    "    def instance(cls, *args, **kargs):\n",
    "        if not hasattr(Singleton, '_instance'):\n",
    "            Singleton._instance = Singelton(*args, **kargs)\n",
    "        return Singleton._instance"
   ]
  },
  {
   "cell_type": "markdown",
   "metadata": {},
   "source": [
    "#### 4.基于`__new__`"
   ]
  },
  {
   "cell_type": "markdown",
   "metadata": {},
   "source": [
    "#### 5.基于metaclass"
   ]
  },
  {
   "cell_type": "code",
   "execution_count": null,
   "metadata": {},
   "outputs": [],
   "source": []
  }
 ],
 "metadata": {
  "kernelspec": {
   "display_name": "Python 3",
   "language": "python",
   "name": "python3"
  },
  "language_info": {
   "codemirror_mode": {
    "name": "ipython",
    "version": 3
   },
   "file_extension": ".py",
   "mimetype": "text/x-python",
   "name": "python",
   "nbconvert_exporter": "python",
   "pygments_lexer": "ipython3",
   "version": "3.6.5"
  }
 },
 "nbformat": 4,
 "nbformat_minor": 2
}
