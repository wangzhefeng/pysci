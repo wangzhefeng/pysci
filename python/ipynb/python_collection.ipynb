{
 "cells": [
  {
   "cell_type": "markdown",
   "metadata": {},
   "source": [
    "# doc\n",
    "\n",
    "* collections.namedtuple\n",
    "    - tuple()\n",
    "* collections.deque\n",
    "    - list()\n",
    "* collections.defaultdict\n",
    "    - dict()\n",
    "* collections.OrderedDict\n",
    "    - dict()\n",
    "* collections.Counter"
   ]
  },
  {
   "cell_type": "code",
   "execution_count": 2,
   "metadata": {},
   "outputs": [],
   "source": [
    "from collections import *\n",
    "import collections"
   ]
  },
  {
   "cell_type": "code",
   "execution_count": 3,
   "metadata": {},
   "outputs": [],
   "source": [
    "from collections import namedtuple\n",
    "from collections import deque\n",
    "from collections import defaultdict\n",
    "from collections import OrderedDict\n",
    "from collections import Counter"
   ]
  },
  {
   "cell_type": "markdown",
   "metadata": {},
   "source": [
    "## 1.collections.namedtuple\n",
    "\n",
    "* `namedtuple` 用来创建一个自定义的 `tuple` 对象,并且规定了 `tuple` 元素的个数,并且可以用属性而不是索引来引用 `tuple` 的某个元素;"
   ]
  },
  {
   "cell_type": "markdown",
   "metadata": {},
   "source": [
    "**Example 1:**"
   ]
  },
  {
   "cell_type": "code",
   "execution_count": 14,
   "metadata": {},
   "outputs": [
    {
     "name": "stdout",
     "output_type": "stream",
     "text": [
      "x: 1\n",
      "y: 2\n"
     ]
    }
   ],
   "source": [
    "Point = namedtuple(\"Point\", ['x', 'y'])\n",
    "p = Point(1, 2)\n",
    "print(\"x: %d\" % p.x)\n",
    "print(\"y: %d\" % p.y)"
   ]
  },
  {
   "cell_type": "code",
   "execution_count": 16,
   "metadata": {},
   "outputs": [
    {
     "name": "stdout",
     "output_type": "stream",
     "text": [
      "True\n",
      "True\n"
     ]
    }
   ],
   "source": [
    "print(isinstance(p, Point))\n",
    "print(isinstance(p, tuple))"
   ]
  },
  {
   "cell_type": "markdown",
   "metadata": {},
   "source": [
    "__Example 2:__"
   ]
  },
  {
   "cell_type": "code",
   "execution_count": 24,
   "metadata": {},
   "outputs": [
    {
     "name": "stdout",
     "output_type": "stream",
     "text": [
      "0\n",
      "0\n",
      "6.283185307179586\n"
     ]
    }
   ],
   "source": [
    "Circle = namedtuple(\"Circle\", [\"x\", \"y\", \"r\"])\n",
    "import numpy as np\n",
    "circle = Circle(0, 0, 2 * np.pi)\n",
    "print(circle.x)\n",
    "print(circle.y)\n",
    "print(circle.r)"
   ]
  },
  {
   "cell_type": "markdown",
   "metadata": {},
   "source": [
    "## 2.collections.deque\n",
    "\n",
    "* 使用 `list` 存储数据时，按索引访问(`index`)元素很快，但是插入(`append`)和删除(`pop`)元素就很慢了，因为 `list` 是线性存储，数据量大的时候，插入和删除效率很低;\n",
    "* `deque` 是为了高效实现插入和删除操作的双向列表，适合用于队列和栈;\n",
    "    - deque.append()\n",
    "    - deque.appendleft()\n",
    "    - deque.pop()\n",
    "    - deque.popleft()"
   ]
  },
  {
   "cell_type": "markdown",
   "metadata": {},
   "source": [
    "#### Example 1"
   ]
  },
  {
   "cell_type": "code",
   "execution_count": 25,
   "metadata": {},
   "outputs": [
    {
     "name": "stdout",
     "output_type": "stream",
     "text": [
      "deque(['y', 'a', 'b', 'c', 'x'])\n"
     ]
    }
   ],
   "source": [
    "q = deque(['a', 'b', 'c'])\n",
    "q.append('x')\n",
    "q.appendleft('y')\n",
    "print(q)"
   ]
  },
  {
   "cell_type": "code",
   "execution_count": 26,
   "metadata": {},
   "outputs": [
    {
     "name": "stdout",
     "output_type": "stream",
     "text": [
      "deque(['a', 'b', 'c'])\n"
     ]
    }
   ],
   "source": [
    "q.pop()\n",
    "q.popleft()\n",
    "print(q)"
   ]
  },
  {
   "cell_type": "markdown",
   "metadata": {},
   "source": [
    "#### Example 2"
   ]
  },
  {
   "cell_type": "code",
   "execution_count": 17,
   "metadata": {},
   "outputs": [
    {
     "name": "stdout",
     "output_type": "stream",
     "text": [
      "deque([1, 2, 3], maxlen=3)\n"
     ]
    }
   ],
   "source": [
    "q = deque(maxlen = 3)\n",
    "q.append(1)\n",
    "q.append(2)\n",
    "q.append(3)\n",
    "print(q)"
   ]
  },
  {
   "cell_type": "code",
   "execution_count": 18,
   "metadata": {},
   "outputs": [
    {
     "name": "stdout",
     "output_type": "stream",
     "text": [
      "deque([2, 3, 4], maxlen=3)\n"
     ]
    }
   ],
   "source": [
    "q.append(4)\n",
    "print(q)"
   ]
  },
  {
   "cell_type": "code",
   "execution_count": 19,
   "metadata": {},
   "outputs": [
    {
     "name": "stdout",
     "output_type": "stream",
     "text": [
      "deque([3, 4, 5], maxlen=3)\n"
     ]
    }
   ],
   "source": [
    "q.append(5)\n",
    "print(q)"
   ]
  },
  {
   "cell_type": "markdown",
   "metadata": {},
   "source": [
    "## 3.collections.defaultdict\n",
    "\n",
    "* 使用`dict` 时，如果引用的 key 不存在，就会抛出 `KeyError`。如果希望 key 不存在时，返回一个默认值，就可以用 `defaultdict`;\n",
    "* 除了在 key 不存在时返回默认值, `defaultdict`的其他行为跟 `dict` 完全是一样的;"
   ]
  },
  {
   "cell_type": "code",
   "execution_count": 28,
   "metadata": {},
   "outputs": [
    {
     "name": "stdout",
     "output_type": "stream",
     "text": [
      "abc\n",
      "N/A\n"
     ]
    }
   ],
   "source": [
    "dd = defaultdict(lambda: \"N/A\")\n",
    "dd[\"key1\"] = 'abc'\n",
    "print(dd[\"key1\"])\n",
    "print(dd[\"key2\"])"
   ]
  },
  {
   "cell_type": "markdown",
   "metadata": {},
   "source": [
    "## 4.collections.OrderedDict\n",
    "\n",
    "* 使用 `dict` 时, Key 是无序的,在对dict做迭代时,无法确定key的顺序;\n",
    "* 要保持 key 的顺序,可以使用 `OrderedDict`;"
   ]
  },
  {
   "cell_type": "code",
   "execution_count": 39,
   "metadata": {},
   "outputs": [
    {
     "name": "stdout",
     "output_type": "stream",
     "text": [
      "{'a': 1, 'b': 2, 'c': 3}\n",
      "OrderedDict([('a', 1), ('b', 2), ('c', 3)])\n"
     ]
    }
   ],
   "source": [
    "d = dict([\n",
    "    (\"a\", 1),\n",
    "    (\"b\", 2),\n",
    "    (\"c\", 3)\n",
    "])\n",
    "print(d)\n",
    "\n",
    "od = OrderedDict([\n",
    "    ('a', 1),\n",
    "    ('b', 2),\n",
    "    ('c', 3)\n",
    "])\n",
    "print(od)"
   ]
  },
  {
   "cell_type": "code",
   "execution_count": 41,
   "metadata": {},
   "outputs": [
    {
     "name": "stdout",
     "output_type": "stream",
     "text": [
      "OrderedDict([('z', 1), ('y', 2), ('x', 3)])\n",
      "odict_keys(['z', 'y', 'x'])\n",
      "odict_values([1, 2, 3])\n"
     ]
    }
   ],
   "source": [
    "od = OrderedDict()\n",
    "od['z'] = 1\n",
    "od['y'] = 2\n",
    "od['x'] = 3\n",
    "print(od)\n",
    "print(od.keys())\n",
    "print(od.values())"
   ]
  },
  {
   "cell_type": "markdown",
   "metadata": {},
   "source": [
    "## 5.collections.Counter"
   ]
  },
  {
   "cell_type": "code",
   "execution_count": 45,
   "metadata": {},
   "outputs": [
    {
     "name": "stdout",
     "output_type": "stream",
     "text": [
      "p\n",
      "0\n",
      "----------\n",
      "r\n",
      "0\n",
      "----------\n",
      "o\n",
      "0\n",
      "----------\n",
      "g\n",
      "0\n",
      "----------\n",
      "r\n",
      "1\n",
      "----------\n",
      "a\n",
      "0\n",
      "----------\n",
      "m\n",
      "0\n",
      "----------\n",
      "m\n",
      "1\n",
      "----------\n",
      "i\n",
      "0\n",
      "----------\n",
      "n\n",
      "0\n",
      "----------\n",
      "g\n",
      "1\n",
      "----------\n",
      "Counter({'r': 2, 'g': 2, 'm': 2, 'p': 1, 'o': 1, 'a': 1, 'i': 1, 'n': 1})\n",
      "[('a', 1), ('g', 2), ('i', 1), ('m', 2), ('n', 1), ('o', 1), ('p', 1), ('r', 2)]\n"
     ]
    }
   ],
   "source": [
    "c = Counter()\n",
    "for ch in \"programming\":\n",
    "    print(ch)\n",
    "    print(c[ch])\n",
    "    print('-' * 10)\n",
    "    c[ch] = c[ch] + 1\n",
    "print(c)\n",
    "print(sorted(c.items()))"
   ]
  },
  {
   "cell_type": "code",
   "execution_count": null,
   "metadata": {},
   "outputs": [],
   "source": []
  }
 ],
 "metadata": {
  "kernelspec": {
   "display_name": "Python 3",
   "language": "python",
   "name": "python3"
  },
  "language_info": {
   "codemirror_mode": {
    "name": "ipython",
    "version": 3
   },
   "file_extension": ".py",
   "mimetype": "text/x-python",
   "name": "python",
   "nbconvert_exporter": "python",
   "pygments_lexer": "ipython3",
   "version": "3.7.0"
  }
 },
 "nbformat": 4,
 "nbformat_minor": 2
}
