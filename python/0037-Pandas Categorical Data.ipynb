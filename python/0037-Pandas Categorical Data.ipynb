{
 "cells": [
  {
   "cell_type": "markdown",
   "metadata": {},
   "source": [
    "* 创建类别型变量\n",
    "    - pd.Series([], `dtype = 'category'`)\n",
    "    - pd.DataFrame(, `dtype = 'category'`)\n",
    "    - `pd.Series.astype('category')`\n",
    "    - `pd.Series.astype(pd.api.types.CategoricalDtype(categories, ordered))`\n",
    "        - `pd.Series.astype(str)`\n",
    "        - `np.asarray(Series)`\n",
    "    - `pd.DataFrame.astype('category')`\n",
    "    - pd.cut(x, bins, right, `labels`)\n",
    "* 类别型对象\n",
    "    - object\n",
    "        - `pd.Categorical([], categories, ordered)`\n",
    "        - `pd.Categorical.from_codes([], categories, ordered)`\n",
    "* 类CategoricalDtype\n",
    "    - instance\n",
    "        - `pd.api.types.CategoricalDtype(categories, ordered)`\n",
    "        - attr\n",
    "            - `pd.Series.cat.categories`\n",
    "            - `pd.Series.cat.ordered`\n",
    "* 描述统计\n",
    "    - pd.DataFrame.describe()\n",
    "* 属性\n",
    "    - pd.Series.cat.categories\n",
    "    - pd.Series.cat.ordered\n",
    "* 类别重命名\n",
    "    - pd.Series.cat.categories = []\n",
    "    - pd.Series.cat.rename_categories([])\n",
    "    - pd.Series.cat.rename_categories({'':, '':, ...})\n",
    "* 增加新类别\n",
    "    - pd.Series.cat.add_categories([])\n",
    "* 删除类别\n",
    "    - pd.Series.cat.remove_categories([])\n",
    "* 删除无用类别\n",
    "    - pd.Series.cat.remove_unused_categories()\n",
    "* 设置类别\n",
    "    - pd.Series.cat.set_categories([])\n",
    "* 有序类别型变量\n",
    "    - pd.Categorical([], ordered = True)\n",
    "    - pd.Series.astype(pd.api.types.CategoricalDtype(ordered = True))\n",
    "    - pd.Series.cat.as_ordered()\n",
    "    - pd.Series.cat.as_unordered()\n",
    "    - pd.Series.cat.set_categories(categories = [], ordered = True)\n",
    "    - pd.Series.cat.reorder_categories(categories = [], ordered = True)\n",
    "* 比较\n",
    "* 操作\n",
    "    - pd.Series.value_counts()\n",
    "    - df.groupby().mean()\n",
    "* pd.Series.cat.codes"
   ]
  },
  {
   "cell_type": "code",
   "execution_count": 1,
   "metadata": {},
   "outputs": [],
   "source": [
    "import numpy as np\n",
    "import pandas as pd"
   ]
  },
  {
   "cell_type": "markdown",
   "metadata": {},
   "source": [
    "# 1. 创建类别型Series 或 DataFrame列"
   ]
  },
  {
   "cell_type": "markdown",
   "metadata": {},
   "source": [
    "### `pd.Series(, dtype = 'category')`"
   ]
  },
  {
   "cell_type": "code",
   "execution_count": 194,
   "metadata": {},
   "outputs": [
    {
     "name": "stdout",
     "output_type": "stream",
     "text": [
      "0    a\n",
      "1    b\n",
      "2    c\n",
      "3    a\n",
      "dtype: category\n",
      "Categories (3, object): [a, b, c]\n",
      "\n",
      "Index(['a', 'b', 'c'], dtype='object')\n",
      "\n",
      "False\n"
     ]
    }
   ],
   "source": [
    "# pd.Series([], dtype = 'category')\n",
    "s = pd.Series(['a', 'b', 'c', 'a'], dtype = 'category')\n",
    "print(s)\n",
    "print()\n",
    "print(s.cat.categories)\n",
    "print()\n",
    "print(s.cat.ordered)"
   ]
  },
  {
   "cell_type": "markdown",
   "metadata": {},
   "source": [
    "### `Series.astype('category')`"
   ]
  },
  {
   "cell_type": "code",
   "execution_count": 198,
   "metadata": {},
   "outputs": [
    {
     "name": "stdout",
     "output_type": "stream",
     "text": [
      "   A  B\n",
      "0  a  a\n",
      "1  b  b\n",
      "2  c  c\n",
      "3  a  a\n",
      "\n",
      "0    a\n",
      "1    b\n",
      "2    c\n",
      "3    a\n",
      "Name: B, dtype: category\n",
      "Categories (3, object): [a, b, c]\n",
      "\n",
      "Index(['a', 'b', 'c'], dtype='object')\n",
      "\n",
      "False\n"
     ]
    }
   ],
   "source": [
    "# .astype('category')\n",
    "df = pd.DataFrame({\n",
    "    'A': ['a', 'b', 'c', 'a']\n",
    "})\n",
    "df['B'] = df['A'].astype('category')\n",
    "print(df)\n",
    "print()\n",
    "print(df['B'])\n",
    "print()\n",
    "print(df['B'].cat.categories)\n",
    "print()\n",
    "print(df['B'].cat.ordered)"
   ]
  },
  {
   "cell_type": "markdown",
   "metadata": {},
   "source": [
    "### `pd.cut()`"
   ]
  },
  {
   "cell_type": "code",
   "execution_count": 202,
   "metadata": {
    "scrolled": true
   },
   "outputs": [
    {
     "name": "stdout",
     "output_type": "stream",
     "text": [
      "   value    group\n",
      "0     90  90 - 99\n",
      "1     25  20 - 29\n",
      "2     70  70 - 79\n",
      "3     60  60 - 69\n",
      "4     79  70 - 79\n",
      "\n",
      "value       int32\n",
      "group    category\n",
      "dtype: object\n",
      "\n",
      "0     90 - 99\n",
      "1     20 - 29\n",
      "2     70 - 79\n",
      "3     60 - 69\n",
      "4     70 - 79\n",
      "5     90 - 99\n",
      "6     40 - 49\n",
      "7     40 - 49\n",
      "8     30 - 39\n",
      "9     40 - 49\n",
      "10    30 - 39\n",
      "11    80 - 89\n",
      "12    20 - 29\n",
      "13    70 - 79\n",
      "14    60 - 69\n",
      "15    40 - 49\n",
      "16    20 - 29\n",
      "17    20 - 29\n",
      "18      0 - 9\n",
      "19    60 - 69\n",
      "Name: group, dtype: category\n",
      "Categories (10, object): [0 - 9 < 10 - 19 < 20 - 29 < 30 - 39 ... 60 - 69 < 70 - 79 < 80 - 89 < 90 - 99]\n",
      "\n",
      "Index(['0 - 9', '10 - 19', '20 - 29', '30 - 39', '40 - 49', '50 - 59',\n",
      "       '60 - 69', '70 - 79', '80 - 89', '90 - 99'],\n",
      "      dtype='object')\n",
      "\n",
      "True\n"
     ]
    }
   ],
   "source": [
    "# pd.cut()\n",
    "df = pd.DataFrame({\n",
    "    'value': np.random.randint(0, 100, 20)\n",
    "})\n",
    "labels = ['{0} - {1}'.format(i, i + 9) for i in range(0, 100, 10)]\n",
    "df['group'] = pd.cut(x = df.value, \n",
    "                     bins = range(0, 105, 10), right = False, \n",
    "                     labels = labels)\n",
    "print(df.head())\n",
    "print()\n",
    "print(df.dtypes)\n",
    "print()\n",
    "print(df['group'])\n",
    "print()\n",
    "print(df['group'].cat.categories)\n",
    "print()\n",
    "print(df['group'].cat.ordered)"
   ]
  },
  {
   "cell_type": "markdown",
   "metadata": {},
   "source": [
    "### `pd.Categorical(, categories, ordered)`"
   ]
  },
  {
   "cell_type": "code",
   "execution_count": 203,
   "metadata": {},
   "outputs": [
    {
     "name": "stdout",
     "output_type": "stream",
     "text": [
      "[NaN, b, c, NaN]\n",
      "Categories (3, object): [b, c, d]\n",
      "\n",
      "[NaN, b, c, d]\n",
      "Categories (3, object): [b < c < d]\n"
     ]
    }
   ],
   "source": [
    "# pd.Categorical(data, categories, ordered)\n",
    "raw_cat_non_ordered = pd.Categorical(['a', 'b', 'c', 'a'], \n",
    "                                     categories = ['b', 'c', 'd'],\n",
    "                                     ordered = False)\n",
    "raw_cat_ordered = pd.Categorical(['a', 'b', 'c', 'd'], \n",
    "                                 categories = ['b', 'c', 'd'],\n",
    "                                 ordered = True)\n",
    "print(raw_cat_non_ordered)\n",
    "print()\n",
    "print(raw_cat_ordered)"
   ]
  },
  {
   "cell_type": "code",
   "execution_count": 207,
   "metadata": {},
   "outputs": [
    {
     "data": {
      "text/plain": [
       "0    NaN\n",
       "1      b\n",
       "2      c\n",
       "3    NaN\n",
       "dtype: category\n",
       "Categories (3, object): [b, c, d]"
      ]
     },
     "execution_count": 207,
     "metadata": {},
     "output_type": "execute_result"
    }
   ],
   "source": [
    "s_non_ordered = pd.Series(raw_cat_non_ordered)\n",
    "s_non_ordered"
   ]
  },
  {
   "cell_type": "code",
   "execution_count": 208,
   "metadata": {},
   "outputs": [
    {
     "data": {
      "text/plain": [
       "0    NaN\n",
       "1      b\n",
       "2      c\n",
       "3      d\n",
       "dtype: category\n",
       "Categories (3, object): [b < c < d]"
      ]
     },
     "execution_count": 208,
     "metadata": {},
     "output_type": "execute_result"
    }
   ],
   "source": [
    "s_ordered = pd.Series(raw_cat_ordered)\n",
    "s_ordered"
   ]
  },
  {
   "cell_type": "code",
   "execution_count": 209,
   "metadata": {},
   "outputs": [
    {
     "data": {
      "text/plain": [
       "A      object\n",
       "B    category\n",
       "dtype: object"
      ]
     },
     "execution_count": 209,
     "metadata": {},
     "output_type": "execute_result"
    }
   ],
   "source": [
    "df = pd.DataFrame({\n",
    "    'A': ['a', 'b', 'c', 'a']\n",
    "})\n",
    "df['B'] = raw_cat\n",
    "df.dtypes"
   ]
  },
  {
   "cell_type": "markdown",
   "metadata": {},
   "source": [
    "### `pd.DataFrame(, dtype = 'category')`"
   ]
  },
  {
   "cell_type": "code",
   "execution_count": 210,
   "metadata": {},
   "outputs": [
    {
     "data": {
      "text/plain": [
       "A    category\n",
       "B    category\n",
       "dtype: object"
      ]
     },
     "execution_count": 210,
     "metadata": {},
     "output_type": "execute_result"
    }
   ],
   "source": [
    "df = pd.DataFrame({'A': list('abca'),\n",
    "                   'B': list('bccd')}, \n",
    "                  dtype = 'category')\n",
    "df.dtypes"
   ]
  },
  {
   "cell_type": "markdown",
   "metadata": {},
   "source": [
    "### `pd.DataFrame.astype('category')`"
   ]
  },
  {
   "cell_type": "code",
   "execution_count": 39,
   "metadata": {},
   "outputs": [
    {
     "data": {
      "text/plain": [
       "A    category\n",
       "B    category\n",
       "dtype: object"
      ]
     },
     "execution_count": 39,
     "metadata": {},
     "output_type": "execute_result"
    }
   ],
   "source": [
    "df = pd.DataFrame({\n",
    "    'A': list('abca'),\n",
    "    'B': list('bccd')\n",
    "})\n",
    "df_cat = df.astype('category')\n",
    "df_cat.dtypes"
   ]
  },
  {
   "cell_type": "markdown",
   "metadata": {},
   "source": [
    "### cd  = `pd.api.types.CategoricalDtype`\n",
    "\n",
    "* .astype(cd)\n",
    "* .cat.categories\n",
    "* .cat.ordered"
   ]
  },
  {
   "cell_type": "code",
   "execution_count": 40,
   "metadata": {},
   "outputs": [],
   "source": [
    "from  pandas.api.types import CategoricalDtype"
   ]
  },
  {
   "cell_type": "code",
   "execution_count": 41,
   "metadata": {},
   "outputs": [
    {
     "data": {
      "text/plain": [
       "0    NaN\n",
       "1      b\n",
       "2      c\n",
       "3    NaN\n",
       "dtype: category\n",
       "Categories (3, object): [b < c < d]"
      ]
     },
     "execution_count": 41,
     "metadata": {},
     "output_type": "execute_result"
    }
   ],
   "source": [
    "s = pd.Series(['a', 'b', 'c', 'a'])\n",
    "cat_type = CategoricalDtype(categories = ['b', 'c', 'd'], \n",
    "                            ordered = True)\n",
    "s_cat = s.astype(cat_type)\n",
    "s_cat"
   ]
  },
  {
   "cell_type": "code",
   "execution_count": 214,
   "metadata": {},
   "outputs": [
    {
     "data": {
      "text/html": [
       "<div>\n",
       "<style scoped>\n",
       "    .dataframe tbody tr th:only-of-type {\n",
       "        vertical-align: middle;\n",
       "    }\n",
       "\n",
       "    .dataframe tbody tr th {\n",
       "        vertical-align: top;\n",
       "    }\n",
       "\n",
       "    .dataframe thead th {\n",
       "        text-align: right;\n",
       "    }\n",
       "</style>\n",
       "<table border=\"1\" class=\"dataframe\">\n",
       "  <thead>\n",
       "    <tr style=\"text-align: right;\">\n",
       "      <th></th>\n",
       "      <th>A</th>\n",
       "      <th>B</th>\n",
       "    </tr>\n",
       "  </thead>\n",
       "  <tbody>\n",
       "    <tr>\n",
       "      <th>0</th>\n",
       "      <td>a</td>\n",
       "      <td>b</td>\n",
       "    </tr>\n",
       "    <tr>\n",
       "      <th>1</th>\n",
       "      <td>b</td>\n",
       "      <td>c</td>\n",
       "    </tr>\n",
       "    <tr>\n",
       "      <th>2</th>\n",
       "      <td>c</td>\n",
       "      <td>c</td>\n",
       "    </tr>\n",
       "    <tr>\n",
       "      <th>3</th>\n",
       "      <td>a</td>\n",
       "      <td>d</td>\n",
       "    </tr>\n",
       "  </tbody>\n",
       "</table>\n",
       "</div>"
      ],
      "text/plain": [
       "   A  B\n",
       "0  a  b\n",
       "1  b  c\n",
       "2  c  c\n",
       "3  a  d"
      ]
     },
     "execution_count": 214,
     "metadata": {},
     "output_type": "execute_result"
    }
   ],
   "source": [
    "df = pd.DataFrame({\n",
    "    'A': list('abca'), \n",
    "    'B': list('bccd')\n",
    "})\n",
    "cat_type = CategoricalDtype(categories = list('abcd'), \n",
    "                            ordered = True)\n",
    "df_cat = df.astype(cat_type)\n",
    "df_cat"
   ]
  },
  {
   "cell_type": "markdown",
   "metadata": {},
   "source": [
    "### `pd.Categorical.from_codes(, categories, ordered)`"
   ]
  },
  {
   "cell_type": "code",
   "execution_count": 219,
   "metadata": {},
   "outputs": [
    {
     "data": {
      "text/plain": [
       "0    train\n",
       "1     test\n",
       "2     test\n",
       "3     test\n",
       "4     test\n",
       "dtype: category\n",
       "Categories (2, object): [train < test]"
      ]
     },
     "execution_count": 219,
     "metadata": {},
     "output_type": "execute_result"
    }
   ],
   "source": [
    "splitter = np.random.choice([0, 1], 5, p = [0.5, 0.5])\n",
    "cat_code = pd.Categorical.from_codes(splitter, \n",
    "                                     categories = ['train', 'test'],\n",
    "                                     ordered = True)\n",
    "splitter_cat = pd.Series(cat_code)\n",
    "splitter_cat"
   ]
  },
  {
   "cell_type": "markdown",
   "metadata": {},
   "source": [
    "#### `.astype('category'), .astype(str), np.asarray()`"
   ]
  },
  {
   "cell_type": "code",
   "execution_count": 221,
   "metadata": {
    "scrolled": true
   },
   "outputs": [
    {
     "name": "stdout",
     "output_type": "stream",
     "text": [
      "0    a\n",
      "1    b\n",
      "2    c\n",
      "3    a\n",
      "dtype: category\n",
      "Categories (3, object): [a, b, c]\n",
      "\n",
      "0    a\n",
      "1    b\n",
      "2    c\n",
      "3    a\n",
      "dtype: object\n",
      "\n",
      "['a' 'b' 'c' 'a']\n"
     ]
    }
   ],
   "source": [
    "s = pd.Series(['a', 'b', 'c', 'a'])\n",
    "print(s.astype('category'))\n",
    "print()\n",
    "print(s2.astype(str))\n",
    "print()\n",
    "print(np.asarray(s2))"
   ]
  },
  {
   "cell_type": "markdown",
   "metadata": {},
   "source": [
    "# 2. CategoricalDtype"
   ]
  },
  {
   "cell_type": "code",
   "execution_count": 48,
   "metadata": {},
   "outputs": [],
   "source": [
    "from pandas.api.types import CategoricalDtype"
   ]
  },
  {
   "cell_type": "code",
   "execution_count": 49,
   "metadata": {},
   "outputs": [
    {
     "data": {
      "text/plain": [
       "CategoricalDtype(categories=['a', 'b', 'c'], ordered=None)"
      ]
     },
     "execution_count": 49,
     "metadata": {},
     "output_type": "execute_result"
    }
   ],
   "source": [
    "CategoricalDtype(categories = ['a', 'b', 'c'])"
   ]
  },
  {
   "cell_type": "code",
   "execution_count": 50,
   "metadata": {},
   "outputs": [
    {
     "data": {
      "text/plain": [
       "CategoricalDtype(categories=['a', 'b', 'c'], ordered=True)"
      ]
     },
     "execution_count": 50,
     "metadata": {},
     "output_type": "execute_result"
    }
   ],
   "source": [
    "CategoricalDtype(categories = ['a', 'b', 'c'], ordered = True)"
   ]
  },
  {
   "cell_type": "code",
   "execution_count": 51,
   "metadata": {},
   "outputs": [
    {
     "data": {
      "text/plain": [
       "CategoricalDtype(categories=None, ordered=None)"
      ]
     },
     "execution_count": 51,
     "metadata": {},
     "output_type": "execute_result"
    }
   ],
   "source": [
    "CategoricalDtype()"
   ]
  },
  {
   "cell_type": "code",
   "execution_count": 52,
   "metadata": {},
   "outputs": [
    {
     "data": {
      "text/plain": [
       "True"
      ]
     },
     "execution_count": 52,
     "metadata": {},
     "output_type": "execute_result"
    }
   ],
   "source": [
    "c1 = CategoricalDtype(['a', 'b', 'c'], ordered = False)\n",
    "c2 = CategoricalDtype(['b', 'c', 'a'], ordered = False)\n",
    "c1 == c2"
   ]
  },
  {
   "cell_type": "code",
   "execution_count": 53,
   "metadata": {},
   "outputs": [
    {
     "data": {
      "text/plain": [
       "False"
      ]
     },
     "execution_count": 53,
     "metadata": {},
     "output_type": "execute_result"
    }
   ],
   "source": [
    "c3 = CategoricalDtype(['a', 'b', 'c'], ordered = True)\n",
    "c3 == c1"
   ]
  },
  {
   "cell_type": "code",
   "execution_count": 54,
   "metadata": {
    "scrolled": true
   },
   "outputs": [
    {
     "data": {
      "text/plain": [
       "True"
      ]
     },
     "execution_count": 54,
     "metadata": {},
     "output_type": "execute_result"
    }
   ],
   "source": [
    "c1 == 'category'"
   ]
  },
  {
   "cell_type": "markdown",
   "metadata": {},
   "source": [
    "# 3. 描述性统计"
   ]
  },
  {
   "cell_type": "code",
   "execution_count": 228,
   "metadata": {},
   "outputs": [
    {
     "name": "stdout",
     "output_type": "stream",
     "text": [
      "       cat  s\n",
      "count    3  3\n",
      "unique   2  2\n",
      "top      c  c\n",
      "freq     2  2\n",
      "\n",
      "count     3\n",
      "unique    2\n",
      "top       c\n",
      "freq      2\n",
      "Name: cat, dtype: object\n"
     ]
    }
   ],
   "source": [
    "cat = pd.Categorical(['a', 'c', 'c', np.nan], \n",
    "                     categories = ['b', 'a', 'c'])\n",
    "df =  pd.DataFrame({\n",
    "    'cat': cat,\n",
    "    's': ['a', 'c', 'c', np.nan]\n",
    "})\n",
    "print(df.describe())\n",
    "print()\n",
    "print(df['cat'].describe())"
   ]
  },
  {
   "cell_type": "markdown",
   "metadata": {},
   "source": [
    "# 4. Working with categories\n",
    "\n",
    "* s.cat.categories\n",
    "* s.cat.ordered\n",
    "* 类别重命名\n",
    "    - s.cat.categories = []\n",
    "    - s.cat.rename_categories([])\n",
    "    - s.cat.rename_categories({'':, '':, ...})\n",
    "* 增加新类别\n",
    "    - s.cat.add_categories([])\n",
    "* 删除类别\n",
    "    - s.cat.remove_categories([])\n",
    "* 删除无用类别\n",
    "    - s.cat.remove_unused_categories()\n",
    "* 设置类别\n",
    "    - s.cat.set_categories([])"
   ]
  },
  {
   "cell_type": "markdown",
   "metadata": {},
   "source": [
    "### 4.1 属性\n",
    "\n",
    "* s.cat.categories\n",
    "* s.cat.ordered"
   ]
  },
  {
   "cell_type": "code",
   "execution_count": 257,
   "metadata": {},
   "outputs": [
    {
     "name": "stdout",
     "output_type": "stream",
     "text": [
      "Index(['a', 'b', 'c'], dtype='object')\n",
      "\n",
      "False\n"
     ]
    }
   ],
   "source": [
    "s = pd.Series(['a', 'b', 'c', 'a'], dtype = 'category')\n",
    "print(s.cat.categories)\n",
    "print()\n",
    "print(s.cat.ordered)"
   ]
  },
  {
   "cell_type": "code",
   "execution_count": 258,
   "metadata": {},
   "outputs": [
    {
     "name": "stdout",
     "output_type": "stream",
     "text": [
      "Index(['c', 'b', 'a'], dtype='object')\n",
      "\n",
      "False\n"
     ]
    }
   ],
   "source": [
    "s = pd.Series(pd.Categorical(['a', 'b', 'c', 'a'], \n",
    "                             categories = ['c', 'b', 'a']))\n",
    "print(s.cat.categories)\n",
    "print()\n",
    "print(s.cat.ordered)"
   ]
  },
  {
   "cell_type": "code",
   "execution_count": 259,
   "metadata": {
    "scrolled": false
   },
   "outputs": [
    {
     "name": "stdout",
     "output_type": "stream",
     "text": [
      "Index(['a', 'b', 'c', 'd'], dtype='object')\n",
      "\n",
      "False\n",
      "\n",
      "[b, a, c]\n",
      "Categories (3, object): [b, a, c]\n"
     ]
    }
   ],
   "source": [
    "cat_type = CategoricalDtype(categories = list('abcd'), \n",
    "                            ordered = False)\n",
    "s = pd.Series(list('babc')).astype(cat_type)\n",
    "print(s.cat.categories)\n",
    "print()\n",
    "print(s.cat.ordered)\n",
    "print()\n",
    "print(s.unique())"
   ]
  },
  {
   "cell_type": "markdown",
   "metadata": {},
   "source": [
    "### 4.2 Rename categories\n",
    "\n",
    "* s.cat.categories = []\n",
    "* s.cat.rename_categories([])\n",
    "* s.cat.rename_categories({'':, '':, ...})"
   ]
  },
  {
   "cell_type": "code",
   "execution_count": 260,
   "metadata": {},
   "outputs": [
    {
     "name": "stdout",
     "output_type": "stream",
     "text": [
      "0    a\n",
      "1    b\n",
      "2    c\n",
      "3    a\n",
      "dtype: category\n",
      "Categories (3, object): [a, b, c]\n",
      "\n",
      "Index(['a', 'b', 'c'], dtype='object')\n",
      "\n",
      "False\n"
     ]
    }
   ],
   "source": [
    "s = pd.Series(['a', 'b', 'c', 'a'], dtype = 'category')\n",
    "print(s)\n",
    "print()\n",
    "print(s.cat.categories)\n",
    "print()\n",
    "print(s.cat.ordered)"
   ]
  },
  {
   "cell_type": "code",
   "execution_count": 261,
   "metadata": {},
   "outputs": [
    {
     "name": "stdout",
     "output_type": "stream",
     "text": [
      "0    Group a\n",
      "1    Group b\n",
      "2    Group c\n",
      "3    Group a\n",
      "dtype: category\n",
      "Categories (3, object): [Group a, Group b, Group c]\n",
      "\n",
      "Index(['Group a', 'Group b', 'Group c'], dtype='object')\n",
      "\n",
      "False\n"
     ]
    }
   ],
   "source": [
    "s.cat.categories = ['Group %s' % g for g in s.cat.categories]\n",
    "print(s)\n",
    "print()\n",
    "print(s.cat.categories)\n",
    "print()\n",
    "print(s.cat.ordered)"
   ]
  },
  {
   "cell_type": "code",
   "execution_count": 262,
   "metadata": {
    "scrolled": true
   },
   "outputs": [
    {
     "name": "stdout",
     "output_type": "stream",
     "text": [
      "0    1\n",
      "1    2\n",
      "2    3\n",
      "3    1\n",
      "dtype: category\n",
      "Categories (3, int64): [1, 2, 3]\n",
      "\n",
      "Int64Index([1, 2, 3], dtype='int64')\n",
      "\n",
      "False\n"
     ]
    }
   ],
   "source": [
    "s = s.cat.rename_categories([1, 2, 3])\n",
    "print(s)\n",
    "print()\n",
    "print(s.cat.categories)\n",
    "print()\n",
    "print(s.cat.ordered)"
   ]
  },
  {
   "cell_type": "code",
   "execution_count": 263,
   "metadata": {
    "scrolled": true
   },
   "outputs": [
    {
     "name": "stdout",
     "output_type": "stream",
     "text": [
      "0    x\n",
      "1    y\n",
      "2    z\n",
      "3    x\n",
      "dtype: category\n",
      "Categories (3, object): [x, y, z]\n",
      "\n",
      "Index(['x', 'y', 'z'], dtype='object')\n",
      "\n",
      "False\n"
     ]
    }
   ],
   "source": [
    "s = s.cat.rename_categories({\n",
    "    1: 'x',\n",
    "    2: 'y',\n",
    "    3: 'z'\n",
    "})\n",
    "print(s)\n",
    "print()\n",
    "print(s.cat.categories)\n",
    "print()\n",
    "print(s.cat.ordered)"
   ]
  },
  {
   "cell_type": "markdown",
   "metadata": {},
   "source": [
    "### 4.3 增加新类别"
   ]
  },
  {
   "cell_type": "code",
   "execution_count": 264,
   "metadata": {
    "scrolled": true
   },
   "outputs": [
    {
     "name": "stdout",
     "output_type": "stream",
     "text": [
      "0    x\n",
      "1    y\n",
      "2    z\n",
      "3    x\n",
      "dtype: category\n",
      "Categories (4, object): [x, y, z, 4]\n",
      "\n",
      "Index(['x', 'y', 'z', 4], dtype='object')\n",
      "\n",
      "False\n"
     ]
    }
   ],
   "source": [
    "s = s.cat.add_categories([4])\n",
    "print(s)\n",
    "print()\n",
    "print(s.cat.categories)\n",
    "print()\n",
    "print(s.cat.ordered)"
   ]
  },
  {
   "cell_type": "markdown",
   "metadata": {},
   "source": [
    "### 4.4 删除类别"
   ]
  },
  {
   "cell_type": "code",
   "execution_count": 265,
   "metadata": {
    "scrolled": true
   },
   "outputs": [
    {
     "name": "stdout",
     "output_type": "stream",
     "text": [
      "0    x\n",
      "1    y\n",
      "2    z\n",
      "3    x\n",
      "dtype: category\n",
      "Categories (3, object): [x, y, z]\n",
      "\n",
      "Index(['x', 'y', 'z'], dtype='object')\n",
      "\n",
      "False\n"
     ]
    }
   ],
   "source": [
    "s = s.cat.remove_categories([4])\n",
    "print(s)\n",
    "print()\n",
    "print(s.cat.categories)\n",
    "print()\n",
    "print(s.cat.ordered)"
   ]
  },
  {
   "cell_type": "markdown",
   "metadata": {},
   "source": [
    "### 4.5 删除没用的类别 "
   ]
  },
  {
   "cell_type": "code",
   "execution_count": 266,
   "metadata": {},
   "outputs": [
    {
     "name": "stdout",
     "output_type": "stream",
     "text": [
      "0    a\n",
      "1    b\n",
      "2    a\n",
      "dtype: category\n",
      "Categories (4, object): [a, b, c, d]\n",
      "\n",
      "0    a\n",
      "1    b\n",
      "2    a\n",
      "dtype: category\n",
      "Categories (2, object): [a, b]\n"
     ]
    }
   ],
   "source": [
    "s = pd.Series(pd.Categorical(['a', 'b', 'a'], categories = ['a', 'b', 'c', 'd']))\n",
    "print(s)\n",
    "print()\n",
    "print(s.cat.remove_unused_categories())"
   ]
  },
  {
   "cell_type": "markdown",
   "metadata": {},
   "source": [
    "### 4.6 设置类别"
   ]
  },
  {
   "cell_type": "code",
   "execution_count": 267,
   "metadata": {},
   "outputs": [
    {
     "name": "stdout",
     "output_type": "stream",
     "text": [
      "0     one\n",
      "1     two\n",
      "2    four\n",
      "3       -\n",
      "dtype: category\n",
      "Categories (4, object): [-, four, one, two]\n",
      "\n",
      "0     one\n",
      "1     two\n",
      "2    four\n",
      "3     NaN\n",
      "dtype: category\n",
      "Categories (4, object): [one, two, three, four]\n"
     ]
    }
   ],
   "source": [
    "s = pd.Series(['one', 'two', 'four', '-'], dtype = 'category')\n",
    "print(s)\n",
    "print()\n",
    "s = s.cat.set_categories(['one', 'two', 'three', 'four'])\n",
    "print(s)"
   ]
  },
  {
   "cell_type": "markdown",
   "metadata": {},
   "source": [
    "# 5. Sorting and Order\n",
    "\n",
    "* pd.Categorical([], ordered = True)\n",
    "* pd.api.types.CategoricalDtype(categories = [], ordered = True)\n",
    "* pd.Series.cat.as_ordered()\n",
    "* pd.Series.cat.as_unordered()\n",
    "* pd.Series.cat.set_categories(categories = [], ordered = True)\n",
    "* pd.Series.cat.reorder_categories(categories = [], ordered = True)"
   ]
  },
  {
   "cell_type": "code",
   "execution_count": 268,
   "metadata": {},
   "outputs": [
    {
     "name": "stdout",
     "output_type": "stream",
     "text": [
      "0    a\n",
      "3    a\n",
      "1    b\n",
      "2    c\n",
      "dtype: category\n",
      "Categories (3, object): [a, b, c]\n",
      "\n",
      "Index(['a', 'b', 'c'], dtype='object')\n",
      "\n",
      "False\n"
     ]
    }
   ],
   "source": [
    "s = pd.Series(pd.Categorical(['a', 'b', 'c', 'a'], ordered = False))\n",
    "s.sort_values(inplace = True)\n",
    "print(s)\n",
    "print()\n",
    "print(s.cat.categories)\n",
    "print()\n",
    "print(s.cat.ordered)"
   ]
  },
  {
   "cell_type": "code",
   "execution_count": 270,
   "metadata": {},
   "outputs": [
    {
     "name": "stdout",
     "output_type": "stream",
     "text": [
      "0    a\n",
      "3    a\n",
      "1    b\n",
      "2    c\n",
      "dtype: category\n",
      "Categories (3, object): [a < b < c]\n",
      "\n",
      "Index(['a', 'b', 'c'], dtype='object')\n",
      "\n",
      "True\n",
      "a c\n"
     ]
    }
   ],
   "source": [
    "s = pd.Series(['a', 'b', 'c', 'a']) \\\n",
    "    .astype(CategoricalDtype(ordered = True))\n",
    "s.sort_values(inplace = True)\n",
    "print(s)\n",
    "print()\n",
    "print(s.cat.categories)\n",
    "print()\n",
    "print(s.cat.ordered)\n",
    "print(s.min(), s.max())"
   ]
  },
  {
   "cell_type": "code",
   "execution_count": 90,
   "metadata": {
    "scrolled": true
   },
   "outputs": [
    {
     "data": {
      "text/plain": [
       "0    a\n",
       "3    a\n",
       "1    b\n",
       "2    c\n",
       "dtype: category\n",
       "Categories (3, object): [a < b < c]"
      ]
     },
     "execution_count": 90,
     "metadata": {},
     "output_type": "execute_result"
    }
   ],
   "source": [
    "s.cat.as_ordered()"
   ]
  },
  {
   "cell_type": "code",
   "execution_count": 91,
   "metadata": {},
   "outputs": [
    {
     "data": {
      "text/plain": [
       "0    a\n",
       "3    a\n",
       "1    b\n",
       "2    c\n",
       "dtype: category\n",
       "Categories (3, object): [a, b, c]"
      ]
     },
     "execution_count": 91,
     "metadata": {},
     "output_type": "execute_result"
    }
   ],
   "source": [
    "s.cat.as_unordered()"
   ]
  },
  {
   "cell_type": "code",
   "execution_count": 271,
   "metadata": {},
   "outputs": [
    {
     "name": "stdout",
     "output_type": "stream",
     "text": [
      "0    1\n",
      "1    2\n",
      "2    3\n",
      "3    1\n",
      "dtype: category\n",
      "Categories (3, int64): [2 < 3 < 1]\n",
      "\n",
      "Int64Index([2, 3, 1], dtype='int64')\n",
      "\n",
      "True\n",
      "\n",
      "1 2\n"
     ]
    }
   ],
   "source": [
    "s = pd.Series([1, 2, 3, 1], dtype = 'category')\n",
    "s = s.cat.set_categories([2, 3, 1], ordered = True)\n",
    "print(s)\n",
    "print()\n",
    "print(s.cat.categories)\n",
    "print()\n",
    "print(s.cat.ordered)\n",
    "print()\n",
    "print(s.max(), s.min())"
   ]
  },
  {
   "cell_type": "code",
   "execution_count": 272,
   "metadata": {},
   "outputs": [
    {
     "name": "stdout",
     "output_type": "stream",
     "text": [
      "0    1\n",
      "1    2\n",
      "2    3\n",
      "3    1\n",
      "dtype: category\n",
      "Categories (3, int64): [2 < 3 < 1]\n",
      "\n",
      "Int64Index([2, 3, 1], dtype='int64')\n",
      "\n",
      "True\n",
      "\n",
      "1 2\n"
     ]
    }
   ],
   "source": [
    "s = pd.Series([1, 2, 3, 1], dtype = 'category')\n",
    "s = s.cat.reorder_categories([2, 3, 1], ordered = True)\n",
    "print(s)\n",
    "print()\n",
    "print(s.cat.categories)\n",
    "print()\n",
    "print(s.cat.ordered)\n",
    "print()\n",
    "print(s.max(), s.min())"
   ]
  },
  {
   "cell_type": "code",
   "execution_count": 274,
   "metadata": {},
   "outputs": [
    {
     "name": "stdout",
     "output_type": "stream",
     "text": [
      "   A  B\n",
      "0  b  1\n",
      "1  b  2\n",
      "2  e  1\n",
      "3  e  2\n",
      "4  b  2\n",
      "5  b  1\n",
      "6  a  2\n",
      "7  a  1\n",
      "\n",
      "   A  B\n",
      "2  e  1\n",
      "3  e  2\n",
      "7  a  1\n",
      "6  a  2\n",
      "0  b  1\n",
      "5  b  1\n",
      "1  b  2\n",
      "4  b  2\n",
      "   A  B\n",
      "7  a  1\n",
      "6  a  2\n",
      "0  b  1\n",
      "5  b  1\n",
      "1  b  2\n",
      "4  b  2\n",
      "2  e  1\n",
      "3  e  2\n"
     ]
    }
   ],
   "source": [
    "dfs = pd.DataFrame({\n",
    "    'A': pd.Categorical(list('bbeebbaa'), \n",
    "                        categories = ['e', 'a', 'b'], \n",
    "                        ordered = True),\n",
    "    'B': [1, 2, 1, 2, 2, 1, 2, 1]\n",
    "})\n",
    "print(dfs)\n",
    "print()\n",
    "print(dfs.sort_values(by = ['A', 'B']))\n",
    "dfs['A'] = dfs['A'].cat.reorder_categories(['a', 'b', 'e'])\n",
    "print(dfs.sort_values(by = ['A', 'B']))"
   ]
  },
  {
   "cell_type": "markdown",
   "metadata": {},
   "source": [
    "# 6. 比较"
   ]
  },
  {
   "cell_type": "code",
   "execution_count": 122,
   "metadata": {},
   "outputs": [],
   "source": [
    "cat = pd.Series([1, 2, 3]).astype(\n",
    "    CategoricalDtype([3, 2, 1], \n",
    "                     ordered = True)\n",
    ")\n",
    "cat_base = pd.Series([2, 2, 2]).astype(\n",
    "    CategoricalDtype([3, 2, 1], \n",
    "                     ordered = True)\n",
    ")\n",
    "cat_base2 = pd.Series([2, 2, 2]).astype(\n",
    "    CategoricalDtype(ordered = True)\n",
    ")"
   ]
  },
  {
   "cell_type": "code",
   "execution_count": 123,
   "metadata": {},
   "outputs": [
    {
     "data": {
      "text/plain": [
       "0    1\n",
       "1    2\n",
       "2    3\n",
       "dtype: category\n",
       "Categories (3, int64): [3 < 2 < 1]"
      ]
     },
     "execution_count": 123,
     "metadata": {},
     "output_type": "execute_result"
    }
   ],
   "source": [
    "cat"
   ]
  },
  {
   "cell_type": "code",
   "execution_count": 124,
   "metadata": {},
   "outputs": [
    {
     "data": {
      "text/plain": [
       "0    2\n",
       "1    2\n",
       "2    2\n",
       "dtype: category\n",
       "Categories (3, int64): [3 < 2 < 1]"
      ]
     },
     "execution_count": 124,
     "metadata": {},
     "output_type": "execute_result"
    }
   ],
   "source": [
    "cat_base"
   ]
  },
  {
   "cell_type": "code",
   "execution_count": 125,
   "metadata": {},
   "outputs": [
    {
     "data": {
      "text/plain": [
       "0    2\n",
       "1    2\n",
       "2    2\n",
       "dtype: category\n",
       "Categories (1, int64): [2]"
      ]
     },
     "execution_count": 125,
     "metadata": {},
     "output_type": "execute_result"
    }
   ],
   "source": [
    "cat_base2"
   ]
  },
  {
   "cell_type": "code",
   "execution_count": 126,
   "metadata": {},
   "outputs": [
    {
     "data": {
      "text/plain": [
       "0     True\n",
       "1    False\n",
       "2    False\n",
       "dtype: bool"
      ]
     },
     "execution_count": 126,
     "metadata": {},
     "output_type": "execute_result"
    }
   ],
   "source": [
    "cat > cat_base"
   ]
  },
  {
   "cell_type": "code",
   "execution_count": 127,
   "metadata": {},
   "outputs": [
    {
     "data": {
      "text/plain": [
       "0     True\n",
       "1    False\n",
       "2    False\n",
       "dtype: bool"
      ]
     },
     "execution_count": 127,
     "metadata": {},
     "output_type": "execute_result"
    }
   ],
   "source": [
    "cat > 2"
   ]
  },
  {
   "cell_type": "code",
   "execution_count": 128,
   "metadata": {},
   "outputs": [
    {
     "data": {
      "text/plain": [
       "0    False\n",
       "1     True\n",
       "2    False\n",
       "dtype: bool"
      ]
     },
     "execution_count": 128,
     "metadata": {},
     "output_type": "execute_result"
    }
   ],
   "source": [
    "cat == cat_base"
   ]
  },
  {
   "cell_type": "code",
   "execution_count": 129,
   "metadata": {},
   "outputs": [
    {
     "data": {
      "text/plain": [
       "0    True\n",
       "1    True\n",
       "2    True\n",
       "dtype: bool"
      ]
     },
     "execution_count": 129,
     "metadata": {},
     "output_type": "execute_result"
    }
   ],
   "source": [
    "cat == np.array([1, 2, 3])"
   ]
  },
  {
   "cell_type": "code",
   "execution_count": 130,
   "metadata": {},
   "outputs": [
    {
     "data": {
      "text/plain": [
       "0    False\n",
       "1     True\n",
       "2    False\n",
       "dtype: bool"
      ]
     },
     "execution_count": 130,
     "metadata": {},
     "output_type": "execute_result"
    }
   ],
   "source": [
    "cat == 2"
   ]
  },
  {
   "cell_type": "code",
   "execution_count": 131,
   "metadata": {},
   "outputs": [
    {
     "name": "stdout",
     "output_type": "stream",
     "text": [
      "TypeError:  Categoricals can only be compared if 'categories' are the same. Categories are different lengths\n"
     ]
    }
   ],
   "source": [
    "try:\n",
    "    cat > cat_base2\n",
    "except TypeError as e:\n",
    "    print('TypeError: ', str(e))"
   ]
  },
  {
   "cell_type": "code",
   "execution_count": 132,
   "metadata": {},
   "outputs": [
    {
     "name": "stdout",
     "output_type": "stream",
     "text": [
      "TypeError; Cannot compare a Categorical for op __gt__ with type <class 'numpy.ndarray'>.\n",
      "If you want to compare values, use 'np.asarray(cat) <op> other'.\n"
     ]
    }
   ],
   "source": [
    "base = np.array([1, 2, 3])\n",
    "try:\n",
    "    cat > base\n",
    "except TypeError as e:\n",
    "    print(\"TypeError;\", str(e))"
   ]
  },
  {
   "cell_type": "code",
   "execution_count": 133,
   "metadata": {},
   "outputs": [
    {
     "data": {
      "text/plain": [
       "array([False, False, False])"
      ]
     },
     "execution_count": 133,
     "metadata": {},
     "output_type": "execute_result"
    }
   ],
   "source": [
    "np.asarray(cat) > base"
   ]
  },
  {
   "cell_type": "code",
   "execution_count": 134,
   "metadata": {},
   "outputs": [
    {
     "data": {
      "text/plain": [
       "array([False, False])"
      ]
     },
     "execution_count": 134,
     "metadata": {},
     "output_type": "execute_result"
    }
   ],
   "source": [
    "c1 = pd.Categorical(['a', 'b'], categories = ['a', 'b'], ordered = False)\n",
    "c1 = pd.Categorical(['a', 'b'], categories = ['b', 'a'], ordered = False)\n",
    "c1 == c2"
   ]
  },
  {
   "cell_type": "markdown",
   "metadata": {},
   "source": [
    "# 7. 操作"
   ]
  },
  {
   "cell_type": "code",
   "execution_count": 135,
   "metadata": {},
   "outputs": [
    {
     "data": {
      "text/plain": [
       "c    2\n",
       "b    1\n",
       "a    1\n",
       "d    0\n",
       "dtype: int64"
      ]
     },
     "execution_count": 135,
     "metadata": {},
     "output_type": "execute_result"
    }
   ],
   "source": [
    "s = pd.Series(pd.Categorical(['a', 'b', 'c', 'c'], \n",
    "                             categories = ['c', 'a', 'b', 'd']))\n",
    "s.value_counts()"
   ]
  },
  {
   "cell_type": "code",
   "execution_count": 176,
   "metadata": {},
   "outputs": [
    {
     "data": {
      "text/html": [
       "<div>\n",
       "<style scoped>\n",
       "    .dataframe tbody tr th:only-of-type {\n",
       "        vertical-align: middle;\n",
       "    }\n",
       "\n",
       "    .dataframe tbody tr th {\n",
       "        vertical-align: top;\n",
       "    }\n",
       "\n",
       "    .dataframe thead th {\n",
       "        text-align: right;\n",
       "    }\n",
       "</style>\n",
       "<table border=\"1\" class=\"dataframe\">\n",
       "  <thead>\n",
       "    <tr style=\"text-align: right;\">\n",
       "      <th></th>\n",
       "      <th>cats</th>\n",
       "      <th>values</th>\n",
       "    </tr>\n",
       "  </thead>\n",
       "  <tbody>\n",
       "    <tr>\n",
       "      <th>0</th>\n",
       "      <td>a</td>\n",
       "      <td>1</td>\n",
       "    </tr>\n",
       "    <tr>\n",
       "      <th>1</th>\n",
       "      <td>b</td>\n",
       "      <td>2</td>\n",
       "    </tr>\n",
       "    <tr>\n",
       "      <th>2</th>\n",
       "      <td>b</td>\n",
       "      <td>2</td>\n",
       "    </tr>\n",
       "    <tr>\n",
       "      <th>3</th>\n",
       "      <td>b</td>\n",
       "      <td>2</td>\n",
       "    </tr>\n",
       "    <tr>\n",
       "      <th>4</th>\n",
       "      <td>c</td>\n",
       "      <td>3</td>\n",
       "    </tr>\n",
       "    <tr>\n",
       "      <th>5</th>\n",
       "      <td>c</td>\n",
       "      <td>4</td>\n",
       "    </tr>\n",
       "    <tr>\n",
       "      <th>6</th>\n",
       "      <td>c</td>\n",
       "      <td>5</td>\n",
       "    </tr>\n",
       "  </tbody>\n",
       "</table>\n",
       "</div>"
      ],
      "text/plain": [
       "  cats  values\n",
       "0    a       1\n",
       "1    b       2\n",
       "2    b       2\n",
       "3    b       2\n",
       "4    c       3\n",
       "5    c       4\n",
       "6    c       5"
      ]
     },
     "execution_count": 176,
     "metadata": {},
     "output_type": "execute_result"
    }
   ],
   "source": [
    "cats = pd.Categorical(['a', 'b', 'b', 'b', 'c', 'c', 'c'], \n",
    "                      categories = ['a', 'b', 'c', 'd'])\n",
    "df = pd.DataFrame({\n",
    "    'cats': cats, \n",
    "    'values': [1, 2, 2, 2, 3, 4, 5]\n",
    "})\n",
    "df"
   ]
  },
  {
   "cell_type": "code",
   "execution_count": 178,
   "metadata": {},
   "outputs": [
    {
     "data": {
      "text/html": [
       "<div>\n",
       "<style scoped>\n",
       "    .dataframe tbody tr th:only-of-type {\n",
       "        vertical-align: middle;\n",
       "    }\n",
       "\n",
       "    .dataframe tbody tr th {\n",
       "        vertical-align: top;\n",
       "    }\n",
       "\n",
       "    .dataframe thead th {\n",
       "        text-align: right;\n",
       "    }\n",
       "</style>\n",
       "<table border=\"1\" class=\"dataframe\">\n",
       "  <thead>\n",
       "    <tr style=\"text-align: right;\">\n",
       "      <th></th>\n",
       "      <th>values</th>\n",
       "    </tr>\n",
       "    <tr>\n",
       "      <th>cats</th>\n",
       "      <th></th>\n",
       "    </tr>\n",
       "  </thead>\n",
       "  <tbody>\n",
       "    <tr>\n",
       "      <th>a</th>\n",
       "      <td>1.0</td>\n",
       "    </tr>\n",
       "    <tr>\n",
       "      <th>b</th>\n",
       "      <td>2.0</td>\n",
       "    </tr>\n",
       "    <tr>\n",
       "      <th>c</th>\n",
       "      <td>4.0</td>\n",
       "    </tr>\n",
       "    <tr>\n",
       "      <th>d</th>\n",
       "      <td>NaN</td>\n",
       "    </tr>\n",
       "  </tbody>\n",
       "</table>\n",
       "</div>"
      ],
      "text/plain": [
       "      values\n",
       "cats        \n",
       "a        1.0\n",
       "b        2.0\n",
       "c        4.0\n",
       "d        NaN"
      ]
     },
     "execution_count": 178,
     "metadata": {},
     "output_type": "execute_result"
    }
   ],
   "source": [
    "df.groupby('cats').mean()"
   ]
  },
  {
   "cell_type": "code",
   "execution_count": 179,
   "metadata": {},
   "outputs": [
    {
     "data": {
      "text/html": [
       "<div>\n",
       "<style scoped>\n",
       "    .dataframe tbody tr th:only-of-type {\n",
       "        vertical-align: middle;\n",
       "    }\n",
       "\n",
       "    .dataframe tbody tr th {\n",
       "        vertical-align: top;\n",
       "    }\n",
       "\n",
       "    .dataframe thead th {\n",
       "        text-align: right;\n",
       "    }\n",
       "</style>\n",
       "<table border=\"1\" class=\"dataframe\">\n",
       "  <thead>\n",
       "    <tr style=\"text-align: right;\">\n",
       "      <th></th>\n",
       "      <th>cats</th>\n",
       "      <th>B</th>\n",
       "      <th>values</th>\n",
       "    </tr>\n",
       "  </thead>\n",
       "  <tbody>\n",
       "    <tr>\n",
       "      <th>0</th>\n",
       "      <td>a</td>\n",
       "      <td>c</td>\n",
       "      <td>1</td>\n",
       "    </tr>\n",
       "    <tr>\n",
       "      <th>1</th>\n",
       "      <td>a</td>\n",
       "      <td>d</td>\n",
       "      <td>2</td>\n",
       "    </tr>\n",
       "    <tr>\n",
       "      <th>2</th>\n",
       "      <td>b</td>\n",
       "      <td>c</td>\n",
       "      <td>3</td>\n",
       "    </tr>\n",
       "    <tr>\n",
       "      <th>3</th>\n",
       "      <td>b</td>\n",
       "      <td>d</td>\n",
       "      <td>4</td>\n",
       "    </tr>\n",
       "  </tbody>\n",
       "</table>\n",
       "</div>"
      ],
      "text/plain": [
       "  cats  B  values\n",
       "0    a  c       1\n",
       "1    a  d       2\n",
       "2    b  c       3\n",
       "3    b  d       4"
      ]
     },
     "execution_count": 179,
     "metadata": {},
     "output_type": "execute_result"
    }
   ],
   "source": [
    "cats2 = pd.Categorical(['a', 'a', 'b', 'b'], \n",
    "                       categories = ['a', 'b', 'c'])\n",
    "df2 = pd.DataFrame({\n",
    "    'cats': cats2,\n",
    "    'B': ['c', 'd', 'c', 'd'],\n",
    "    'values': [1, 2, 3, 4]\n",
    "})\n",
    "df2"
   ]
  },
  {
   "cell_type": "code",
   "execution_count": 181,
   "metadata": {
    "scrolled": true
   },
   "outputs": [
    {
     "data": {
      "text/html": [
       "<div>\n",
       "<style scoped>\n",
       "    .dataframe tbody tr th:only-of-type {\n",
       "        vertical-align: middle;\n",
       "    }\n",
       "\n",
       "    .dataframe tbody tr th {\n",
       "        vertical-align: top;\n",
       "    }\n",
       "\n",
       "    .dataframe thead th {\n",
       "        text-align: right;\n",
       "    }\n",
       "</style>\n",
       "<table border=\"1\" class=\"dataframe\">\n",
       "  <thead>\n",
       "    <tr style=\"text-align: right;\">\n",
       "      <th></th>\n",
       "      <th></th>\n",
       "      <th>values</th>\n",
       "    </tr>\n",
       "    <tr>\n",
       "      <th>cats</th>\n",
       "      <th>B</th>\n",
       "      <th></th>\n",
       "    </tr>\n",
       "  </thead>\n",
       "  <tbody>\n",
       "    <tr>\n",
       "      <th rowspan=\"2\" valign=\"top\">a</th>\n",
       "      <th>c</th>\n",
       "      <td>1.0</td>\n",
       "    </tr>\n",
       "    <tr>\n",
       "      <th>d</th>\n",
       "      <td>2.0</td>\n",
       "    </tr>\n",
       "    <tr>\n",
       "      <th rowspan=\"2\" valign=\"top\">b</th>\n",
       "      <th>c</th>\n",
       "      <td>3.0</td>\n",
       "    </tr>\n",
       "    <tr>\n",
       "      <th>d</th>\n",
       "      <td>4.0</td>\n",
       "    </tr>\n",
       "    <tr>\n",
       "      <th rowspan=\"2\" valign=\"top\">c</th>\n",
       "      <th>c</th>\n",
       "      <td>NaN</td>\n",
       "    </tr>\n",
       "    <tr>\n",
       "      <th>d</th>\n",
       "      <td>NaN</td>\n",
       "    </tr>\n",
       "  </tbody>\n",
       "</table>\n",
       "</div>"
      ],
      "text/plain": [
       "        values\n",
       "cats B        \n",
       "a    c     1.0\n",
       "     d     2.0\n",
       "b    c     3.0\n",
       "     d     4.0\n",
       "c    c     NaN\n",
       "     d     NaN"
      ]
     },
     "execution_count": 181,
     "metadata": {},
     "output_type": "execute_result"
    }
   ],
   "source": [
    "df2.groupby(['cats', 'B']).mean()"
   ]
  },
  {
   "cell_type": "code",
   "execution_count": 186,
   "metadata": {},
   "outputs": [
    {
     "data": {
      "text/html": [
       "<div>\n",
       "<style scoped>\n",
       "    .dataframe tbody tr th:only-of-type {\n",
       "        vertical-align: middle;\n",
       "    }\n",
       "\n",
       "    .dataframe tbody tr th {\n",
       "        vertical-align: top;\n",
       "    }\n",
       "\n",
       "    .dataframe thead th {\n",
       "        text-align: right;\n",
       "    }\n",
       "</style>\n",
       "<table border=\"1\" class=\"dataframe\">\n",
       "  <thead>\n",
       "    <tr style=\"text-align: right;\">\n",
       "      <th></th>\n",
       "      <th>A</th>\n",
       "      <th>B</th>\n",
       "      <th>values</th>\n",
       "    </tr>\n",
       "  </thead>\n",
       "  <tbody>\n",
       "    <tr>\n",
       "      <th>0</th>\n",
       "      <td>a</td>\n",
       "      <td>c</td>\n",
       "      <td>1</td>\n",
       "    </tr>\n",
       "    <tr>\n",
       "      <th>1</th>\n",
       "      <td>a</td>\n",
       "      <td>d</td>\n",
       "      <td>2</td>\n",
       "    </tr>\n",
       "    <tr>\n",
       "      <th>2</th>\n",
       "      <td>b</td>\n",
       "      <td>c</td>\n",
       "      <td>3</td>\n",
       "    </tr>\n",
       "    <tr>\n",
       "      <th>3</th>\n",
       "      <td>b</td>\n",
       "      <td>d</td>\n",
       "      <td>4</td>\n",
       "    </tr>\n",
       "  </tbody>\n",
       "</table>\n",
       "</div>"
      ],
      "text/plain": [
       "   A  B  values\n",
       "0  a  c       1\n",
       "1  a  d       2\n",
       "2  b  c       3\n",
       "3  b  d       4"
      ]
     },
     "execution_count": 186,
     "metadata": {},
     "output_type": "execute_result"
    }
   ],
   "source": [
    "raw_cat = pd.Categorical(['a', 'a', 'b', 'b'], \n",
    "                         categories = ['a', 'b', 'c'])\n",
    "df3 = pd.DataFrame({\n",
    "    'A': raw_cat,\n",
    "    'B': ['c', 'd', 'c', 'd'],\n",
    "    'values': [1, 2, 3, 4]\n",
    "})\n",
    "df3"
   ]
  },
  {
   "cell_type": "code",
   "execution_count": 189,
   "metadata": {},
   "outputs": [
    {
     "data": {
      "text/html": [
       "<div>\n",
       "<style scoped>\n",
       "    .dataframe tbody tr th:only-of-type {\n",
       "        vertical-align: middle;\n",
       "    }\n",
       "\n",
       "    .dataframe tbody tr th {\n",
       "        vertical-align: top;\n",
       "    }\n",
       "\n",
       "    .dataframe thead th {\n",
       "        text-align: right;\n",
       "    }\n",
       "</style>\n",
       "<table border=\"1\" class=\"dataframe\">\n",
       "  <thead>\n",
       "    <tr style=\"text-align: right;\">\n",
       "      <th></th>\n",
       "      <th></th>\n",
       "      <th>values</th>\n",
       "    </tr>\n",
       "    <tr>\n",
       "      <th>A</th>\n",
       "      <th>B</th>\n",
       "      <th></th>\n",
       "    </tr>\n",
       "  </thead>\n",
       "  <tbody>\n",
       "    <tr>\n",
       "      <th rowspan=\"2\" valign=\"top\">a</th>\n",
       "      <th>c</th>\n",
       "      <td>1</td>\n",
       "    </tr>\n",
       "    <tr>\n",
       "      <th>d</th>\n",
       "      <td>2</td>\n",
       "    </tr>\n",
       "    <tr>\n",
       "      <th rowspan=\"2\" valign=\"top\">b</th>\n",
       "      <th>c</th>\n",
       "      <td>3</td>\n",
       "    </tr>\n",
       "    <tr>\n",
       "      <th>d</th>\n",
       "      <td>4</td>\n",
       "    </tr>\n",
       "  </tbody>\n",
       "</table>\n",
       "</div>"
      ],
      "text/plain": [
       "     values\n",
       "A B        \n",
       "a c       1\n",
       "  d       2\n",
       "b c       3\n",
       "  d       4"
      ]
     },
     "execution_count": 189,
     "metadata": {},
     "output_type": "execute_result"
    }
   ],
   "source": [
    "pd.pivot_table(df3, values = 'values', index = ['A', 'B'])"
   ]
  },
  {
   "cell_type": "markdown",
   "metadata": {},
   "source": [
    "# 8. 数据修改(data munging)"
   ]
  },
  {
   "cell_type": "markdown",
   "metadata": {},
   "source": [
    "### 8.1 Getting"
   ]
  },
  {
   "cell_type": "code",
   "execution_count": 278,
   "metadata": {},
   "outputs": [
    {
     "data": {
      "text/html": [
       "<div>\n",
       "<style scoped>\n",
       "    .dataframe tbody tr th:only-of-type {\n",
       "        vertical-align: middle;\n",
       "    }\n",
       "\n",
       "    .dataframe tbody tr th {\n",
       "        vertical-align: top;\n",
       "    }\n",
       "\n",
       "    .dataframe thead th {\n",
       "        text-align: right;\n",
       "    }\n",
       "</style>\n",
       "<table border=\"1\" class=\"dataframe\">\n",
       "  <thead>\n",
       "    <tr style=\"text-align: right;\">\n",
       "      <th></th>\n",
       "      <th>cats</th>\n",
       "      <th>values</th>\n",
       "    </tr>\n",
       "  </thead>\n",
       "  <tbody>\n",
       "    <tr>\n",
       "      <th>h</th>\n",
       "      <td>a</td>\n",
       "      <td>1</td>\n",
       "    </tr>\n",
       "    <tr>\n",
       "      <th>i</th>\n",
       "      <td>b</td>\n",
       "      <td>2</td>\n",
       "    </tr>\n",
       "    <tr>\n",
       "      <th>j</th>\n",
       "      <td>b</td>\n",
       "      <td>2</td>\n",
       "    </tr>\n",
       "    <tr>\n",
       "      <th>k</th>\n",
       "      <td>b</td>\n",
       "      <td>2</td>\n",
       "    </tr>\n",
       "    <tr>\n",
       "      <th>l</th>\n",
       "      <td>c</td>\n",
       "      <td>3</td>\n",
       "    </tr>\n",
       "    <tr>\n",
       "      <th>m</th>\n",
       "      <td>c</td>\n",
       "      <td>4</td>\n",
       "    </tr>\n",
       "    <tr>\n",
       "      <th>n</th>\n",
       "      <td>c</td>\n",
       "      <td>5</td>\n",
       "    </tr>\n",
       "  </tbody>\n",
       "</table>\n",
       "</div>"
      ],
      "text/plain": [
       "  cats  values\n",
       "h    a       1\n",
       "i    b       2\n",
       "j    b       2\n",
       "k    b       2\n",
       "l    c       3\n",
       "m    c       4\n",
       "n    c       5"
      ]
     },
     "execution_count": 278,
     "metadata": {},
     "output_type": "execute_result"
    }
   ],
   "source": [
    "idx = pd.Index(['h', 'i', 'j', 'k', 'l', 'm', 'n'])\n",
    "cats = pd.Series(['a', 'b', 'b', 'b', 'c', 'c', 'c'],\n",
    "                 dtype = 'category',\n",
    "                 index = idx)\n",
    "values = [1, 2, 2, 2, 3, 4, 5]\n",
    "df = pd.DataFrame({\n",
    "    'cats': cats,\n",
    "    'values': values\n",
    "}, index = idx)\n",
    "df"
   ]
  },
  {
   "cell_type": "code",
   "execution_count": 298,
   "metadata": {},
   "outputs": [
    {
     "name": "stdout",
     "output_type": "stream",
     "text": [
      "  cats  values\n",
      "j    y       2\n",
      "k    y       2\n",
      "\n",
      "cats      category\n",
      "values       int64\n",
      "dtype: object\n"
     ]
    }
   ],
   "source": [
    "print(df.iloc[2:4, :])\n",
    "print()\n",
    "print(df.iloc[2:4, :].dtypes)"
   ]
  },
  {
   "cell_type": "code",
   "execution_count": 284,
   "metadata": {},
   "outputs": [
    {
     "data": {
      "text/plain": [
       "h    a\n",
       "i    b\n",
       "j    b\n",
       "Name: cats, dtype: category\n",
       "Categories (3, object): [a, b, c]"
      ]
     },
     "execution_count": 284,
     "metadata": {},
     "output_type": "execute_result"
    }
   ],
   "source": [
    "df.loc['h':'j', 'cats']"
   ]
  },
  {
   "cell_type": "code",
   "execution_count": 286,
   "metadata": {},
   "outputs": [
    {
     "data": {
      "text/html": [
       "<div>\n",
       "<style scoped>\n",
       "    .dataframe tbody tr th:only-of-type {\n",
       "        vertical-align: middle;\n",
       "    }\n",
       "\n",
       "    .dataframe tbody tr th {\n",
       "        vertical-align: top;\n",
       "    }\n",
       "\n",
       "    .dataframe thead th {\n",
       "        text-align: right;\n",
       "    }\n",
       "</style>\n",
       "<table border=\"1\" class=\"dataframe\">\n",
       "  <thead>\n",
       "    <tr style=\"text-align: right;\">\n",
       "      <th></th>\n",
       "      <th>cats</th>\n",
       "      <th>values</th>\n",
       "    </tr>\n",
       "  </thead>\n",
       "  <tbody>\n",
       "    <tr>\n",
       "      <th>i</th>\n",
       "      <td>b</td>\n",
       "      <td>2</td>\n",
       "    </tr>\n",
       "    <tr>\n",
       "      <th>j</th>\n",
       "      <td>b</td>\n",
       "      <td>2</td>\n",
       "    </tr>\n",
       "    <tr>\n",
       "      <th>k</th>\n",
       "      <td>b</td>\n",
       "      <td>2</td>\n",
       "    </tr>\n",
       "  </tbody>\n",
       "</table>\n",
       "</div>"
      ],
      "text/plain": [
       "  cats  values\n",
       "i    b       2\n",
       "j    b       2\n",
       "k    b       2"
      ]
     },
     "execution_count": 286,
     "metadata": {},
     "output_type": "execute_result"
    }
   ],
   "source": [
    "df[df['cats'] == 'b']"
   ]
  },
  {
   "cell_type": "code",
   "execution_count": 288,
   "metadata": {},
   "outputs": [
    {
     "data": {
      "text/plain": [
       "cats      a\n",
       "values    1\n",
       "Name: h, dtype: object"
      ]
     },
     "execution_count": 288,
     "metadata": {},
     "output_type": "execute_result"
    }
   ],
   "source": [
    "df.loc['h', :]"
   ]
  },
  {
   "cell_type": "code",
   "execution_count": 290,
   "metadata": {
    "scrolled": true
   },
   "outputs": [
    {
     "data": {
      "text/plain": [
       "'a'"
      ]
     },
     "execution_count": 290,
     "metadata": {},
     "output_type": "execute_result"
    }
   ],
   "source": [
    "df.iat[0, 0]"
   ]
  },
  {
   "cell_type": "code",
   "execution_count": 295,
   "metadata": {},
   "outputs": [
    {
     "name": "stdout",
     "output_type": "stream",
     "text": [
      "  cats  values\n",
      "h    x       1\n",
      "i    y       2\n",
      "j    y       2\n",
      "k    y       2\n",
      "l    z       3\n",
      "m    z       4\n",
      "n    z       5\n",
      "\n",
      "x\n"
     ]
    }
   ],
   "source": [
    "df['cats'].cat.categories = ['x', 'y', 'z']\n",
    "print(df)\n",
    "print()\n",
    "print(df.at['h', 'cats'])"
   ]
  },
  {
   "cell_type": "code",
   "execution_count": 296,
   "metadata": {
    "scrolled": true
   },
   "outputs": [
    {
     "data": {
      "text/plain": [
       "h    x\n",
       "Name: cats, dtype: category\n",
       "Categories (3, object): [x, y, z]"
      ]
     },
     "execution_count": 296,
     "metadata": {},
     "output_type": "execute_result"
    }
   ],
   "source": [
    "df.loc[['h'], 'cats']"
   ]
  },
  {
   "cell_type": "markdown",
   "metadata": {},
   "source": [
    "#### 8.2 String and datatime accessors"
   ]
  },
  {
   "cell_type": "code",
   "execution_count": 300,
   "metadata": {},
   "outputs": [
    {
     "data": {
      "text/plain": [
       "0     True\n",
       "1     True\n",
       "2    False\n",
       "3    False\n",
       "dtype: bool"
      ]
     },
     "execution_count": 300,
     "metadata": {},
     "output_type": "execute_result"
    }
   ],
   "source": [
    "str_s = pd.Series(list('aabb'))\n",
    "str_cat = str_s.astype('category')\n",
    "str_cat.str.contains('a')"
   ]
  },
  {
   "cell_type": "code",
   "execution_count": 304,
   "metadata": {},
   "outputs": [
    {
     "name": "stdout",
     "output_type": "stream",
     "text": [
      "0   2019-01-01\n",
      "1   2019-01-02\n",
      "2   2019-01-03\n",
      "3   2019-01-04\n",
      "4   2019-01-05\n",
      "dtype: category\n",
      "Categories (5, datetime64[ns]): [2019-01-01, 2019-01-02, 2019-01-03, 2019-01-04, 2019-01-05]\n",
      "\n",
      "0    1\n",
      "1    2\n",
      "2    3\n",
      "3    4\n",
      "4    5\n",
      "dtype: int64\n"
     ]
    }
   ],
   "source": [
    "date_s = pd.Series(pd.date_range('1/1/2019', periods = 5, freq = 'D'))\n",
    "date_cat = date_s.astype('category')\n",
    "print(date_cat)\n",
    "print()\n",
    "print(date_cat.dt.day)"
   ]
  },
  {
   "cell_type": "code",
   "execution_count": 306,
   "metadata": {
    "scrolled": false
   },
   "outputs": [
    {
     "data": {
      "text/plain": [
       "0    True\n",
       "1    True\n",
       "2    True\n",
       "3    True\n",
       "dtype: bool"
      ]
     },
     "execution_count": 306,
     "metadata": {},
     "output_type": "execute_result"
    }
   ],
   "source": [
    "ret_s = str_s.str.contains('a')\n",
    "ret_cat = str_cat.str.contains('a')\n",
    "ret_s.dtype == ret_cat.dtype\n",
    "ret_s == ret_cat"
   ]
  },
  {
   "cell_type": "markdown",
   "metadata": {},
   "source": [
    "# 9. Getting Data in / out"
   ]
  },
  {
   "cell_type": "code",
   "execution_count": 169,
   "metadata": {},
   "outputs": [
    {
     "data": {
      "text/plain": [
       "cats    category\n",
       "vals       int64\n",
       "dtype: object"
      ]
     },
     "execution_count": 169,
     "metadata": {},
     "output_type": "execute_result"
    }
   ],
   "source": [
    "import io\n",
    "s = pd.Series(pd.Categorical(['a', 'b', 'b', 'a', 'a', 'd']))\n",
    "s.cat.categories = ['very good', 'good', 'bad']\n",
    "s = s.cat.set_categories(['very bad', 'bad', 'medium', 'good', 'very good'])\n",
    "\n",
    "df = pd.DataFrame({\n",
    "    'cats': s,\n",
    "    'vals': [1, 2, 3, 4, 5, 6]\n",
    "})\n",
    "df.dtypes"
   ]
  },
  {
   "cell_type": "code",
   "execution_count": 170,
   "metadata": {},
   "outputs": [
    {
     "data": {
      "text/plain": [
       "Unnamed: 0     int64\n",
       "cats          object\n",
       "vals           int64\n",
       "dtype: object"
      ]
     },
     "execution_count": 170,
     "metadata": {},
     "output_type": "execute_result"
    }
   ],
   "source": [
    "csv = io.StringIO()\n",
    "df.to_csv(csv)\n",
    "df2 = pd.read_csv(io.StringIO(csv.getvalue()))\n",
    "df2.dtypes"
   ]
  },
  {
   "cell_type": "code",
   "execution_count": 171,
   "metadata": {},
   "outputs": [
    {
     "data": {
      "text/plain": [
       "0    very good\n",
       "1         good\n",
       "2         good\n",
       "3    very good\n",
       "4    very good\n",
       "5          bad\n",
       "Name: cats, dtype: object"
      ]
     },
     "execution_count": 171,
     "metadata": {},
     "output_type": "execute_result"
    }
   ],
   "source": [
    "df2['cats']"
   ]
  },
  {
   "cell_type": "code",
   "execution_count": 172,
   "metadata": {},
   "outputs": [
    {
     "data": {
      "text/plain": [
       "Unnamed: 0       int64\n",
       "cats          category\n",
       "vals             int64\n",
       "dtype: object"
      ]
     },
     "execution_count": 172,
     "metadata": {},
     "output_type": "execute_result"
    }
   ],
   "source": [
    "df2['cats'] = df2['cats'].astype('category')\n",
    "df2['cats'].cat.set_categories(['very bad', 'bad', 'medium', 'good', 'very good'], inplace = True)\n",
    "df2.dtypes"
   ]
  },
  {
   "cell_type": "code",
   "execution_count": 173,
   "metadata": {},
   "outputs": [
    {
     "data": {
      "text/plain": [
       "0    very good\n",
       "1         good\n",
       "2         good\n",
       "3    very good\n",
       "4    very good\n",
       "5          bad\n",
       "Name: cats, dtype: category\n",
       "Categories (5, object): [very bad, bad, medium, good, very good]"
      ]
     },
     "execution_count": 173,
     "metadata": {},
     "output_type": "execute_result"
    }
   ],
   "source": [
    "df2['cats']"
   ]
  },
  {
   "cell_type": "markdown",
   "metadata": {},
   "source": [
    "# 10. Miss Data"
   ]
  },
  {
   "cell_type": "code",
   "execution_count": 146,
   "metadata": {},
   "outputs": [
    {
     "data": {
      "text/plain": [
       "0      a\n",
       "1      b\n",
       "2    NaN\n",
       "3      a\n",
       "dtype: category\n",
       "Categories (2, object): [a, b]"
      ]
     },
     "execution_count": 146,
     "metadata": {},
     "output_type": "execute_result"
    }
   ],
   "source": [
    "s = pd.Series(['a', 'b', np.nan, 'a'], dtype = 'category')\n",
    "s"
   ]
  },
  {
   "cell_type": "code",
   "execution_count": 148,
   "metadata": {},
   "outputs": [
    {
     "data": {
      "text/plain": [
       "0    0\n",
       "1    1\n",
       "2   -1\n",
       "3    0\n",
       "dtype: int8"
      ]
     },
     "execution_count": 148,
     "metadata": {},
     "output_type": "execute_result"
    }
   ],
   "source": [
    "s.cat.codes"
   ]
  },
  {
   "cell_type": "code",
   "execution_count": 151,
   "metadata": {},
   "outputs": [
    {
     "data": {
      "text/plain": [
       "0    False\n",
       "1    False\n",
       "2     True\n",
       "dtype: bool"
      ]
     },
     "execution_count": 151,
     "metadata": {},
     "output_type": "execute_result"
    }
   ],
   "source": [
    "pd.isna(s)"
   ]
  },
  {
   "cell_type": "code",
   "execution_count": 153,
   "metadata": {
    "scrolled": true
   },
   "outputs": [
    {
     "data": {
      "text/plain": [
       "0    a\n",
       "1    b\n",
       "2    a\n",
       "dtype: category\n",
       "Categories (2, object): [a, b]"
      ]
     },
     "execution_count": 153,
     "metadata": {},
     "output_type": "execute_result"
    }
   ],
   "source": [
    "s.fillna('a')"
   ]
  },
  {
   "cell_type": "markdown",
   "metadata": {},
   "source": [
    "# 11. Gotchas"
   ]
  },
  {
   "cell_type": "code",
   "execution_count": 137,
   "metadata": {
    "scrolled": false
   },
   "outputs": [
    {
     "data": {
      "text/plain": [
       "16000"
      ]
     },
     "execution_count": 137,
     "metadata": {},
     "output_type": "execute_result"
    }
   ],
   "source": [
    "s = pd.Series(['foo', 'bar'] * 1000)\n",
    "s.nbytes"
   ]
  },
  {
   "cell_type": "code",
   "execution_count": 144,
   "metadata": {
    "scrolled": true
   },
   "outputs": [
    {
     "data": {
      "text/plain": [
       "2016"
      ]
     },
     "execution_count": 144,
     "metadata": {},
     "output_type": "execute_result"
    }
   ],
   "source": [
    "s.astype('category').nbytes"
   ]
  }
 ],
 "metadata": {
  "kernelspec": {
   "display_name": "Python 3",
   "language": "python",
   "name": "python3"
  },
  "language_info": {
   "codemirror_mode": {
    "name": "ipython",
    "version": 3
   },
   "file_extension": ".py",
   "mimetype": "text/x-python",
   "name": "python",
   "nbconvert_exporter": "python",
   "pygments_lexer": "ipython3",
   "version": "3.6.5"
  }
 },
 "nbformat": 4,
 "nbformat_minor": 2
}
