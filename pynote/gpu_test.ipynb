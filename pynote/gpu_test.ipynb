{
 "cells": [
  {
   "cell_type": "markdown",
   "id": "d80a31a9-58b7-404e-a2b0-30e1c5571f16",
   "metadata": {},
   "source": [
    "# 环境确认"
   ]
  },
  {
   "cell_type": "code",
   "execution_count": 3,
   "id": "10ef9e4e-cba9-48a7-b1de-0ae17bdfc077",
   "metadata": {},
   "outputs": [
    {
     "name": "stdout",
     "output_type": "stream",
     "text": [
      "# conda environments:\n",
      "#\n",
      "base                     D:\\software\\miniconda3\n",
      "pysci                    D:\\software\\miniconda3\\envs\\pysci\n",
      "torchgpu              *  D:\\software\\miniconda3\\envs\\torchgpu\n",
      "ts                       D:\\software\\miniconda3\\envs\\ts\n",
      "work                     D:\\software\\miniconda3\\envs\\work\n",
      "\n"
     ]
    }
   ],
   "source": [
    "!conda env list"
   ]
  },
  {
   "cell_type": "code",
   "execution_count": 4,
   "id": "31af4369-a4a8-47d4-b863-2d9a58175fb5",
   "metadata": {},
   "outputs": [
    {
     "name": "stdout",
     "output_type": "stream",
     "text": [
      "Available kernels:\n",
      "  python3    D:\\software\\miniconda3\\envs\\torchgpu\\share\\jupyter\\kernels\\python3\n"
     ]
    }
   ],
   "source": [
    "!jupyter kernelspec list"
   ]
  },
  {
   "cell_type": "code",
   "execution_count": 42,
   "id": "3583b7b2-262a-4b63-83b9-af05b2385159",
   "metadata": {},
   "outputs": [
    {
     "name": "stdout",
     "output_type": "stream",
     "text": [
      "Wed Jul 19 00:09:53 2023       \n",
      "+---------------------------------------------------------------------------------------+\n",
      "| NVIDIA-SMI 536.40                 Driver Version: 536.40       CUDA Version: 12.2     |\n",
      "|-----------------------------------------+----------------------+----------------------+\n",
      "| GPU  Name                     TCC/WDDM  | Bus-Id        Disp.A | Volatile Uncorr. ECC |\n",
      "| Fan  Temp   Perf          Pwr:Usage/Cap |         Memory-Usage | GPU-Util  Compute M. |\n",
      "|                                         |                      |               MIG M. |\n",
      "|=========================================+======================+======================|\n",
      "|   0  NVIDIA GeForce RTX 4070      WDDM  | 00000000:01:00.0  On |                  N/A |\n",
      "|  0%   38C    P8              14W / 215W |   3473MiB / 12282MiB |      2%      Default |\n",
      "|                                         |                      |                  N/A |\n",
      "+-----------------------------------------+----------------------+----------------------+\n",
      "                                                                                         \n",
      "+---------------------------------------------------------------------------------------+\n",
      "| Processes:                                                                            |\n",
      "|  GPU   GI   CI        PID   Type   Process name                            GPU Memory |\n",
      "|        ID   ID                                                             Usage      |\n",
      "|=======================================================================================|\n",
      "|    0   N/A  N/A      1228    C+G   C:\\Windows\\System32\\dwm.exe               N/A      |\n",
      "|    0   N/A  N/A      2284    C+G   ...oogle\\Chrome\\Application\\chrome.exe    N/A      |\n",
      "|    0   N/A  N/A      2604    C+G   D:\\software\\QQLive\\QQLive.exe             N/A      |\n",
      "|    0   N/A  N/A      5376    C+G   C:\\Windows\\explorer.exe                   N/A      |\n",
      "|    0   N/A  N/A      6124    C+G   D:\\software\\Microsoft VS Code\\Code.exe    N/A      |\n",
      "|    0   N/A  N/A      8136    C+G   ...les\\Microsoft OneDrive\\OneDrive.exe    N/A      |\n",
      "|    0   N/A  N/A      8364    C+G   ...siveControlPanel\\SystemSettings.exe    N/A      |\n",
      "|    0   N/A  N/A      8588    C+G   ...64__8wekyb3d8bbwe\\CalculatorApp.exe    N/A      |\n",
      "|    0   N/A  N/A      9520    C+G   ...yb3d8bbwe\\Microsoft.Msn.Weather.exe    N/A      |\n",
      "|    0   N/A  N/A      9672    C+G   ...\\cef\\cef.win7x64\\steamwebhelper.exe    N/A      |\n",
      "|    0   N/A  N/A     10696    C+G   ..._8wekyb3d8bbwe\\Microsoft.Photos.exe    N/A      |\n",
      "|    0   N/A  N/A     11168    C+G   ...CBS_cw5n1h2txyewy\\TextInputHost.exe    N/A      |\n",
      "|    0   N/A  N/A     11764    C+G   ...ekyb3d8bbwe\\PhoneExperienceHost.exe    N/A      |\n",
      "|    0   N/A  N/A     12540    C+G   ..._8wekyb3d8bbwe\\HxCalendarAppImm.exe    N/A      |\n",
      "|    0   N/A  N/A     12740    C+G   ...GeForce Experience\\NVIDIA Share.exe    N/A      |\n",
      "|    0   N/A  N/A     12920    C+G   ...rPicker\\PowerToys.ColorPickerUI.exe    N/A      |\n",
      "|    0   N/A  N/A     12948    C+G   ...FancyZones\\PowerToys.FancyZones.exe    N/A      |\n",
      "|    0   N/A  N/A     13020    C+G   ...\\modules\\Peek\\PowerToys.Peek.UI.exe    N/A      |\n",
      "|    0   N/A  N/A     13080    C+G   ...GeForce Experience\\NVIDIA Share.exe    N/A      |\n",
      "|    0   N/A  N/A     13244    C+G   ...auncher\\PowerToys.PowerLauncher.exe    N/A      |\n",
      "|    0   N/A  N/A     13920    C+G   ...on\\114.0.1823.82\\msedgewebview2.exe    N/A      |\n",
      "|    0   N/A  N/A     15548    C+G   ...9\\extracted\\runtime\\WeChatAppEx.exe    N/A      |\n",
      "|    0   N/A  N/A     16592    C+G   D:\\software\\Listary\\Listary.exe           N/A      |\n",
      "|    0   N/A  N/A     16744    C+G   D:\\software\\滴答清单\\TickTick.exe         N/A      |\n",
      "|    0   N/A  N/A     17976    C+G   ...__8wekyb3d8bbwe\\WindowsTerminal.exe    N/A      |\n",
      "|    0   N/A  N/A     18228    C+G   ....Search_cw5n1h2txyewy\\SearchApp.exe    N/A      |\n",
      "|    0   N/A  N/A     19440    C+G   D:\\software\\RStudio\\rstudio.exe           N/A      |\n",
      "|    0   N/A  N/A     20204    C+G   D:\\software\\CloudMusic\\cloudmusic.exe     N/A      |\n",
      "|    0   N/A  N/A     21340    C+G   ...5n1h2txyewy\\ShellExperienceHost.exe    N/A      |\n",
      "|    0   N/A  N/A     21872      C   ...miniconda3\\envs\\torchgpu\\python.exe    N/A      |\n",
      "+---------------------------------------------------------------------------------------+\n"
     ]
    }
   ],
   "source": [
    "# GPU 参数查看\n",
    "!nvidia-smi"
   ]
  },
  {
   "cell_type": "code",
   "execution_count": 44,
   "id": "78543747-63f3-4d12-8e2f-a447a9888723",
   "metadata": {},
   "outputs": [
    {
     "name": "stdout",
     "output_type": "stream",
     "text": [
      "GPU 0: NVIDIA GeForce RTX 4070 (UUID: GPU-767b59b7-ab75-7234-b3ac-162cfe418bfe)\n"
     ]
    }
   ],
   "source": [
    "# 获取 GPU ID 信息\n",
    "!nvidia-smi -L"
   ]
  },
  {
   "cell_type": "code",
   "execution_count": 46,
   "id": "c4139a42-cdda-477c-8842-ce0c3ab29e57",
   "metadata": {},
   "outputs": [
    {
     "name": "stdout",
     "output_type": "stream",
     "text": [
      "0\n"
     ]
    }
   ],
   "source": [
    "# 单独过滤出 GPU 卡号信息\n",
    "!nvidia-smi -L | cut -d ' ' -f 2 | cut -c 1"
   ]
  },
  {
   "cell_type": "markdown",
   "id": "61992917-3782-4555-ae06-0514f897f105",
   "metadata": {},
   "source": [
    "# Library"
   ]
  },
  {
   "cell_type": "code",
   "execution_count": 36,
   "id": "d2602cd5-4c06-44f9-910a-39d278582239",
   "metadata": {},
   "outputs": [
    {
     "name": "stdout",
     "output_type": "stream",
     "text": [
      "torch.__version__ = 2.0.1+cu118\n",
      "torch.version.cuda = 11.8\n",
      "torch.backends.cudnn.version() = 8700\n",
      "torch.cuda.get_device_name(0) = NVIDIA GeForce RTX 4070\n"
     ]
    }
   ],
   "source": [
    "import time\n",
    "import random\n",
    "import numpy as np\n",
    "import torch\n",
    "from torch import nn\n",
    "\n",
    "print(f\"torch.__version__ = {torch.__version__}\")\n",
    "print(f\"torch.version.cuda = {torch.version.cuda}\")\n",
    "print(f\"torch.backends.cudnn.version() = {torch.backends.cudnn.version()}\")\n",
    "print(f\"torch.cuda.get_device_name(0) = {torch.cuda.get_device_name(0)}\")"
   ]
  },
  {
   "cell_type": "markdown",
   "id": "ea348893-d18a-4120-9fc3-9eb1b584c364",
   "metadata": {},
   "source": [
    "# GPU 探索"
   ]
  },
  {
   "cell_type": "markdown",
   "id": "3143d16c-877b-42a3-818f-550fb51d10e7",
   "metadata": {},
   "source": [
    "## GPU 设备"
   ]
  },
  {
   "cell_type": "code",
   "execution_count": 9,
   "id": "17ded8f3-5a00-4618-b654-25bf313153cb",
   "metadata": {},
   "outputs": [
    {
     "name": "stdout",
     "output_type": "stream",
     "text": [
      "Using cuda:0 device.\n"
     ]
    }
   ],
   "source": [
    "device = torch.device(\"cuda:0\" if torch.cuda.is_available() else \"cpu\")\n",
    "print(f\"Using {device} device.\")"
   ]
  },
  {
   "cell_type": "code",
   "execution_count": 49,
   "id": "086836ef-b4d1-4b30-b94c-1a87d314f072",
   "metadata": {},
   "outputs": [
    {
     "name": "stdout",
     "output_type": "stream",
     "text": [
      "0\n"
     ]
    }
   ],
   "source": [
    "# or\n",
    "import os\n",
    "os.environ[\"CUDA_VISIBLE_DEVICES\"] = \"0\"\n",
    "print(os.environ[\"CUDA_VISIBLE_DEVICES\"])"
   ]
  },
  {
   "cell_type": "markdown",
   "id": "a09946e3-a216-4c63-8b6e-224089b8debb",
   "metadata": {},
   "source": [
    "## GPU 个数"
   ]
  },
  {
   "cell_type": "code",
   "execution_count": 7,
   "id": "70561498-164f-4144-88cf-764ebda332df",
   "metadata": {},
   "outputs": [
    {
     "data": {
      "text/plain": [
       "1"
      ]
     },
     "execution_count": 7,
     "metadata": {},
     "output_type": "execute_result"
    }
   ],
   "source": [
    "torch.cuda.device_count()"
   ]
  },
  {
   "cell_type": "markdown",
   "id": "ac6d3d6c-7d8e-4e37-b094-c53c1c1e1bf0",
   "metadata": {},
   "source": [
    "# GPU 随机种子"
   ]
  },
  {
   "cell_type": "code",
   "execution_count": 38,
   "id": "2b494eaa-829c-45c2-bcdc-c92ce74d7877",
   "metadata": {},
   "outputs": [],
   "source": [
    "fix_seed = 42\n",
    "random.seed(fix_seed)\n",
    "np.random.seed(fix_seed)\n",
    "torch.manual_seed(fix_seed)\n",
    "if torch.cuda.is_available():\n",
    "    torch.cuda.manual_seed_all(0)"
   ]
  },
  {
   "cell_type": "markdown",
   "id": "a6270078-bf8d-492f-b39f-ec780077713a",
   "metadata": {},
   "source": [
    "# Benchmark"
   ]
  },
  {
   "cell_type": "code",
   "execution_count": 39,
   "id": "0fb2fa80-94a3-49a4-a706-47cf24a1888b",
   "metadata": {},
   "outputs": [],
   "source": [
    "if torch.cuda.is_available():\n",
    "    torch.backends.cudnn.deterministic = True\n",
    "    # cuDNN 使用非确定性算法，可以使用 torch.backends.cudnn.enabled = False 来进行禁用\n",
    "    torch.backends.cudnn.benchmark = False"
   ]
  },
  {
   "cell_type": "markdown",
   "id": "24c7ba9a-0b63-4b0f-9340-95ac71a4e387",
   "metadata": {},
   "source": [
    "# GPU 使用"
   ]
  },
  {
   "cell_type": "markdown",
   "id": "2d9ec472-30ba-462d-a725-a657a05f91a0",
   "metadata": {},
   "source": [
    "## GPU 张量"
   ]
  },
  {
   "cell_type": "code",
   "execution_count": 12,
   "id": "3ce61164-71df-4cc4-a063-3e685c344b3e",
   "metadata": {},
   "outputs": [
    {
     "data": {
      "text/plain": [
       "device(type='cuda', index=0)"
      ]
     },
     "execution_count": 12,
     "metadata": {},
     "output_type": "execute_result"
    }
   ],
   "source": [
    "device"
   ]
  },
  {
   "cell_type": "code",
   "execution_count": 15,
   "id": "0584d750-7f6f-41a1-9b40-bf03737519f5",
   "metadata": {},
   "outputs": [
    {
     "name": "stdout",
     "output_type": "stream",
     "text": [
      "cuda:0\n",
      "True\n",
      "cpu\n",
      "False\n"
     ]
    }
   ],
   "source": [
    "tensor = torch.rand((100, 100))\n",
    "\n",
    "if torch.cuda.is_available():\n",
    "    tensor_gpu = tensor.to(device)\n",
    "    # tensor_gpu = tensor.cuda()\n",
    "    print(tensor_gpu.device)\n",
    "    print(tensor_gpu.is_cuda)\n",
    "\n",
    "    tensor_cpu = tensor_gpu.to(\"cpu\")\n",
    "    # tensor_cpu = tensor_gpu.cpu()\n",
    "    print(tensor_cpu.device)\n",
    "    print(tensor_cpu.is_cuda)"
   ]
  },
  {
   "cell_type": "code",
   "execution_count": 24,
   "id": "02b99835-2fd5-4338-a151-f7a6b883062c",
   "metadata": {},
   "outputs": [
    {
     "name": "stdout",
     "output_type": "stream",
     "text": [
      "0.11007380485534668\n",
      "cpu\n",
      "cpu\n"
     ]
    }
   ],
   "source": [
    "a = torch.rand((10000, 200))\n",
    "b = torch.rand((200, 10000))\n",
    "\n",
    "tic = time.time()\n",
    "c = torch.matmul(a, b)\n",
    "toc = time.time()\n",
    "\n",
    "print(toc - tic)\n",
    "print(a.device)\n",
    "print(b.device)"
   ]
  },
  {
   "cell_type": "code",
   "execution_count": 25,
   "id": "291f2576-a48e-4a89-85ee-c29741962824",
   "metadata": {},
   "outputs": [
    {
     "name": "stdout",
     "output_type": "stream",
     "text": [
      "Using cuda:0 device.\n",
      "0.02391982078552246\n",
      "cuda:0\n",
      "cuda:0\n"
     ]
    }
   ],
   "source": [
    "# 设备\n",
    "device = torch.device(\"cuda:0\" if torch.cuda.is_available() else \"cpu\")\n",
    "print(f\"Using {device} device.\")\n",
    "\n",
    "a = torch.rand((10000, 200), device = device)\n",
    "b = torch.rand((200, 10000))\n",
    "b = b.to(device)\n",
    "# or b = b.cuda() if torch.cuda.is_available() else b\n",
    "\n",
    "tic = time.time()\n",
    "c = torch.matmul(a, b)\n",
    "toc = time.time()\n",
    "\n",
    "print(toc - tic)\n",
    "print(a.device)\n",
    "print(b.device)"
   ]
  },
  {
   "cell_type": "markdown",
   "id": "6a3900bc-2f19-4c7d-9767-d9de5540d35d",
   "metadata": {},
   "source": [
    "# GPU 清除缓存"
   ]
  },
  {
   "cell_type": "code",
   "execution_count": 40,
   "id": "c3b9a889-3309-426d-acf7-b57fecfa5a13",
   "metadata": {},
   "outputs": [],
   "source": [
    "torch.cuda.empty_cache()"
   ]
  },
  {
   "cell_type": "code",
   "execution_count": null,
   "id": "25e48b55-b216-4667-babc-67d567c9d0e3",
   "metadata": {},
   "outputs": [],
   "source": []
  }
 ],
 "metadata": {
  "kernelspec": {
   "display_name": "Python 3 (ipykernel)",
   "language": "python",
   "name": "python3"
  },
  "language_info": {
   "codemirror_mode": {
    "name": "ipython",
    "version": 3
   },
   "file_extension": ".py",
   "mimetype": "text/x-python",
   "name": "python",
   "nbconvert_exporter": "python",
   "pygments_lexer": "ipython3",
   "version": "3.10.12"
  }
 },
 "nbformat": 4,
 "nbformat_minor": 5
}
