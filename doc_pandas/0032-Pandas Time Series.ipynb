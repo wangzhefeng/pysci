{
 "cells": [
  {
   "cell_type": "markdown",
   "metadata": {},
   "source": [
    "# Pandas 4 time related concepts:\n",
    "\n",
    "* date times\n",
    "* time deltas\n",
    "* time spans\n",
    "* date offset\n",
    "\n",
    "\n",
    "|Concept|Scalar Class|Array Class|pandas Data Type|Primary Creation Method|\n",
    "|-------|------------|-----------|----------------|------------------------|\n",
    "|Date time|Timestamp|DatetimeIndex|datetime64[ns], datetime64[ns,tz]|to_datetime(),date_range()|\n",
    "|Time deltas|Timedelta|TimedeltaIndex|timedelta64[ns]|to_timedelta(),timedelta_range()|\n",
    "|Time spans|Period|PeriodIndex|period[freq]|Period(),period_range()|\n",
    "|Date offset|DateOffset|None|None|DateOffset|"
   ]
  },
  {
   "cell_type": "code",
   "execution_count": 1,
   "metadata": {},
   "outputs": [],
   "source": [
    "import datetime\n",
    "import numpy as np\n",
    "import pandas as pd\n",
    "# import scikits.timeseries"
   ]
  },
  {
   "cell_type": "markdown",
   "metadata": {},
   "source": [
    "### 1.[FUN] `pd.to_datetime()`"
   ]
  },
  {
   "cell_type": "code",
   "execution_count": 2,
   "metadata": {},
   "outputs": [
    {
     "data": {
      "text/plain": [
       "DatetimeIndex(['2018-01-01', '2018-01-01', '2018-01-01'], dtype='datetime64[ns]', freq=None)"
      ]
     },
     "execution_count": 2,
     "metadata": {},
     "output_type": "execute_result"
    }
   ],
   "source": [
    "dti = pd.to_datetime(['1/1/2018', \n",
    "                      np.datetime64('2018-01-01'), \n",
    "                      datetime.datetime(2018, 1, 1)])\n",
    "dti"
   ]
  },
  {
   "cell_type": "markdown",
   "metadata": {},
   "source": [
    "### 2.[FUN] `pd.date_range()`"
   ]
  },
  {
   "cell_type": "code",
   "execution_count": 3,
   "metadata": {},
   "outputs": [
    {
     "data": {
      "text/plain": [
       "DatetimeIndex(['2018-01-01 00:00:00', '2018-01-01 01:00:00',\n",
       "               '2018-01-01 02:00:00', '2018-01-01 03:00:00',\n",
       "               '2018-01-01 04:00:00', '2018-01-01 05:00:00',\n",
       "               '2018-01-01 06:00:00', '2018-01-01 07:00:00',\n",
       "               '2018-01-01 08:00:00', '2018-01-01 09:00:00'],\n",
       "              dtype='datetime64[ns]', freq='H')"
      ]
     },
     "execution_count": 3,
     "metadata": {},
     "output_type": "execute_result"
    }
   ],
   "source": [
    "dti = pd.date_range('2018-01-01', periods = 10, freq = 'H')\n",
    "dti"
   ]
  },
  {
   "cell_type": "markdown",
   "metadata": {},
   "source": [
    "### 3.[FUN] `to_localize(\"\")`"
   ]
  },
  {
   "cell_type": "code",
   "execution_count": 10,
   "metadata": {},
   "outputs": [
    {
     "data": {
      "text/plain": [
       "DatetimeIndex(['2018-01-01 00:00:00+00:00', '2018-01-01 01:00:00+00:00',\n",
       "               '2018-01-01 02:00:00+00:00'],\n",
       "              dtype='datetime64[ns, UTC]', freq='H')"
      ]
     },
     "execution_count": 10,
     "metadata": {},
     "output_type": "execute_result"
    }
   ],
   "source": [
    "dti = dti.tz_localize('UTC')\n",
    "dti"
   ]
  },
  {
   "cell_type": "markdown",
   "metadata": {},
   "source": [
    "### 4.[FUN] `.tz_convert(\"\")`"
   ]
  },
  {
   "cell_type": "code",
   "execution_count": 13,
   "metadata": {},
   "outputs": [
    {
     "data": {
      "text/plain": [
       "DatetimeIndex(['2017-12-31 16:00:00-08:00', '2017-12-31 17:00:00-08:00',\n",
       "               '2017-12-31 18:00:00-08:00'],\n",
       "              dtype='datetime64[ns, US/Pacific]', freq='H')"
      ]
     },
     "execution_count": 13,
     "metadata": {},
     "output_type": "execute_result"
    }
   ],
   "source": [
    "dti.tz_convert('US/Pacific')"
   ]
  },
  {
   "cell_type": "markdown",
   "metadata": {},
   "source": [
    "### 5.[FUN] `.resample()`"
   ]
  },
  {
   "cell_type": "code",
   "execution_count": 7,
   "metadata": {},
   "outputs": [
    {
     "name": "stdout",
     "output_type": "stream",
     "text": [
      "2019-01-01 00:00:00    0\n",
      "2019-01-01 01:00:00    1\n",
      "2019-01-01 02:00:00    2\n",
      "2019-01-01 03:00:00    3\n",
      "2019-01-01 04:00:00    4\n",
      "2019-01-01 05:00:00    5\n",
      "Freq: H, dtype: int64\n"
     ]
    }
   ],
   "source": [
    "idx = pd.date_range(\"2019-01-01\", periods = 6, freq = \"H\")\n",
    "ts = pd.Series(range(len(idx)), index = idx)\n",
    "print(ts)"
   ]
  },
  {
   "cell_type": "code",
   "execution_count": 10,
   "metadata": {},
   "outputs": [
    {
     "data": {
      "text/plain": [
       "2019-01-01 00:00:00    0.5\n",
       "2019-01-01 02:00:00    2.5\n",
       "2019-01-01 04:00:00    4.5\n",
       "Freq: 2H, dtype: float64"
      ]
     },
     "execution_count": 10,
     "metadata": {},
     "output_type": "execute_result"
    }
   ],
   "source": [
    "ts.resample(\"2H\").mean()"
   ]
  },
  {
   "cell_type": "markdown",
   "metadata": {},
   "source": [
    "### 6.[FUN] `pd.Timestamp()`, `.day_name()`, `pd.Timedelta()`"
   ]
  },
  {
   "cell_type": "code",
   "execution_count": 16,
   "metadata": {},
   "outputs": [
    {
     "name": "stdout",
     "output_type": "stream",
     "text": [
      "Friday\n",
      "Saturday\n",
      "Monday\n"
     ]
    }
   ],
   "source": [
    "friday = pd.Timestamp(\"2019-08-23\")\n",
    "print(friday.day_name())\n",
    "stariday = friday + pd.Timedelta(\"1 day\")\n",
    "print(stariday.day_name())\n",
    "monday = friday + pd.offsets.BDay()\n",
    "print(monday.day_name())"
   ]
  },
  {
   "cell_type": "markdown",
   "metadata": {},
   "source": [
    "### 7.[FUN] `pd.period_range()`"
   ]
  },
  {
   "cell_type": "code",
   "execution_count": 17,
   "metadata": {},
   "outputs": [
    {
     "name": "stdout",
     "output_type": "stream",
     "text": [
      "0   2011-01\n",
      "1   2011-02\n",
      "2   2011-03\n",
      "dtype: object\n"
     ]
    }
   ],
   "source": [
    "ps = pd.Series(pd.period_range(\"1/1/2011\", freq = \"M\", periods  =3))\n",
    "print(ps)"
   ]
  },
  {
   "cell_type": "markdown",
   "metadata": {},
   "source": [
    "### 8.[FUN] `pd.DateOffset()`"
   ]
  },
  {
   "cell_type": "code",
   "execution_count": 18,
   "metadata": {},
   "outputs": [
    {
     "name": "stdout",
     "output_type": "stream",
     "text": [
      "0         <DateOffset>\n",
      "1    <2 * DateOffsets>\n",
      "dtype: object\n"
     ]
    }
   ],
   "source": [
    "ps = pd.Series([pd.DateOffset(1), \n",
    "                pd.DateOffset(2)])\n",
    "print(ps)"
   ]
  },
  {
   "cell_type": "markdown",
   "metadata": {},
   "source": [
    "### 9.pd.NaT"
   ]
  },
  {
   "cell_type": "code",
   "execution_count": 19,
   "metadata": {},
   "outputs": [
    {
     "name": "stdout",
     "output_type": "stream",
     "text": [
      "NaT\n",
      "NaT\n",
      "NaT\n",
      "False\n"
     ]
    }
   ],
   "source": [
    "print(pd.Timestamp(pd.NaT))\n",
    "print(pd.Timedelta(pd.NaT))\n",
    "print(pd.Period(pd.NaT))\n",
    "print(pd.NaT == pd.NaT)"
   ]
  },
  {
   "cell_type": "markdown",
   "metadata": {},
   "source": [
    "## 1.Timestamps vs. Time Spans"
   ]
  },
  {
   "cell_type": "markdown",
   "metadata": {},
   "source": [
    "### 1.1 pd.Timestamp()"
   ]
  },
  {
   "cell_type": "code",
   "execution_count": 22,
   "metadata": {},
   "outputs": [
    {
     "name": "stdout",
     "output_type": "stream",
     "text": [
      "2019-08-20 00:00:00\n",
      "2019-08-20 00:00:00\n",
      "2019-08-20 00:00:00\n"
     ]
    }
   ],
   "source": [
    "dti1 = pd.Timestamp(\"2019-08-20\")\n",
    "print(dti1)\n",
    "dti2 = pd.Timestamp(datetime.datetime(2019, 8, 20))\n",
    "print(dti2)\n",
    "dti3 = pd.Timestamp(2019, 8, 20)\n",
    "print(dti3)"
   ]
  },
  {
   "cell_type": "code",
   "execution_count": 23,
   "metadata": {},
   "outputs": [
    {
     "data": {
      "text/plain": [
       "Timestamp('2019-08-20 00:00:00')"
      ]
     },
     "execution_count": 23,
     "metadata": {},
     "output_type": "execute_result"
    }
   ],
   "source": [
    "pd.Timestamp(\"2019-08-20\")"
   ]
  },
  {
   "cell_type": "code",
   "execution_count": 24,
   "metadata": {},
   "outputs": [
    {
     "data": {
      "text/plain": [
       "Timestamp('2019-08-20 00:00:00')"
      ]
     },
     "execution_count": 24,
     "metadata": {},
     "output_type": "execute_result"
    }
   ],
   "source": [
    "pd.Timestamp(datetime.datetime(2019, 8, 20))"
   ]
  },
  {
   "cell_type": "code",
   "execution_count": 25,
   "metadata": {},
   "outputs": [
    {
     "data": {
      "text/plain": [
       "Timestamp('2019-08-20 00:00:00')"
      ]
     },
     "execution_count": 25,
     "metadata": {},
     "output_type": "execute_result"
    }
   ],
   "source": [
    "pd.Timestamp(2019, 8, 20)"
   ]
  },
  {
   "cell_type": "markdown",
   "metadata": {},
   "source": [
    "### 1.2 pd.Period('', freq)"
   ]
  },
  {
   "cell_type": "code",
   "execution_count": 26,
   "metadata": {},
   "outputs": [
    {
     "data": {
      "text/plain": [
       "Period('2019-08', 'M')"
      ]
     },
     "execution_count": 26,
     "metadata": {},
     "output_type": "execute_result"
    }
   ],
   "source": [
    "pd.Period('2019-08')"
   ]
  },
  {
   "cell_type": "code",
   "execution_count": 27,
   "metadata": {},
   "outputs": [
    {
     "data": {
      "text/plain": [
       "Period('2019-08-01', 'D')"
      ]
     },
     "execution_count": 27,
     "metadata": {},
     "output_type": "execute_result"
    }
   ],
   "source": [
    "pd.Period('2019-08', freq = 'D')"
   ]
  },
  {
   "cell_type": "markdown",
   "metadata": {},
   "source": [
    "### 1.3 Timestamp-DatetimeIndex vs Period-PeriodIndex"
   ]
  },
  {
   "cell_type": "code",
   "execution_count": 31,
   "metadata": {},
   "outputs": [
    {
     "name": "stdout",
     "output_type": "stream",
     "text": [
      "DatetimeIndex(['2012-05-01', '2012-05-02', '2012-05-03'], dtype='datetime64[ns]', freq=None)\n",
      "------------------------------\n",
      "2012-05-01    0.080688\n",
      "2012-05-02   -0.858467\n",
      "2012-05-03    0.627360\n",
      "dtype: float64\n"
     ]
    }
   ],
   "source": [
    "dates = [pd.Timestamp('2012-05-01'), \n",
    "         pd.Timestamp('2012-05-02'), \n",
    "         pd.Timestamp('2012-05-03')]\n",
    "ts = pd.Series(np.random.randn(3),\n",
    "               index = dates)\n",
    "print(ts.index)\n",
    "print('-' * 30)\n",
    "print(ts)"
   ]
  },
  {
   "cell_type": "code",
   "execution_count": 36,
   "metadata": {},
   "outputs": [
    {
     "name": "stdout",
     "output_type": "stream",
     "text": [
      "PeriodIndex(['2019-09', '2019-08', '2019-07'], dtype='period[M]', freq='M')\n",
      "------------------------------\n",
      "2019-09    0.285477\n",
      "2019-08   -1.268847\n",
      "2019-07   -1.155963\n",
      "Freq: M, dtype: float64\n"
     ]
    }
   ],
   "source": [
    "dt = [pd.Period(\"2019-09\"), pd.Period(\"2019-08\"), pd.Period(\"2019-07\")]\n",
    "ts = pd.Series(np.random.randn(3),\n",
    "               index = dt)\n",
    "print(ts.index)\n",
    "print(\"-\" * 30)\n",
    "print(ts)"
   ]
  },
  {
   "cell_type": "code",
   "execution_count": null,
   "metadata": {},
   "outputs": [],
   "source": []
  }
 ],
 "metadata": {
  "kernelspec": {
   "display_name": "Python 3",
   "language": "python",
   "name": "python3"
  },
  "language_info": {
   "codemirror_mode": {
    "name": "ipython",
    "version": 3
   },
   "file_extension": ".py",
   "mimetype": "text/x-python",
   "name": "python",
   "nbconvert_exporter": "python",
   "pygments_lexer": "ipython3",
   "version": "3.6.5"
  }
 },
 "nbformat": 4,
 "nbformat_minor": 2
}
