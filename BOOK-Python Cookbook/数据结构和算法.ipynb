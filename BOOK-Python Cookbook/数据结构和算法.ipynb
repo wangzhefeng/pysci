{
 "cells": [
  {
   "cell_type": "markdown",
   "metadata": {},
   "source": [
    "## 1.1 解压序列赋值给多个变量\n",
    "\n",
    "* 任何序列(或者可迭代对象)都可以通过一个简单的赋值语句解压并赋值给多个变量;\n",
    "    - str\n",
    "    - list\n",
    "    - tuple\n",
    "    - file\n",
    "    - 迭代器\n",
    "    - 生成器\n",
    "*  唯一的前提就是变量的数量必须跟序列元素的数量是一样的;"
   ]
  },
  {
   "cell_type": "markdown",
   "metadata": {},
   "source": [
    "#### __Example 1__"
   ]
  },
  {
   "cell_type": "code",
   "execution_count": 1,
   "metadata": {},
   "outputs": [
    {
     "name": "stdout",
     "output_type": "stream",
     "text": [
      "4\n",
      "5\n"
     ]
    }
   ],
   "source": [
    "p = (4, 5)\n",
    "x, y = p\n",
    "print(x)\n",
    "print(y)"
   ]
  },
  {
   "cell_type": "markdown",
   "metadata": {},
   "source": [
    "#### **Example 2**"
   ]
  },
  {
   "cell_type": "code",
   "execution_count": 2,
   "metadata": {},
   "outputs": [
    {
     "name": "stdout",
     "output_type": "stream",
     "text": [
      "ACME\n",
      "50\n",
      "91.1\n",
      "(2012, 12, 21)\n"
     ]
    }
   ],
   "source": [
    "data = [\"ACME\", 50, 91.1, (2012, 12, 21)]\n",
    "name, shares, price, date = data\n",
    "print(name)\n",
    "print(shares)\n",
    "print(price)\n",
    "print(date)"
   ]
  },
  {
   "cell_type": "code",
   "execution_count": 3,
   "metadata": {},
   "outputs": [
    {
     "name": "stdout",
     "output_type": "stream",
     "text": [
      "ACME\n",
      "50\n",
      "91.1\n",
      "2012\n",
      "12\n",
      "21\n"
     ]
    }
   ],
   "source": [
    "name, shares, price, (year, mon, day) = data\n",
    "print(name)\n",
    "print(shares)\n",
    "print(price)\n",
    "print(year)\n",
    "print(mon)\n",
    "print(day)"
   ]
  },
  {
   "cell_type": "markdown",
   "metadata": {},
   "source": [
    "#### **Example 3**"
   ]
  },
  {
   "cell_type": "code",
   "execution_count": 4,
   "metadata": {},
   "outputs": [
    {
     "name": "stdout",
     "output_type": "stream",
     "text": [
      "H\n",
      "e\n",
      "l\n",
      "l\n",
      "o\n"
     ]
    }
   ],
   "source": [
    "data = \"Hello\"\n",
    "a, b, c, d, e = data\n",
    "print(a)\n",
    "print(b)\n",
    "print(c)\n",
    "print(d)\n",
    "print(e)"
   ]
  },
  {
   "cell_type": "markdown",
   "metadata": {},
   "source": [
    "#### **Example 4**"
   ]
  },
  {
   "cell_type": "code",
   "execution_count": 5,
   "metadata": {},
   "outputs": [
    {
     "name": "stdout",
     "output_type": "stream",
     "text": [
      "50\n",
      "91.1\n"
     ]
    }
   ],
   "source": [
    "data = [\"ACME\", 50, 91.1, (2012, 12, 21)]\n",
    "_, shares, price, _ = data\n",
    "print(shares)\n",
    "print(price)"
   ]
  },
  {
   "cell_type": "markdown",
   "metadata": {},
   "source": [
    "## 1.2 解压可迭代对象赋值给多个变量"
   ]
  },
  {
   "cell_type": "markdown",
   "metadata": {},
   "source": [
    "#### **Example 1**"
   ]
  },
  {
   "cell_type": "code",
   "execution_count": 6,
   "metadata": {},
   "outputs": [
    {
     "data": {
      "text/plain": [
       "89.5"
      ]
     },
     "execution_count": 6,
     "metadata": {},
     "output_type": "execute_result"
    }
   ],
   "source": [
    "import numpy as np\n",
    "def drop_first_last(grades):\n",
    "    first, *middle, last = grades\n",
    "    return np.mean(middle)\n",
    "\n",
    "grades = [89, 83, 84, 93, 98, 88]\n",
    "drop_first_last(grades)"
   ]
  },
  {
   "cell_type": "markdown",
   "metadata": {},
   "source": [
    "#### **Example 2**"
   ]
  },
  {
   "cell_type": "code",
   "execution_count": 7,
   "metadata": {},
   "outputs": [
    {
     "name": "stdout",
     "output_type": "stream",
     "text": [
      "Dave\n",
      "dave@example.com\n",
      "['773-555-1212', '847-555-1212']\n"
     ]
    }
   ],
   "source": [
    "record = ('Dave', 'dave@example.com', '773-555-1212', '847-555-1212')\n",
    "name, email, *phone_numbers = record\n",
    "print(name)\n",
    "print(email)\n",
    "print(phone_numbers)"
   ]
  },
  {
   "cell_type": "markdown",
   "metadata": {},
   "source": [
    "#### **Example 3**"
   ]
  },
  {
   "cell_type": "code",
   "execution_count": 8,
   "metadata": {},
   "outputs": [
    {
     "name": "stdout",
     "output_type": "stream",
     "text": [
      "[10, 8, 7, 1, 9, 5, 10]\n",
      "3\n",
      "True\n"
     ]
    }
   ],
   "source": [
    "*trailing, current = [10, 8, 7, 1, 9, 5, 10, 3]\n",
    "print(trailing)\n",
    "print(current)\n",
    "print(sum(trailing) / len(trailing) > current)"
   ]
  },
  {
   "cell_type": "markdown",
   "metadata": {},
   "source": [
    "## 1.3 保留最后 N 个元素"
   ]
  },
  {
   "cell_type": "markdown",
   "metadata": {},
   "source": [
    "#### **Example 1**"
   ]
  },
  {
   "cell_type": "code",
   "execution_count": 15,
   "metadata": {},
   "outputs": [
    {
     "name": "stdout",
     "output_type": "stream",
     "text": [
      ">>> import this\n",
      "The Zen of Python, by Tim Peters\n",
      "python Beautiful is better than ugly.\n",
      "--------------------\n",
      ">>> import this\n",
      "The Zen of Python, by Tim Peters\n",
      "python Beautiful is better than ugly.\n",
      "python Explicit is better than implicit.\n",
      "--------------------\n",
      ">>> import this\n",
      "The Zen of Python, by Tim Peters\n",
      "python Beautiful is better than ugly.\n",
      "python Explicit is better than implicit.\n",
      "python Simple is better than complex.\n",
      "--------------------\n",
      ">>> import this\n",
      "The Zen of Python, by Tim Peters\n",
      "python Beautiful is better than ugly.\n",
      "python Explicit is better than implicit.\n",
      "python Simple is better than complex.\n",
      "python Complex is better than complicated.\n",
      "--------------------\n",
      "The Zen of Python, by Tim Peters\n",
      "python Beautiful is better than ugly.\n",
      "python Explicit is better than implicit.\n",
      "python Simple is better than complex.\n",
      "python Complex is better than complicated.\n",
      "python Flat is better than nested.\n",
      "--------------------\n",
      "python Beautiful is better than ugly.\n",
      "python Explicit is better than implicit.\n",
      "python Simple is better than complex.\n",
      "python Complex is better than complicated.\n",
      "python Flat is better than nested.\n",
      "python Sparse is better than dense.\n",
      "--------------------\n",
      "python Explicit is better than implicit.\n",
      "python Simple is better than complex.\n",
      "python Complex is better than complicated.\n",
      "python Flat is better than nested.\n",
      "python Sparse is better than dense.\n",
      "python Readability counts.\n",
      "--------------------\n",
      "python Simple is better than complex.\n",
      "python Complex is better than complicated.\n",
      "python Flat is better than nested.\n",
      "python Sparse is better than dense.\n",
      "python Readability counts.\n",
      "python Special cases aren't special enough to break the rules.\n",
      "--------------------\n",
      "python Complex is better than complicated.\n",
      "python Flat is better than nested.\n",
      "python Sparse is better than dense.\n",
      "python Readability counts.\n",
      "python Special cases aren't special enough to break the rules.\n",
      "python Although practicality beats purity.\n",
      "--------------------\n",
      "python Flat is better than nested.\n",
      "python Sparse is better than dense.\n",
      "python Readability counts.\n",
      "python Special cases aren't special enough to break the rules.\n",
      "python Although practicality beats purity.\n",
      "python Errors should never pass silently.\n",
      "--------------------\n",
      "python Sparse is better than dense.\n",
      "python Readability counts.\n",
      "python Special cases aren't special enough to break the rules.\n",
      "python Although practicality beats purity.\n",
      "python Errors should never pass silently.\n",
      "python Unless explicitly silenced.\n",
      "--------------------\n",
      "python Readability counts.\n",
      "python Special cases aren't special enough to break the rules.\n",
      "python Although practicality beats purity.\n",
      "python Errors should never pass silently.\n",
      "python Unless explicitly silenced.\n",
      "python In the face of ambiguity, refuse the temptation to guess.\n",
      "--------------------\n",
      "python Special cases aren't special enough to break the rules.\n",
      "python Although practicality beats purity.\n",
      "python Errors should never pass silently.\n",
      "python Unless explicitly silenced.\n",
      "python In the face of ambiguity, refuse the temptation to guess.\n",
      "python There should be one-- and preferably only one --obvious way to do it.\n",
      "--------------------\n",
      "python Although practicality beats purity.\n",
      "python Errors should never pass silently.\n",
      "python Unless explicitly silenced.\n",
      "python In the face of ambiguity, refuse the temptation to guess.\n",
      "python There should be one-- and preferably only one --obvious way to do it.\n",
      "python Although that way may not be obvious at first unless you're Dutch.\n",
      "--------------------\n",
      "python Errors should never pass silently.\n",
      "python Unless explicitly silenced.\n",
      "python In the face of ambiguity, refuse the temptation to guess.\n",
      "python There should be one-- and preferably only one --obvious way to do it.\n",
      "python Although that way may not be obvious at first unless you're Dutch.\n",
      "python Now is better than never.\n",
      "--------------------\n",
      "python Unless explicitly silenced.\n",
      "python In the face of ambiguity, refuse the temptation to guess.\n",
      "python There should be one-- and preferably only one --obvious way to do it.\n",
      "python Although that way may not be obvious at first unless you're Dutch.\n",
      "python Now is better than never.\n",
      "python Although never is often better than *right* now.\n",
      "--------------------\n",
      "python In the face of ambiguity, refuse the temptation to guess.\n",
      "python There should be one-- and preferably only one --obvious way to do it.\n",
      "python Although that way may not be obvious at first unless you're Dutch.\n",
      "python Now is better than never.\n",
      "python Although never is often better than *right* now.\n",
      "python If the implementation is hard to explain, it's a bad idea.\n",
      "--------------------\n",
      "python There should be one-- and preferably only one --obvious way to do it.\n",
      "python Although that way may not be obvious at first unless you're Dutch.\n",
      "python Now is better than never.\n",
      "python Although never is often better than *right* now.\n",
      "python If the implementation is hard to explain, it's a bad idea.\n",
      "python If the implementation is easy to explain, it may be a good idea.\n",
      "--------------------\n",
      "python Although that way may not be obvious at first unless you're Dutch.\n",
      "python Now is better than never.\n",
      "python Although never is often better than *right* now.\n",
      "python If the implementation is hard to explain, it's a bad idea.\n",
      "python If the implementation is easy to explain, it may be a good idea.\n",
      "python Namespaces are one honking great idea -- let's do more of those!--------------------\n"
     ]
    }
   ],
   "source": [
    "from collections import deque\n",
    "\n",
    "def search(lines, pattern, history = 5):\n",
    "    previous_lines = deque(maxlen = history)\n",
    "    for line in lines:\n",
    "        if pattern in line:\n",
    "            yield line, previous_lines\n",
    "        previous_lines.append(line)\n",
    "\n",
    "\n",
    "\n",
    "with open(r\"./data/somefile.txt\", \"rt\") as f:\n",
    "    for line, prevlines in search(f, \"python\", 5):\n",
    "        for pline in prevlines:\n",
    "            print(pline, end = \"\")\n",
    "        print(line, end = \"\")\n",
    "        print(\"-\" * 20)"
   ]
  },
  {
   "cell_type": "markdown",
   "metadata": {},
   "source": [
    "#### **Example 2**"
   ]
  },
  {
   "cell_type": "code",
   "execution_count": 17,
   "metadata": {},
   "outputs": [
    {
     "name": "stdout",
     "output_type": "stream",
     "text": [
      "deque([1, 2, 3], maxlen=3)\n"
     ]
    }
   ],
   "source": [
    "q = deque(maxlen = 3)\n",
    "q.append(1)\n",
    "q.append(2)\n",
    "q.append(3)\n",
    "print(q)"
   ]
  },
  {
   "cell_type": "code",
   "execution_count": 18,
   "metadata": {},
   "outputs": [
    {
     "name": "stdout",
     "output_type": "stream",
     "text": [
      "deque([2, 3, 4], maxlen=3)\n"
     ]
    }
   ],
   "source": [
    "q.append(4)\n",
    "print(q)"
   ]
  },
  {
   "cell_type": "code",
   "execution_count": 19,
   "metadata": {},
   "outputs": [
    {
     "name": "stdout",
     "output_type": "stream",
     "text": [
      "deque([3, 4, 5], maxlen=3)\n"
     ]
    }
   ],
   "source": [
    "q.append(5)\n",
    "print(q)"
   ]
  },
  {
   "cell_type": "markdown",
   "metadata": {},
   "source": [
    "#### **Example 3**"
   ]
  },
  {
   "cell_type": "code",
   "execution_count": 23,
   "metadata": {},
   "outputs": [
    {
     "name": "stdout",
     "output_type": "stream",
     "text": [
      "deque([1, 2, 3])\n",
      "deque([4, 1, 2, 3])\n"
     ]
    },
    {
     "data": {
      "text/plain": [
       "3"
      ]
     },
     "execution_count": 23,
     "metadata": {},
     "output_type": "execute_result"
    }
   ],
   "source": [
    "q = deque()\n",
    "q.append(1)\n",
    "q.append(2)\n",
    "q.append(3)\n",
    "print(q)\n",
    "q.appendleft(4)\n",
    "print(q)\n",
    "q.pop()"
   ]
  },
  {
   "cell_type": "code",
   "execution_count": 24,
   "metadata": {},
   "outputs": [
    {
     "data": {
      "text/plain": [
       "4"
      ]
     },
     "execution_count": 24,
     "metadata": {},
     "output_type": "execute_result"
    }
   ],
   "source": [
    "q.popleft()"
   ]
  },
  {
   "cell_type": "markdown",
   "metadata": {},
   "source": [
    "## 1.4 查找最大或最小的 N 个元素\n",
    "\n",
    "* `heapq.nlargest()`\n",
    "* `heapq.nsmallest()`"
   ]
  },
  {
   "cell_type": "markdown",
   "metadata": {},
   "source": [
    "#### **Example 1**"
   ]
  },
  {
   "cell_type": "code",
   "execution_count": 26,
   "metadata": {},
   "outputs": [
    {
     "name": "stdout",
     "output_type": "stream",
     "text": [
      "[42, 37, 23]\n",
      "[-4, 1, 2]\n"
     ]
    }
   ],
   "source": [
    "import heapq\n",
    "nums = [1, 8, 2, 23, 7, -4, 18, 23, 42, 37, 2]\n",
    "print(heapq.nlargest(3, nums))\n",
    "print(heapq.nsmallest(3, nums))"
   ]
  },
  {
   "cell_type": "markdown",
   "metadata": {},
   "source": [
    "#### **Example 2**"
   ]
  },
  {
   "cell_type": "code",
   "execution_count": 30,
   "metadata": {},
   "outputs": [
    {
     "name": "stdout",
     "output_type": "stream",
     "text": [
      "[{'name': 'YHOO', 'price': 16.35, 'shares': 45},\n",
      " {'name': 'FB', 'price': 21.09, 'shares': 200},\n",
      " {'name': 'HPQ', 'price': 31.75, 'shares': 35}]\n",
      "[{'name': 'AAPL', 'price': 543.22, 'shares': 50},\n",
      " {'name': 'ACME', 'price': 115.65, 'shares': 75},\n",
      " {'name': 'IBM', 'price': 91.1, 'shares': 100}]\n"
     ]
    }
   ],
   "source": [
    "import heapq\n",
    "from pprint import pprint\n",
    "portfolio = [\n",
    "    {\"name\": \"IBM\", \"shares\": 100, \"price\": 91.1},\n",
    "    {\"name\": \"AAPL\", \"shares\": 50, \"price\": 543.22},\n",
    "    {\"name\": \"FB\", \"shares\": 200, \"price\": 21.09},\n",
    "    {\"name\": \"HPQ\", \"shares\": 35, \"price\": 31.75},\n",
    "    {\"name\": \"YHOO\", \"shares\": 45, \"price\": 16.35},\n",
    "    {\"name\": \"ACME\", \"shares\": 75, \"price\": 115.65},\n",
    "]\n",
    "cheap = heapq.nsmallest(3, portfolio, key = lambda s: s[\"price\"])\n",
    "expensive = heapq.nlargest(3, portfolio, key = lambda s: s[\"price\"])\n",
    "pprint(cheap)\n",
    "pprint(expensive)"
   ]
  },
  {
   "cell_type": "markdown",
   "metadata": {},
   "source": [
    "#### **Example 3**"
   ]
  },
  {
   "cell_type": "code",
   "execution_count": 33,
   "metadata": {},
   "outputs": [
    {
     "name": "stdout",
     "output_type": "stream",
     "text": [
      "[-4, 2, 1, 23, 7, 2, 18, 23, 42, 37, 8]\n"
     ]
    }
   ],
   "source": [
    "import heapq\n",
    "nums = [1, 8, 2, 23, 7, -4, 18, 23, 42, 37, 2]\n",
    "heap = nums\n",
    "heapq.heapify(heap)\n",
    "print(heap)"
   ]
  },
  {
   "cell_type": "code",
   "execution_count": 34,
   "metadata": {},
   "outputs": [
    {
     "data": {
      "text/plain": [
       "-4"
      ]
     },
     "execution_count": 34,
     "metadata": {},
     "output_type": "execute_result"
    }
   ],
   "source": [
    "heapq.heappop(heap)"
   ]
  },
  {
   "cell_type": "code",
   "execution_count": 35,
   "metadata": {},
   "outputs": [
    {
     "data": {
      "text/plain": [
       "1"
      ]
     },
     "execution_count": 35,
     "metadata": {},
     "output_type": "execute_result"
    }
   ],
   "source": [
    "heapq.heappop(heap)"
   ]
  },
  {
   "cell_type": "code",
   "execution_count": 36,
   "metadata": {},
   "outputs": [
    {
     "data": {
      "text/plain": [
       "2"
      ]
     },
     "execution_count": 36,
     "metadata": {},
     "output_type": "execute_result"
    }
   ],
   "source": [
    "heapq.heappop(heap)"
   ]
  },
  {
   "cell_type": "code",
   "execution_count": null,
   "metadata": {},
   "outputs": [],
   "source": []
  }
 ],
 "metadata": {
  "kernelspec": {
   "display_name": "Python 3",
   "language": "python",
   "name": "python3"
  },
  "language_info": {
   "codemirror_mode": {
    "name": "ipython",
    "version": 3
   },
   "file_extension": ".py",
   "mimetype": "text/x-python",
   "name": "python",
   "nbconvert_exporter": "python",
   "pygments_lexer": "ipython3",
   "version": "3.7.0"
  }
 },
 "nbformat": 4,
 "nbformat_minor": 2
}
