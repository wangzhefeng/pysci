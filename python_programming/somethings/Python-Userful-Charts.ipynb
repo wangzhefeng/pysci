{
 "cells": [
  {
   "cell_type": "markdown",
   "metadata": {},
   "source": [
    "## 1.Packages "
   ]
  },
  {
   "cell_type": "code",
   "execution_count": 3,
   "metadata": {},
   "outputs": [
    {
     "name": "stdout",
     "output_type": "stream",
     "text": [
      "2.2.2\n",
      "0.8.1\n"
     ]
    }
   ],
   "source": [
    "# !pip install brewer2mpl\n",
    "import numpy as np\n",
    "import pandas as pd\n",
    "import matplotlib as mpl\n",
    "import matplotlib.pyplot as plt\n",
    "import seaborn as sns\n",
    "import warnings\n",
    "warnings.filterwarnings(action = 'once')\n",
    "\n",
    "large = 22\n",
    "med = 16\n",
    "small = 12\n",
    "params = {\n",
    "    'axes.titlesize': large,\n",
    "    'legend.fontsize': med,\n",
    "    'figure.figsize': (16, 10),\n",
    "    'axes.labelsize': med,\n",
    "    'axes.titlesize': med,\n",
    "    'xtick.labelsize': med,\n",
    "    'ytick.labelsize': med,\n",
    "    'figure.titlesize': large\n",
    "}\n",
    "plt.rcParams.update(params)\n",
    "plt.style.use('seaborn-whitegrid')\n",
    "sns.set_style('white')\n",
    "\n",
    "%matplotlib inline\n",
    "\n",
    "# Version\n",
    "print(mpl.__version__)\n",
    "print(sns.__version__)"
   ]
  },
  {
   "cell_type": "markdown",
   "metadata": {},
   "source": [
    "## 2.关联(Correlation)"
   ]
  },
  {
   "cell_type": "markdown",
   "metadata": {},
   "source": [
    "### 2.1 散点图（Scatter plot）"
   ]
  },
  {
   "cell_type": "code",
   "execution_count": 7,
   "metadata": {},
   "outputs": [],
   "source": [
    "# Import dataset\n",
    "midwest = pd.read_csv(\"https://raw.githubusercontent.com/selva86/datasets/master/midwest_filter.csv\")\n",
    "\n",
    "# Prepare Data\n",
    "# Create as many colors as there are unique midwest['category']\n",
    "categories = np.unique(midwest['category'])\n",
    "colors = [plt.cm.tab10(i / float(len(categories) - 1)) for i in range(len(categories))]"
   ]
  },
  {
   "cell_type": "code",
   "execution_count": 6,
   "metadata": {},
   "outputs": [
    {
     "data": {
      "text/plain": [
       "<Figure size 1280x800 with 0 Axes>"
      ]
     },
     "execution_count": 6,
     "metadata": {},
     "output_type": "execute_result"
    },
    {
     "data": {
      "text/plain": [
       "<Figure size 1280x800 with 0 Axes>"
      ]
     },
     "metadata": {},
     "output_type": "display_data"
    }
   ],
   "source": [
    "# Draw plot for each category\n",
    "plt.figure(figsize = (16, 10), dpi = 80, facecolor = 'w', edgecolor = 'k')"
   ]
  },
  {
   "cell_type": "markdown",
   "metadata": {},
   "source": [
    "### 3.带线性回归最佳拟合线的散点图(Scatter plot with linear regression line of best fit)"
   ]
  },
  {
   "cell_type": "code",
   "execution_count": null,
   "metadata": {},
   "outputs": [],
   "source": [
    "# Import Data\n",
    "df = pd.read_csv(\"https://raw.githubusercontent.com/selva86/datasets/master/mpg_ggplot2.csv\")\n",
    "df_select = df.loc[df.cyl.isin([4, 8]), :]\n",
    "\n",
    "# Plot\n",
    "sns.set_style('white')\n",
    "gridobj = sns.lmplot(x = 'displ', y = 'hwy', hue = 'cyl', data = df_select, \n",
    "                     #height = 7,\n",
    "                     #asppect = 1.6,\n",
    "                     robust = True,\n",
    "                     palette = 'tab10'\n",
    "                    # scatter_kws = dict(s = 60, linewidths = 0.7, edgecolors = 'black')\n",
    "                    )\n",
    "# Decorations\n",
    "gridobj.set(xlim = (0.5, 7.5), ylim = (0, 50))\n",
    "plt.title('Scatterplot with line of best fit grouped by number of cylinders', fontsize = 20)\n",
    "plt.show()"
   ]
  },
  {
   "cell_type": "code",
   "execution_count": null,
   "metadata": {},
   "outputs": [],
   "source": []
  }
 ],
 "metadata": {
  "kernelspec": {
   "display_name": "Python 3",
   "language": "python",
   "name": "python3"
  },
  "language_info": {
   "codemirror_mode": {
    "name": "ipython",
    "version": 3
   },
   "file_extension": ".py",
   "mimetype": "text/x-python",
   "name": "python",
   "nbconvert_exporter": "python",
   "pygments_lexer": "ipython3",
   "version": "3.6.5"
  }
 },
 "nbformat": 4,
 "nbformat_minor": 2
}
