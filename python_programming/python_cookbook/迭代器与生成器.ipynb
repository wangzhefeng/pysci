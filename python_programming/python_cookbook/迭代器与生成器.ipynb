{
 "cells": [
  {
   "cell_type": "markdown",
   "metadata": {},
   "source": [
    "## 4.1 手动遍历迭代器"
   ]
  },
  {
   "cell_type": "code",
   "execution_count": 3,
   "metadata": {},
   "outputs": [
    {
     "name": "stdout",
     "output_type": "stream",
     "text": [
      "Hello World!\n"
     ]
    }
   ],
   "source": [
    "def manual_iter():\n",
    "    with open(\"./data/somefile.txt\", \"rt\") as f:\n",
    "        try:\n",
    "            while True:\n",
    "                line = next(f)\n",
    "                print(line, end = \"\")\n",
    "        except StopIteration:\n",
    "            pass\n",
    "\n",
    "manual_iter()"
   ]
  },
  {
   "cell_type": "code",
   "execution_count": 5,
   "metadata": {},
   "outputs": [
    {
     "name": "stdout",
     "output_type": "stream",
     "text": [
      "Hello World!\n"
     ]
    }
   ],
   "source": [
    "def manual_iter():\n",
    "    with open(\"./data/somefile.txt\", \"rt\") as f:\n",
    "        while True:\n",
    "            line = next(f, None)\n",
    "            if line is None:\n",
    "                break\n",
    "            print(line, end = \"\")\n",
    "\n",
    "manual_iter()"
   ]
  },
  {
   "cell_type": "code",
   "execution_count": null,
   "metadata": {},
   "outputs": [],
   "source": []
  },
  {
   "cell_type": "code",
   "execution_count": null,
   "metadata": {},
   "outputs": [],
   "source": []
  }
 ],
 "metadata": {
  "kernelspec": {
   "display_name": "Python 3",
   "language": "python",
   "name": "python3"
  },
  "language_info": {
   "codemirror_mode": {
    "name": "ipython",
    "version": 3
   },
   "file_extension": ".py",
   "mimetype": "text/x-python",
   "name": "python",
   "nbconvert_exporter": "python",
   "pygments_lexer": "ipython3",
   "version": "3.7.0"
  }
 },
 "nbformat": 4,
 "nbformat_minor": 2
}
