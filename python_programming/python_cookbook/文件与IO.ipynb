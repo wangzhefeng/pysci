{
 "cells": [
  {
   "cell_type": "markdown",
   "metadata": {},
   "source": [
    "## 5.1 读写文本数据\n",
    "\n",
    "不同编码文本数据:\n",
    "\n",
    "* ASCII\n",
    "    - ascii对应从U+0000到U+007F范围内的7位字符\n",
    "* Latin-1\n",
    "    - latin-1是字节0-255到U+0000至U+00FF范围内Unicode字符的直接映射\n",
    "    - 当读取一个未知编码的文本时使用latin-1编码永远不会产生解码错误\n",
    "    - 使用latin-1编码读取一个文件的时候也许不能产生完全正确的文本解码数据， 但是它也能从中提取出足够多的有用数据。同时，如果你之后将数据回写回去，原先的数据还是会保留的。\n",
    "* UTF-8\n",
    "    - 在web应用程序中通常都使用的是UTF-8\n",
    "* UTF-16"
   ]
  },
  {
   "cell_type": "code",
   "execution_count": 9,
   "metadata": {},
   "outputs": [
    {
     "name": "stdout",
     "output_type": "stream",
     "text": [
      "test1\n",
      "test2\n",
      "test3\n"
     ]
    }
   ],
   "source": [
    "with open(\"./data/somefile.txt\", \"rt\") as f:\n",
    "    data = f.read()\n",
    "    print(data)"
   ]
  },
  {
   "cell_type": "code",
   "execution_count": 10,
   "metadata": {},
   "outputs": [
    {
     "name": "stdout",
     "output_type": "stream",
     "text": [
      "test1\n",
      "\n",
      "test2\n",
      "\n",
      "test3\n"
     ]
    }
   ],
   "source": [
    "with open(\"./data/somefile.txt\", \"rt\") as f:\n",
    "    for line in f:\n",
    "        print(line)"
   ]
  },
  {
   "cell_type": "code",
   "execution_count": 11,
   "metadata": {},
   "outputs": [
    {
     "name": "stdout",
     "output_type": "stream",
     "text": [
      "text1text2\n"
     ]
    }
   ],
   "source": [
    "with open(\"./data/somefile.txt\", \"wt\") as f:\n",
    "    f.write(\"text1\")\n",
    "    f.write(\"text2\")\n",
    "\n",
    "with open(\"./data/somefile.txt\", \"rt\") as f:\n",
    "    data = f.read()\n",
    "    print(data)"
   ]
  },
  {
   "cell_type": "code",
   "execution_count": 12,
   "metadata": {},
   "outputs": [
    {
     "name": "stdout",
     "output_type": "stream",
     "text": [
      "text1text2text3text4\n"
     ]
    }
   ],
   "source": [
    "with open(\"./data/somefile.txt\", \"at\") as f:\n",
    "    f.write(\"text3\")\n",
    "    f.write(\"text4\")\n",
    "\n",
    "with open(\"./data/somefile.txt\", \"rt\") as f:\n",
    "    data = f.read()\n",
    "    print(data)"
   ]
  },
  {
   "cell_type": "markdown",
   "metadata": {},
   "source": [
    "#### **Example 4**"
   ]
  },
  {
   "cell_type": "code",
   "execution_count": 13,
   "metadata": {},
   "outputs": [
    {
     "data": {
      "text/plain": [
       "'utf-8'"
      ]
     },
     "execution_count": 13,
     "metadata": {},
     "output_type": "execute_result"
    }
   ],
   "source": [
    "import sys\n",
    "sys.getdefaultencoding()"
   ]
  },
  {
   "cell_type": "code",
   "execution_count": 14,
   "metadata": {},
   "outputs": [
    {
     "name": "stdout",
     "output_type": "stream",
     "text": [
      "text1text2text3text4\n"
     ]
    }
   ],
   "source": [
    "with open(\"./data/somefile.txt\", \"rt\", encoding = \"latin-1\") as f:\n",
    "    data = f.read()\n",
    "    print(data)"
   ]
  },
  {
   "cell_type": "markdown",
   "metadata": {},
   "source": [
    "## 5.2 打印输出至文件中"
   ]
  },
  {
   "cell_type": "code",
   "execution_count": 16,
   "metadata": {},
   "outputs": [
    {
     "name": "stdout",
     "output_type": "stream",
     "text": [
      "Hello World!\n",
      "\n"
     ]
    }
   ],
   "source": [
    "with open(\"./data/somefile.txt\", \"wt\") as f:\n",
    "    print(\"Hello World!\", file = f)\n",
    "\n",
    "with open(\"./data/somefile.txt\", \"rt\") as f:\n",
    "    data = f.read()\n",
    "    print(data)"
   ]
  },
  {
   "cell_type": "markdown",
   "metadata": {},
   "source": [
    "## 5.3 使用其他分隔符或行终止符打印"
   ]
  },
  {
   "cell_type": "code",
   "execution_count": 17,
   "metadata": {},
   "outputs": [
    {
     "name": "stdout",
     "output_type": "stream",
     "text": [
      "ACME 50 91.5\n"
     ]
    }
   ],
   "source": [
    "print(\"ACME\", 50, 91.5)"
   ]
  },
  {
   "cell_type": "code",
   "execution_count": 19,
   "metadata": {},
   "outputs": [
    {
     "name": "stdout",
     "output_type": "stream",
     "text": [
      "ACME,50,91.5\n"
     ]
    }
   ],
   "source": [
    "print(\"ACME\", 50, 91.5, sep = \",\")"
   ]
  },
  {
   "cell_type": "code",
   "execution_count": 20,
   "metadata": {},
   "outputs": [
    {
     "name": "stdout",
     "output_type": "stream",
     "text": [
      "ACME,50,91.5!!\n"
     ]
    }
   ],
   "source": [
    "print(\"ACME\", 50, 91.5, sep = \",\", end = \"!!\\n\")"
   ]
  },
  {
   "cell_type": "code",
   "execution_count": 21,
   "metadata": {},
   "outputs": [
    {
     "name": "stdout",
     "output_type": "stream",
     "text": [
      "0\n",
      "1\n",
      "2\n",
      "3\n",
      "4\n"
     ]
    }
   ],
   "source": [
    "for i in range(5):\n",
    "    print(i)"
   ]
  },
  {
   "cell_type": "code",
   "execution_count": 22,
   "metadata": {},
   "outputs": [
    {
     "name": "stdout",
     "output_type": "stream",
     "text": [
      "0 1 2 3 4 "
     ]
    }
   ],
   "source": [
    "for i in range(5):\n",
    "    print(i, end = \" \")"
   ]
  },
  {
   "cell_type": "code",
   "execution_count": 30,
   "metadata": {},
   "outputs": [
    {
     "name": "stdout",
     "output_type": "stream",
     "text": [
      "ACME,50,91.5\n",
      "ACME,50,91.5\n",
      "('ACME', '50', '91.5')\n",
      "('ACME', 50, 91.5)\n",
      "ACME,50,91.5\n",
      "ACME,50,91.5\n"
     ]
    }
   ],
   "source": [
    "row1 = (\"ACME\", \"50\", \"91.5\")\n",
    "row2 = (\"ACME\", 50, 91.5)\n",
    "print(\",\".join(row1))\n",
    "print(\",\".join(str(x) for x in row))\n",
    "print(row1, sep = \",\")\n",
    "print(row2, sep = \",\")\n",
    "print(*row1, sep = \",\")\n",
    "print(*row2, sep = \",\")"
   ]
  },
  {
   "cell_type": "code",
   "execution_count": null,
   "metadata": {},
   "outputs": [],
   "source": []
  }
 ],
 "metadata": {
  "kernelspec": {
   "display_name": "Python 3",
   "language": "python",
   "name": "python3"
  },
  "language_info": {
   "codemirror_mode": {
    "name": "ipython",
    "version": 3
   },
   "file_extension": ".py",
   "mimetype": "text/x-python",
   "name": "python",
   "nbconvert_exporter": "python",
   "pygments_lexer": "ipython3",
   "version": "3.7.0"
  }
 },
 "nbformat": 4,
 "nbformat_minor": 2
}
