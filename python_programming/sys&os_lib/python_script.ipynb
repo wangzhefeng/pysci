{
 "cells": [
  {
   "cell_type": "markdown",
   "metadata": {},
   "source": [
    "### Python 脚本获取系统级的输入和接口\n",
    "\n",
    "* 当前工作路径(CWD)\n",
    "    - `os.getcwd`\n",
    "    - `os.chdir`\n",
    "* 命令行参数\n",
    "    - `sys.argv`\n",
    "* Shell 变量\n",
    "    - `os.environ`\n",
    "* 标准流\n",
    "    - `sys.stdin`\n",
    "    - `sys.stdout`\n",
    "    - `sys.stderr`"
   ]
  },
  {
   "cell_type": "markdown",
   "metadata": {},
   "source": [
    "# 1.当前工作路径\n",
    "\n",
    "* API\n",
    "    - `os.getcwd`\n",
    "    - `os.chdir`\n",
    "* 除非指定了绝对路径,否则当脚本处理文件时讲始终默认它们存在与CWD;没有完整目录路径的文件名将被映射到CWD路径;\n",
    "* 一个脚本总是启动于CWD,而非它所在的目录;反之,import 永远首先搜索文件所在的目录,而非CWD(除非该脚本刚好在CWD目录);\n",
    "* CWD 是键入该命令(命令行)时所处的路径,而非指定的脚本所在路径;\n",
    "* Python 自动将脚本所在目录添加到模块搜索路径(`sys.path`)的最前,因而无论在哪里运行,脚本总是可以导入它所在路径中的其他文件;"
   ]
  },
  {
   "cell_type": "markdown",
   "metadata": {},
   "source": [
    "### 输出当前工作路径, 当前模块搜索路径"
   ]
  },
  {
   "cell_type": "code",
   "execution_count": 2,
   "metadata": {},
   "outputs": [
    {
     "name": "stdout",
     "output_type": "stream",
     "text": [
      "my os.getcwd => /home/wangzhefeng/project/mlenv/pysci/python_programming/sys&os_lib\n",
      "my sys.path => ['/home/wangzhefeng/project/mlenv/pysci/python_programming/sys&os_lib', '/usr/lib/spark/spark-2.3.0-bin-hadoop2.7/python', '/usr/local/anaconda3/bin/python3.7', '/home/wangzhefeng/project/mlenv/env/lib/python37.zip', '/home/wangzhefeng/project/mlenv/env/lib/python3.7', '/home/wangzhefeng/project/mlenv/env/lib/python3.7/lib-dynload']\n"
     ]
    }
   ],
   "source": [
    "import os, sys\n",
    "print(\"my os.getcwd =>\", os.getcwd())\n",
    "print(\"my sys.path =>\", sys.path[:6])"
   ]
  },
  {
   "cell_type": "markdown",
   "metadata": {},
   "source": [
    "### 设置模块搜索路径: PYTHONPATH"
   ]
  },
  {
   "cell_type": "markdown",
   "metadata": {},
   "source": [
    "```shell\n",
    "# in Shell\n",
    "set PYTHONPATH=path/to/somewhere/\n",
    "```"
   ]
  },
  {
   "cell_type": "markdown",
   "metadata": {},
   "source": [
    "# 2.命令行参数\n",
    "\n",
    "* Python 可以通过`sys`模块获取脚本启动时命令行输入的信息,通常,它们被称为**命令行参数**, 以内置字符串的形式存在于`sys.argv`中;\n",
    "* 交互命令行方式启动的 Python(>python)没有命令行参数被传入,所以`sys.argv`是空串;\n",
    "* 从 Shell 命令行启动脚本(.py文件),`sys.argv`会输出相应的字符串;\n",
    "    - `sys.argb`输出列表的第一项均为所执行脚本的名字;"
   ]
  },
  {
   "cell_type": "markdown",
   "metadata": {},
   "source": [
    "---\n",
    "```python\n",
    ">>>import sys\n",
    ">>>print(sys.argv)\n",
    "\n",
    "['']\n",
    "```"
   ]
  },
  {
   "cell_type": "markdown",
   "metadata": {},
   "source": [
    "---\n",
    "```python\n",
    "# /home/wangzhefeng/mlenv/pysci/testargv.py\n",
    "import sys\n",
    "print(sys.argv)\n",
    "```\n",
    "\n",
    "```shell\n",
    "# in Shell\n",
    "$python /home/wangzhefeng/mlenv/pysci/testargv.py\n",
    "```\n",
    "\n",
    "```\n",
    "['testargv.py']\n",
    "```\n",
    "\n",
    "```shell\n",
    "# in Shell\n",
    "$python /home/wangzhefeng/mlenv/pysci/testargv.py spam eggs cheese\n",
    "```\n",
    "\n",
    "```\n",
    "['testargv.py', 'spam' 'eggs' 'cheese']\n",
    "```\n",
    "\n",
    "```shell\n",
    "# in Shell\n",
    "$python /home/wangzhefeng/mlenv/pysci/testargv.py -i data.txt -o results.txt\n",
    "```\n",
    "\n",
    "```\n",
    "['testargv.py', '-i', 'data.txt', '-o', 'results.txt']\n",
    "```"
   ]
  },
  {
   "cell_type": "markdown",
   "metadata": {},
   "source": [
    "## 2.1 解析命令行参数"
   ]
  },
  {
   "cell_type": "markdown",
   "metadata": {},
   "source": [
    "### function"
   ]
  },
  {
   "cell_type": "code",
   "execution_count": 8,
   "metadata": {},
   "outputs": [
    {
     "data": {
      "text/markdown": [
       "```python\n",
       "# /home/wangzhefeng/testargv2.py\n",
       "\n",
       "def getopts(argv):\n",
       "    opts = {}\n",
       "    while argv:\n",
       "        if argv[0][0] == '-':\n",
       "            opts[argv[0]] = argv[1]\n",
       "            argv = argv[2:]\n",
       "        else:\n",
       "            argv = argv[1:]\n",
       "    return opts\n",
       "\n",
       "if __name_  == \"__main__\":\n",
       "    from sys import argv\n",
       "    myargs = getopts(argv)\n",
       "    if '-i' in myargs:\n",
       "        print(myargs[\"-i\"])\n",
       "    print(myargs)\n",
       "```\n"
      ],
      "text/plain": [
       "<IPython.core.display.Markdown object>"
      ]
     },
     "metadata": {},
     "output_type": "display_data"
    }
   ],
   "source": [
    "%%markdown\n",
    "```python\n",
    "# /home/wangzhefeng/testargv2.py\n",
    "\n",
    "def getopts(argv):\n",
    "    opts = {}\n",
    "    while argv:\n",
    "        if argv[0][0] == '-':\n",
    "            opts[argv[0]] = argv[1]\n",
    "            argv = argv[2:]\n",
    "        else:\n",
    "            argv = argv[1:]\n",
    "    return opts\n",
    "\n",
    "if __name_  == \"__main__\":\n",
    "    from sys import argv\n",
    "    myargs = getopts(argv)\n",
    "    if '-i' in myargs:\n",
    "        print(myargs[\"-i\"])\n",
    "    print(myargs)\n",
    "```"
   ]
  },
  {
   "cell_type": "markdown",
   "metadata": {},
   "source": [
    "### libraries"
   ]
  },
  {
   "cell_type": "code",
   "execution_count": 9,
   "metadata": {},
   "outputs": [],
   "source": [
    "import getopt\n",
    "import optparse"
   ]
  },
  {
   "cell_type": "markdown",
   "metadata": {},
   "source": [
    "# 3.Shell环境变量"
   ]
  },
  {
   "cell_type": "code",
   "execution_count": 10,
   "metadata": {},
   "outputs": [
    {
     "data": {
      "text/plain": [
       "KeysView(environ({'XDG_VTNR': '7', 'LC_PAPER': 'en_US.UTF-8', 'LC_ADDRESS': 'en_US.UTF-8', 'XDG_SESSION_ID': 'c1', 'SPARK_HOME': '/usr/lib/spark/spark-2.3.0-bin-hadoop2.7', 'XDG_GREETER_DATA_DIR': '/var/lib/lightdm-data/wangzhefeng', 'LC_MONETARY': 'en_US.UTF-8', 'CLUTTER_IM_MODULE': 'xim', 'SESSION': 'ubuntu', 'GPG_AGENT_INFO': '/home/wangzhefeng/.gnupg/S.gpg-agent:0:1', 'TERM': 'xterm-color', 'VTE_VERSION': '4205', 'XDG_MENU_PREFIX': 'gnome-', 'SHELL': '/bin/bash', 'HADOOP_HOME': '/usr/lib/hadoop-2.7.5', 'QT_LINUX_ACCESSIBILITY_ALWAYS_ON': '1', 'WINDOWID': '75497532', 'LC_NUMERIC': 'en_US.UTF-8', 'UPSTART_SESSION': 'unix:abstract=/com/ubuntu/upstart-session/1000/1324', 'GNOME_KEYRING_CONTROL': '', 'GTK_MODULES': 'gail:atk-bridge:unity-gtk-module', 'USER': 'wangzhefeng', 'JRE_HOME': '/home/wangzhefeng/Java/jdk1.8.0_151/jre', 'LS_COLORS': 'rs=0:di=01;34:ln=01;36:mh=00:pi=40;33:so=01;35:do=01;35:bd=40;33;01:cd=40;33;01:or=40;31;01:mi=00:su=37;41:sg=30;43:ca=30;41:tw=30;42:ow=34;42:st=37;44:ex=01;32:*.tar=01;31:*.tgz=01;31:*.arc=01;31:*.arj=01;31:*.taz=01;31:*.lha=01;31:*.lz4=01;31:*.lzh=01;31:*.lzma=01;31:*.tlz=01;31:*.txz=01;31:*.tzo=01;31:*.t7z=01;31:*.zip=01;31:*.z=01;31:*.Z=01;31:*.dz=01;31:*.gz=01;31:*.lrz=01;31:*.lz=01;31:*.lzo=01;31:*.xz=01;31:*.bz2=01;31:*.bz=01;31:*.tbz=01;31:*.tbz2=01;31:*.tz=01;31:*.deb=01;31:*.rpm=01;31:*.jar=01;31:*.war=01;31:*.ear=01;31:*.sar=01;31:*.rar=01;31:*.alz=01;31:*.ace=01;31:*.zoo=01;31:*.cpio=01;31:*.7z=01;31:*.rz=01;31:*.cab=01;31:*.jpg=01;35:*.jpeg=01;35:*.gif=01;35:*.bmp=01;35:*.pbm=01;35:*.pgm=01;35:*.ppm=01;35:*.tga=01;35:*.xbm=01;35:*.xpm=01;35:*.tif=01;35:*.tiff=01;35:*.png=01;35:*.svg=01;35:*.svgz=01;35:*.mng=01;35:*.pcx=01;35:*.mov=01;35:*.mpg=01;35:*.mpeg=01;35:*.m2v=01;35:*.mkv=01;35:*.webm=01;35:*.ogm=01;35:*.mp4=01;35:*.m4v=01;35:*.mp4v=01;35:*.vob=01;35:*.qt=01;35:*.nuv=01;35:*.wmv=01;35:*.asf=01;35:*.rm=01;35:*.rmvb=01;35:*.flc=01;35:*.avi=01;35:*.fli=01;35:*.flv=01;35:*.gl=01;35:*.dl=01;35:*.xcf=01;35:*.xwd=01;35:*.yuv=01;35:*.cgm=01;35:*.emf=01;35:*.ogv=01;35:*.ogx=01;35:*.aac=00;36:*.au=00;36:*.flac=00;36:*.m4a=00;36:*.mid=00;36:*.midi=00;36:*.mka=00;36:*.mp3=00;36:*.mpc=00;36:*.ogg=00;36:*.ra=00;36:*.wav=00;36:*.oga=00;36:*.opus=00;36:*.spx=00;36:*.xspf=00;36:', 'QT_ACCESSIBILITY': '1', 'LC_TELEPHONE': 'en_US.UTF-8', 'XDG_SESSION_PATH': '/org/freedesktop/DisplayManager/Session0', 'XDG_SEAT_PATH': '/org/freedesktop/DisplayManager/Seat0', 'SSH_AUTH_SOCK': '/run/user/1000/keyring/ssh', 'SESSION_MANAGER': 'local/Tinker:@/tmp/.ICE-unix/1810,unix/Tinker:/tmp/.ICE-unix/1810', 'DEFAULTS_PATH': '/usr/share/gconf/ubuntu.default.path', 'VIRTUAL_ENV': '/home/wangzhefeng/project/mlenv/env', 'XDG_CONFIG_DIRS': '/etc/xdg/xdg-ubuntu:/usr/share/upstart/xdg:/etc/xdg', 'DESKTOP_SESSION': 'ubuntu', 'PATH': '/home/wangzhefeng/project/mlenv/env/bin:/home/wangzhefeng/project/mlenv/env/bin:/usr/lib/scala/scala-2.12.3/bin:/usr/lib/spark/spark-2.3.0-bin-hadoop2.7/bin:/usr/local/anaconda3/bin:/home/wangzhefeng/bin:/home/wangzhefeng/.local/bin:/usr/lib/spark/spark-2.3.0-bin-hadoop2.7/bin:/usr/lib/scala/scala-2.12.3/bin:/usr/lib/hadoop-2.7.5/bin:/home/wangzhefeng/Java/jdk1.8.0_151/bin:/home/wangzhefeng/Java/jdk1.8.0_151/jre/bin:/usr/local/sbin:/usr/local/bin:/usr/sbin:/usr/bin:/sbin:/bin:/usr/games:/usr/local/games:/snap/bin:/usr/lib/hadoop-2.7.5/bin:/usr/lib/hive/bin:/usr/lib/hive/bin:/usr/lib/hive/bin:/opt/mssql-tools/bin:/opt/mssql-tools/bin:/opt/mssql-tools/bin:/opt/mssql-tools/bin:/opt/mssql-tools/bin:/opt/mssql-tools/bin:/opt/mssql-tools/bin:/opt/mssql-tools/bin:/opt/mssql-tools/bin:/opt/mssql-tools/bin:/opt/mssql-tools/bin:/opt/mssql-tools/bin:/opt/mssql-tools/bin:/opt/mssql-tools/bin:/opt/mssql-tools/bin:/opt/mssql-tools/bin:/opt/mssql-tools/bin:/opt/mssql-tools/bin:/opt/mssql-tools/bin:/opt/mssql-tools/bin:/opt/mssql-tools/bin:/opt/mssql-tools/bin:/opt/mssql-tools/bin:/opt/mssql-tools/bin:/opt/mssql-tools/bin:/opt/mssql-tools/bin:/opt/mssql-tools/bin:/opt/mssql-tools/bin:/opt/mssql-tools/bin:/opt/mssql-tools/bin:/opt/mssql-tools/bin:/opt/mssql-tools/bin:/opt/mssql-tools/bin:/opt/mssql-tools/bin:/opt/mssql-tools/bin:/opt/mssql-tools/bin:/opt/mssql-tools/bin:/opt/mssql-tools/bin:/opt/mssql-tools/bin:/opt/mssql-tools/bin:/opt/mssql-tools/bin:/opt/mssql-tools/bin:/opt/mssql-tools/bin:/opt/mssql-tools/bin:/opt/mssql-tools/bin:/opt/mssql-tools/bin:/opt/mssql-tools/bin:/opt/mssql-tools/bin:/opt/mssql-tools/bin:/opt/mssql-tools/bin:/opt/mssql-tools/bin:/opt/mssql-tools/bin:/opt/mssql-tools/bin:/opt/mssql-tools/bin:/opt/mssql-tools/bin:/opt/mssql-tools/bin:/opt/mssql-tools/bin:/opt/mssql-tools/bin:/opt/mssql-tools/bin:/opt/mssql-tools/bin:/opt/mssql-tools/bin:/opt/mssql-tools/bin:/opt/mssql-tools/bin:/opt/mssql-tools/bin:/opt/mssql-tools/bin:/opt/mssql-tools/bin:/opt/mssql-tools/bin:/opt/mssql-tools/bin:/opt/mssql-tools/bin:/opt/mssql-tools/bin:/opt/mssql-tools/bin:/opt/mssql-tools/bin:/opt/mssql-tools/bin:/opt/mssql-tools/bin:/opt/mssql-tools/bin:/opt/mssql-tools/bin:/opt/mssql-tools/bin:/opt/mssql-tools/bin', 'QT_IM_MODULE': 'fcitx', 'QT_QPA_PLATFORMTHEME': 'appmenu-qt5', 'HIVE_HOME': '/usr/lib/hive', 'LC_IDENTIFICATION': 'en_US.UTF-8', 'XDG_SESSION_TYPE': 'x11', 'PWD': '/home/wangzhefeng/project/mlenv/pysci', 'JOB': 'dbus', 'XMODIFIERS': '@im=fcitx', 'JAVA_HOME': '/home/wangzhefeng/Java/jdk1.8.0_151', 'EDITOR': 'gedit', 'GNOME_KEYRING_PID': '', 'LANG': 'en_US.UTF-8', 'GDM_LANG': 'en_US', 'PHANTOMJS_EXECUTABLE': '/usr/local/src/phantomjs/bin/phantomjs', 'MANDATORY_PATH': '/usr/share/gconf/ubuntu.mandatory.path', 'LC_MEASUREMENT': 'en_US.UTF-8', 'COMPIZ_CONFIG_PROFILE': 'ubuntu', 'IM_CONFIG_PHASE': '1', 'PS1': '(env) \\\\[\\\\e]0;\\\\u@\\\\h: \\\\w\\\\a\\\\]${debian_chroot:+($debian_chroot)}\\\\[\\\\033[01;32m\\\\]\\\\u@\\\\h\\\\[\\\\033[00m\\\\]:\\\\[\\\\033[01;34m\\\\]\\\\w\\\\[\\\\033[00m\\\\]\\\\$ ', 'PAPERSIZE': 'letter', 'GDMSESSION': 'ubuntu', 'SESSIONTYPE': 'gnome-session', 'GTK2_MODULES': 'overlay-scrollbar', 'SHLVL': '1', 'HOME': '/home/wangzhefeng', 'XDG_SEAT': 'seat0', 'LANGUAGE': 'en_US:en', 'GNOME_DESKTOP_SESSION_ID': 'this-is-deprecated', 'PYTHONPATH': '/usr/lib/spark/spark-2.3.0-bin-hadoop2.7/python:/usr/local/anaconda3/bin/python3.7', 'XDG_SESSION_DESKTOP': 'ubuntu', 'LOGNAME': 'wangzhefeng', 'DBUS_SESSION_BUS_ADDRESS': 'unix:abstract=/tmp/dbus-n3NYK6wLoZ', 'XDG_DATA_DIRS': '/usr/share/ubuntu:/usr/share/gnome:/usr/local/share:/usr/share:/var/lib/snapd/desktop:/var/lib/snapd/desktop', 'CLASSPATH': '.:/home/wangzhefeng/Java/jdk1.8.0_151/lib:/home/wangzhefeng/Java/jdk1.8.0_151/jre/lib:', 'QT4_IM_MODULE': 'fcitx', 'LESSOPEN': '| /usr/bin/lesspipe %s', 'SCALA_HOME': '/usr/lib/scala/scala-2.12.3', 'INSTANCE': '', 'XDG_RUNTIME_DIR': '/run/user/1000', 'DISPLAY': ':0', 'XDG_CURRENT_DESKTOP': 'Unity', 'GTK_IM_MODULE': 'fcitx', 'LESSCLOSE': '/usr/bin/lesspipe %s %s', 'LC_TIME': 'en_US.UTF-8', 'LC_NAME': 'en_US.UTF-8', 'XAUTHORITY': '/home/wangzhefeng/.Xauthority', '_': '/home/wangzhefeng/project/mlenv/env/bin/jupyter', 'JPY_PARENT_PID': '3612', 'CLICOLOR': '1', 'PAGER': 'cat', 'GIT_PAGER': 'cat', 'MPLBACKEND': 'module://ipykernel.pylab.backend_inline'}))"
      ]
     },
     "execution_count": 10,
     "metadata": {},
     "output_type": "execute_result"
    }
   ],
   "source": [
    "import os\n",
    "os.environ.keys()"
   ]
  },
  {
   "cell_type": "code",
   "execution_count": null,
   "metadata": {},
   "outputs": [],
   "source": []
  }
 ],
 "metadata": {
  "kernelspec": {
   "display_name": "Python 3",
   "language": "python",
   "name": "python3"
  },
  "language_info": {
   "codemirror_mode": {
    "name": "ipython",
    "version": 3
   },
   "file_extension": ".py",
   "mimetype": "text/x-python",
   "name": "python",
   "nbconvert_exporter": "python",
   "pygments_lexer": "ipython3",
   "version": "3.7.0"
  }
 },
 "nbformat": 4,
 "nbformat_minor": 2
}
