{
 "cells": [
  {
   "cell_type": "markdown",
   "metadata": {},
   "source": [
    "## 理论\n",
    "\n",
    "### 贝叶斯定理\n",
    "\n",
    "$$P(y \\mid x_1, \\dots, x_n) = \\frac{P(y) P(x_1, \\dots x_n \\mid y)}{P(x_1, \\dots, x_n)}$$\n",
    "\n",
    "### Navie条件独立假设\n",
    "\n",
    "$$P(x_i | y, x_1, \\dots, x_{i-1}, x_{i+1}, \\dots, x_n) = P(x_i | y)$$\n",
    "\n",
    "### 目标变量$y$的后验概率\n",
    "\n",
    "$$P(y \\mid x_1, \\dots, x_n) = \\frac{P(y) \\prod_{i=1}^{n} P(x_i \\mid y)}{P(x_1, \\dots, x_n)}$$\n",
    "\n",
    "### Navie Bayes分类器\n",
    "\n",
    "$$\\hat{y} = \\arg\\max_y P(y) \\prod_{i=1}^{n} P(x_i \\mid y)$$"
   ]
  },
  {
   "cell_type": "markdown",
   "metadata": {},
   "source": [
    "## 内容\n",
    "\n",
    "* Gaussian NB\n",
    "    - 假设 $P(x_i \\mid y) = \\frac{1}{\\sqrt{2\\pi\\sigma^2_y}} \\exp\\left(-\\frac{(x_i - \\mu_y)^2}{2\\sigma^2_y}\\right)$\n",
    "* Multinomial NB\n",
    "* Complement NB\n",
    "* Bernouli NB\n",
    "* Out-of-core NB"
   ]
  },
  {
   "cell_type": "markdown",
   "metadata": {},
   "source": [
    "### Gaussian NB（高斯朴素贝叶斯）"
   ]
  },
  {
   "cell_type": "code",
   "execution_count": 2,
   "metadata": {},
   "outputs": [],
   "source": [
    "from sklearn import datasets\n",
    "from sklearn.naive_bayes import GaussianNB"
   ]
  },
  {
   "cell_type": "code",
   "execution_count": 23,
   "metadata": {},
   "outputs": [],
   "source": [
    "# API\n",
    "gnb = GaussianNB(\n",
    "    priors = None,\n",
    "    # var_smoothing = 1e-09\n",
    ")\n",
    "\n",
    "# Attributes\n",
    "# gnb.class_prior_\n",
    "# gnb.class_count_\n",
    "# gnb.theta_\n",
    "# gnb.sigma_\n",
    "# gnb.esplion_\n",
    "\n",
    "# Method\n",
    ".fit()\n",
    ".get_params()\n",
    ".partial_fit()\n",
    ".predict()\n",
    ".predict_log_proba()\n",
    ".predict_proba()\n",
    ".score()\n",
    ".set_params()"
   ]
  },
  {
   "cell_type": "markdown",
   "metadata": {},
   "source": [
    "### Multinomial NB(多项式正态朴素贝叶斯)"
   ]
  },
  {
   "cell_type": "code",
   "execution_count": 26,
   "metadata": {},
   "outputs": [],
   "source": [
    "from sklearn.naive_bayes import MultinomialNB"
   ]
  },
  {
   "cell_type": "code",
   "execution_count": null,
   "metadata": {},
   "outputs": [],
   "source": [
    "# API\n",
    "mnb = MultinomialNB(\n",
    "    alpha = 1.0,\n",
    "    fit_prior = True, \n",
    "    class_prior = None,\n",
    ")\n",
    "\n",
    "# Attributes\n",
    "mnb.class_log_prior_\n",
    "mnb.intercept_\n",
    "mnb.feature_log_prob_\n",
    "mnb.coef_\n",
    "mnb.class_count_\n",
    "mnb.feature_count_\n",
    "\n",
    "# Method\n",
    ".fit()\n",
    ".get_params()\n",
    ".partial_fit()\n",
    ".predict()\n",
    ".predict_log_proba()\n",
    ".predict_proba()\n",
    ".score()\n",
    ".set_params()"
   ]
  },
  {
   "cell_type": "markdown",
   "metadata": {},
   "source": [
    "### Complement NB"
   ]
  },
  {
   "cell_type": "code",
   "execution_count": null,
   "metadata": {},
   "outputs": [],
   "source": [
    "# API\n",
    "mnb = MultinomialNB(\n",
    "    alpha = 1.0,\n",
    "    fit_prior = True, \n",
    "    class_prior = None,\n",
    "    norm = False\n",
    ")\n",
    "\n",
    "# Attributes\n",
    "cnb.class_log_prior_\n",
    "cnb.feature_log_prob_\n",
    "cnb.coef_\n",
    "cnb.class_count_\n",
    "cnb.feature_count_\n",
    "cnb.feature_all_\n",
    "\n",
    "# Method\n",
    ".fit()\n",
    ".get_params()\n",
    ".partial_fit()\n",
    ".predict()\n",
    ".predict_log_proba()\n",
    ".predict_proba()\n",
    ".score()\n",
    ".set_params()"
   ]
  },
  {
   "cell_type": "markdown",
   "metadata": {},
   "source": [
    "### Bernoulli NB"
   ]
  },
  {
   "cell_type": "code",
   "execution_count": null,
   "metadata": {},
   "outputs": [],
   "source": [
    "# API\n",
    "mnb = MultinomialNB(\n",
    "    alpha = 1.0,\n",
    "    binarize = 0.0,\n",
    "    fit_prior = True, \n",
    "    class_prior = None,\n",
    ")\n",
    "\n",
    "# Attributes\n",
    "bnb.class_log_prior_\n",
    "bnb.feature_log_prob_\n",
    "bnb.class_count_\n",
    "bnb.feature_count_\n",
    "\n",
    "# Method\n",
    ".fit()\n",
    ".get_params()\n",
    ".partial_fit()\n",
    ".predict()\n",
    ".predict_log_proba()\n",
    ".predict_proba()\n",
    ".score()\n",
    ".set_params()"
   ]
  }
 ],
 "metadata": {
  "kernelspec": {
   "display_name": "Python 3",
   "language": "python",
   "name": "python3"
  },
  "language_info": {
   "codemirror_mode": {
    "name": "ipython",
    "version": 3
   },
   "file_extension": ".py",
   "mimetype": "text/x-python",
   "name": "python",
   "nbconvert_exporter": "python",
   "pygments_lexer": "ipython3",
   "version": "3.7.0"
  }
 },
 "nbformat": 4,
 "nbformat_minor": 2
}
