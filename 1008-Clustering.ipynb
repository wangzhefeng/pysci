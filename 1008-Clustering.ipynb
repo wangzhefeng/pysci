{
 "cells": [
  {
   "cell_type": "markdown",
   "metadata": {},
   "source": [
    "# Clustering\n",
    "\n",
    "## 算法\n",
    "\n",
    "* K-Means聚类\n",
    "    - Mini Batch K-Means聚类\n",
    "* Affinity Propagation\n",
    "* Mean Shift\n",
    "* Spectral Clustering\n",
    "* Ward Hierarchical Clustering\n",
    "* Agglomerative Clustering\n",
    "* DBSCAN\n",
    "* Gaussian Mixtures\n",
    "* Brich\n",
    "\n",
    "## 聚类算法表现评估\n",
    "\n",
    "* Adjusted Rand inde\n",
    "* Mutual Infomation based scores\n",
    "* Homogeneity, Completeness, V-measure\n",
    "* Fowlkes-Mallows scores\n",
    "* Silhouette Coefficient\n",
    "* Calinski-Harabaz Index\n",
    "* Davies-Bouldin Index\n",
    "* Contingency Matrix\n",
    "\n",
    "## APIs"
   ]
  },
  {
   "cell_type": "code",
   "execution_count": 5,
   "metadata": {},
   "outputs": [],
   "source": [
    "# classes\n",
    "from sklearn.cluster import AffinityPropagation\n",
    "from sklearn.cluster import AgglomerativeClustering\n",
    "from sklearn.cluster import Birch\n",
    "from sklearn.cluster import DBSCAN\n",
    "from sklearn.cluster import FeatureAgglomeration\n",
    "from sklearn.cluster import KMeans\n",
    "from sklearn.cluster import MiniBatchKMeans\n",
    "from sklearn.cluster import MeanShift\n",
    "from sklearn.cluster import SpectralClustering\n",
    "from sklearn.cluster.bicluster import SpectralBiclustering\n",
    "from sklearn.cluster.bicluster import SpectralCoclustering\n",
    "\n",
    "# functions\n",
    "from sklearn.cluster import affinity_propagation\n",
    "from sklearn.cluster import dbscan\n",
    "from sklearn.cluster import estimate_bandwidth\n",
    "from sklearn.cluster import k_means\n",
    "from sklearn.cluster import mean_shift\n",
    "from sklearn.cluster import spectral_clustering\n",
    "from sklearn.cluster import ward_tree"
   ]
  },
  {
   "cell_type": "markdown",
   "metadata": {},
   "source": [
    "## API架构\n",
    "\n",
    "每个聚类算法都分为两部分：\n",
    "\n",
    "* class\n",
    "    - method: `.fit`: learn the clusters on train data\n",
    "* function\n",
    "    - attribute: `.labels_`: given train data, return an array of integer labels corresponding to the different clusters\n"
   ]
  },
  {
   "cell_type": "markdown",
   "metadata": {},
   "source": [
    "## 数据输入格式\n",
    "\n",
    "* sklearn.feature_extraction\n",
    "    - data matrix of shape `[n_samples, n_features]`\n",
    "* sklearn.metrics.pairwise\n",
    "    - data matrix of shape `[n_samples, n_samples]`\n"
   ]
  },
  {
   "cell_type": "markdown",
   "metadata": {},
   "source": [
    "## 算法对比"
   ]
  },
  {
   "cell_type": "code",
   "execution_count": null,
   "metadata": {},
   "outputs": [],
   "source": []
  },
  {
   "cell_type": "markdown",
   "metadata": {},
   "source": [
    "## K-Means聚类、MiniBatch K-Means聚类"
   ]
  },
  {
   "cell_type": "code",
   "execution_count": null,
   "metadata": {},
   "outputs": [],
   "source": [
    "# K-Means API\n",
    "class sklearn.cluster.KMeans(n_clusters = 8,               # 聚类的种类数量\n",
    "                             init = 'k-menas++',           # 聚类簇个数k的初始值选择方法，'k-means++'，'random', np.array((n_cluster, n_features))\n",
    "                             n_init = 10,                  # 聚类算法设定不同簇初始值的个数\n",
    "                             max_iter = 300,               # 每种簇初始值下的最大迭代次数\n",
    "                             tol = 0.0001,                 # 关于声明收敛的惯性的相对容忍度(阈值)\n",
    "                             precompute_distances = 'auto',# 是否预先计算距离(若n_samples*n_cluster > 1200万，不要计算)\n",
    "                             verbose = 0,                  # Verbosity模式\n",
    "                             random_state = None,          \n",
    "                             copy_x = True,                # \n",
    "                             n_jobs = None,                # 不同初始值算法运行时设置并行的线程数；None, -1\n",
    "                             algorithm = 'auto')           # 'full': EM算法；'elkan': 三角不等式算法；'auto'：稠密数据的elkan，稀疏数据的full\n",
    "\n",
    "# attributes\n",
    "clr.cluster_centers_ # 最终聚类簇中心的坐标(算法在全局收敛之前停止)\n",
    "clr.labels_          # 每个样本的聚类标签\n",
    "clr.inertia_         # 每个样本点到他们最近的聚类簇的距离平方和\n",
    "clr.n_iter_          # 迭代次数\n",
    "\n",
    "# methods\n",
    "clr.fit(X, smaple_weight)\n",
    "clr.fit_predict(X, sample_weight)\n",
    "clr.fit_transform(X, sample_weight)\n",
    "clr.get_params(deep)\n",
    "clr.predict(X, sample_weiht)\n",
    "clr.score(X, y, sample_weight)\n",
    "clr.set_params(**params)\n",
    "clr.transform(X)"
   ]
  },
  {
   "cell_type": "code",
   "execution_count": null,
   "metadata": {},
   "outputs": [],
   "source": [
    "# MiniBatch K-Means API\n",
    "class sklearn.cluster.MiniBatchKMeans(n_clusters = 8, \n",
    "                                      init = 'k-means++',\n",
    "                                      max_iter = 100, \n",
    "                                      batch_size = 100,     # 每个小批量样本的样本个数  \n",
    "                                      verbose = 0, \n",
    "                                      compute_labels = True, \n",
    "                                      random_state = None, \n",
    "                                      tol = 0.0,\n",
    "                                      max_no_improvement = 10, \n",
    "                                      init_size = None, \n",
    "                                      n_init = 3,\n",
    "                                      reassignment_ratio = 0.01)\n",
    "\n",
    "# attributes\n",
    "mbclr.cluster_centers_\n",
    "mbclr.labels_\n",
    "mbclr.inertia_\n",
    "\n",
    "# method\n",
    "mbclr.fit()\n",
    "mbclr.fit_predict()\n",
    "mbclr.fit_transform()\n",
    "mbclr.get_params()\n",
    "mbclr.partial_fit()\n",
    "mbclr.predict()\n",
    "mbclr.score()\n",
    "mbclr.set_params()\n",
    "mbclr.transform()"
   ]
  },
  {
   "cell_type": "markdown",
   "metadata": {},
   "source": [
    "### K-Means示例1"
   ]
  },
  {
   "cell_type": "code",
   "execution_count": 9,
   "metadata": {},
   "outputs": [
    {
     "name": "stdout",
     "output_type": "stream",
     "text": [
      "Train data cluster labels: [0 0 0 1 1 1]\n",
      "Test data cluster labels: [0 1]\n",
      "数据聚类最终的簇中心点: \n",
      " [[1. 2.]\n",
      " [4. 2.]]\n"
     ]
    }
   ],
   "source": [
    "from sklearn.cluster import KMeans\n",
    "import numpy as np\n",
    "\n",
    "X = np.array([[1, 2],\n",
    "             [1, 4],\n",
    "             [1, 0],\n",
    "             [4, 2],\n",
    "             [4, 4],\n",
    "             [4, 0]])\n",
    "kmeans = KMeans(n_clusters = 2, random_state = 0).fit(X = X)\n",
    "print('Train data cluster labels:', kmeans.labels_)\n",
    "\n",
    "X_test = np.array([[0, 0], \n",
    "                   [4, 4]])\n",
    "pred = kmeans.predict(X = X_test)\n",
    "print('Test data cluster labels:', pred)\n",
    "\n",
    "print('数据聚类最终的簇中心点:', '\\n', kmeans.cluster_centers_)"
   ]
  },
  {
   "cell_type": "code",
   "execution_count": null,
   "metadata": {},
   "outputs": [],
   "source": []
  }
 ],
 "metadata": {
  "kernelspec": {
   "display_name": "Python 3",
   "language": "python",
   "name": "python3"
  },
  "language_info": {
   "codemirror_mode": {
    "name": "ipython",
    "version": 3
   },
   "file_extension": ".py",
   "mimetype": "text/x-python",
   "name": "python",
   "nbconvert_exporter": "python",
   "pygments_lexer": "ipython3",
   "version": "3.6.5"
  }
 },
 "nbformat": 4,
 "nbformat_minor": 2
}
