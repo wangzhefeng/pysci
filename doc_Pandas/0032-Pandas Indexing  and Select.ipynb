{
 "cells": [
  {
   "cell_type": "markdown",
   "metadata": {},
   "source": [
    "* DataFrame选择列\n",
    "    - `df['A']`, `df[['A', 'B', ...]]`\n",
    "    - `df.A`\n",
    "    - `df.loc[:, col]`\n",
    "    - `df.loc[:, col1:col2]`\n",
    "    - `df.loc[:, [col1, col2, col3]]`\n",
    "    - `df.loc[:, boolean]`\n",
    "    - df.iloc[:, pos1]\n",
    "    - df.iloc[:, pos1:pos2]\n",
    "    - df.iloc[:, [pos1, pos2, pos3]]\n",
    "* DataFrame选择行\n",
    "    - `df[m:n]`\n",
    "    - `df[m:n:t]`\n",
    "    - `df.loc[idx]`, `df.loc[idx, :]`\n",
    "    - `df.loc[idx1:idx2]`, `df.loc[idx1:idx2, :]`\n",
    "    - `df.loc[[idx1, idx3], :]`, `df.loc[[idx1, idx3]]`\n",
    "    - `df.loc[boolean]``df.loc[boolean, :]`\n",
    "    - df.iloc[pos], df.iloc[pos, :]\n",
    "    - df.iloc[pos1:pos2], df.iloc[pos1:pos2, :]\n",
    "    - df.iloc[[pos1, pos2, ...]], df.iloc[[pos1, pos2, ...], :]\n",
    "* DataFrame选择子DataFrame\n",
    "    - `df.loc[idx, col]`\n",
    "    - `df.loc[idx1:idx2, col1:col2]`\n",
    "    - `df.loc[[idx1, idx2], col1:col2]`\n",
    "    - `df.loc[idx1:idx2, [col1, col2]]`\n",
    "    - `df.loc[[idx1, idx2], [col1, col2]]`\n",
    "    - `df.loc[boolean, boolean]`\n",
    "    - df.iloc[pos, pos]\n",
    "    - df.iloc[pos1:pos2, pos1:pos2]\n",
    "    - df.iloc[[pos1, pos2, ...], [pos1, pos2, ...]]\n",
    "* Series选择行\n",
    "    - s[m]\n",
    "    - s.idx\n",
    "    - s['idx_name']\n",
    "    - s[m:n]\n",
    "    - s[m:n:t]\n",
    "    - `s.loc[idx]`\n",
    "    - `s.loc[idx1:idx2]`\n",
    "    - `s.sort_index().loc[idx1:idx2]`\n",
    "    - s.iloc[pos1]\n",
    "    - s.iloc[pos1:pos2]"
   ]
  },
  {
   "cell_type": "code",
   "execution_count": 1,
   "metadata": {},
   "outputs": [],
   "source": [
    "import numpy as np\n",
    "import pandas as pd"
   ]
  },
  {
   "cell_type": "markdown",
   "metadata": {},
   "source": [
    "# 索引访问`[]` => `__getitem__`"
   ]
  },
  {
   "cell_type": "code",
   "execution_count": 3,
   "metadata": {
    "scrolled": false
   },
   "outputs": [
    {
     "data": {
      "text/html": [
       "<div>\n",
       "<style scoped>\n",
       "    .dataframe tbody tr th:only-of-type {\n",
       "        vertical-align: middle;\n",
       "    }\n",
       "\n",
       "    .dataframe tbody tr th {\n",
       "        vertical-align: top;\n",
       "    }\n",
       "\n",
       "    .dataframe thead th {\n",
       "        text-align: right;\n",
       "    }\n",
       "</style>\n",
       "<table border=\"1\" class=\"dataframe\">\n",
       "  <thead>\n",
       "    <tr style=\"text-align: right;\">\n",
       "      <th></th>\n",
       "      <th>A</th>\n",
       "      <th>B</th>\n",
       "      <th>C</th>\n",
       "      <th>D</th>\n",
       "    </tr>\n",
       "  </thead>\n",
       "  <tbody>\n",
       "    <tr>\n",
       "      <th>2000-01-01</th>\n",
       "      <td>-0.700357</td>\n",
       "      <td>-0.023085</td>\n",
       "      <td>0.377124</td>\n",
       "      <td>0.690618</td>\n",
       "    </tr>\n",
       "    <tr>\n",
       "      <th>2000-01-02</th>\n",
       "      <td>-0.261330</td>\n",
       "      <td>0.456513</td>\n",
       "      <td>-0.742383</td>\n",
       "      <td>-0.085439</td>\n",
       "    </tr>\n",
       "    <tr>\n",
       "      <th>2000-01-03</th>\n",
       "      <td>0.440801</td>\n",
       "      <td>-1.345019</td>\n",
       "      <td>0.131449</td>\n",
       "      <td>0.455163</td>\n",
       "    </tr>\n",
       "    <tr>\n",
       "      <th>2000-01-04</th>\n",
       "      <td>-0.794202</td>\n",
       "      <td>-0.388952</td>\n",
       "      <td>0.453211</td>\n",
       "      <td>0.502746</td>\n",
       "    </tr>\n",
       "    <tr>\n",
       "      <th>2000-01-05</th>\n",
       "      <td>-0.538715</td>\n",
       "      <td>-0.876613</td>\n",
       "      <td>0.927513</td>\n",
       "      <td>0.462744</td>\n",
       "    </tr>\n",
       "    <tr>\n",
       "      <th>2000-01-06</th>\n",
       "      <td>-2.345255</td>\n",
       "      <td>0.869346</td>\n",
       "      <td>0.126137</td>\n",
       "      <td>-0.344611</td>\n",
       "    </tr>\n",
       "    <tr>\n",
       "      <th>2000-01-07</th>\n",
       "      <td>0.429425</td>\n",
       "      <td>-1.782356</td>\n",
       "      <td>0.732238</td>\n",
       "      <td>1.830993</td>\n",
       "    </tr>\n",
       "    <tr>\n",
       "      <th>2000-01-08</th>\n",
       "      <td>0.489747</td>\n",
       "      <td>1.633026</td>\n",
       "      <td>-1.380645</td>\n",
       "      <td>-0.261789</td>\n",
       "    </tr>\n",
       "  </tbody>\n",
       "</table>\n",
       "</div>"
      ],
      "text/plain": [
       "                   A         B         C         D\n",
       "2000-01-01 -0.700357 -0.023085  0.377124  0.690618\n",
       "2000-01-02 -0.261330  0.456513 -0.742383 -0.085439\n",
       "2000-01-03  0.440801 -1.345019  0.131449  0.455163\n",
       "2000-01-04 -0.794202 -0.388952  0.453211  0.502746\n",
       "2000-01-05 -0.538715 -0.876613  0.927513  0.462744\n",
       "2000-01-06 -2.345255  0.869346  0.126137 -0.344611\n",
       "2000-01-07  0.429425 -1.782356  0.732238  1.830993\n",
       "2000-01-08  0.489747  1.633026 -1.380645 -0.261789"
      ]
     },
     "execution_count": 3,
     "metadata": {},
     "output_type": "execute_result"
    }
   ],
   "source": [
    "dates = pd.date_range('1/1/2000', periods = 8, freq = 'D')\n",
    "df = pd.DataFrame(np.random.randn(8, 4), \n",
    "                  index = dates, \n",
    "                  columns = ['A', 'B', 'C', 'D'])\n",
    "df"
   ]
  },
  {
   "cell_type": "code",
   "execution_count": 19,
   "metadata": {
    "scrolled": true
   },
   "outputs": [
    {
     "name": "stderr",
     "output_type": "stream",
     "text": [
      "D:\\Anaconda3\\lib\\site-packages\\IPython\\core\\interactiveshell.py:2963: FutureWarning: \n",
      "Panel is deprecated and will be removed in a future version.\n",
      "The recommended way to represent these types of 3-dimensional data are with a MultiIndex on a DataFrame, via the Panel.to_frame() method\n",
      "Alternatively, you can use the xarray package http://xarray.pydata.org/en/stable/.\n",
      "Pandas provides a `.to_xarray()` method to help automate this conversion.\n",
      "\n",
      "  exec(code_obj, self.user_global_ns, self.user_ns)\n"
     ]
    },
    {
     "data": {
      "text/plain": [
       "<class 'pandas.core.panel.Panel'>\n",
       "Dimensions: 2 (items) x 8 (major_axis) x 4 (minor_axis)\n",
       "Items axis: one to two\n",
       "Major_axis axis: 2000-01-01 00:00:00 to 2000-01-08 00:00:00\n",
       "Minor_axis axis: A to D"
      ]
     },
     "execution_count": 19,
     "metadata": {},
     "output_type": "execute_result"
    }
   ],
   "source": [
    "panel = pd.Panel({\n",
    "    'one': df,\n",
    "    'two': df - df.mean()\n",
    "})\n",
    "panel"
   ]
  },
  {
   "cell_type": "markdown",
   "metadata": {},
   "source": [
    "* pd.DateFrame['']\n",
    "* pd.DateFrame[['', '', ...]]"
   ]
  },
  {
   "cell_type": "code",
   "execution_count": 13,
   "metadata": {
    "scrolled": true
   },
   "outputs": [
    {
     "name": "stdout",
     "output_type": "stream",
     "text": [
      "2000-01-01   -0.700357\n",
      "2000-01-02   -0.261330\n",
      "2000-01-03    0.440801\n",
      "2000-01-04   -0.794202\n",
      "2000-01-05   -0.538715\n",
      "2000-01-06   -2.345255\n",
      "2000-01-07    0.429425\n",
      "2000-01-08    0.489747\n",
      "Freq: D, Name: A, dtype: float64\n",
      "\n",
      "2000-01-06 00:00:00\n",
      "\n",
      "-2.3452554683097313\n"
     ]
    }
   ],
   "source": [
    "s = df['A']\n",
    "print(s)\n",
    "print()\n",
    "print(dates[5])\n",
    "print()\n",
    "print(s[dates[5]])"
   ]
  },
  {
   "cell_type": "code",
   "execution_count": 16,
   "metadata": {
    "scrolled": true
   },
   "outputs": [
    {
     "data": {
      "text/html": [
       "<div>\n",
       "<style scoped>\n",
       "    .dataframe tbody tr th:only-of-type {\n",
       "        vertical-align: middle;\n",
       "    }\n",
       "\n",
       "    .dataframe tbody tr th {\n",
       "        vertical-align: top;\n",
       "    }\n",
       "\n",
       "    .dataframe thead th {\n",
       "        text-align: right;\n",
       "    }\n",
       "</style>\n",
       "<table border=\"1\" class=\"dataframe\">\n",
       "  <thead>\n",
       "    <tr style=\"text-align: right;\">\n",
       "      <th></th>\n",
       "      <th>A</th>\n",
       "      <th>B</th>\n",
       "      <th>C</th>\n",
       "      <th>D</th>\n",
       "    </tr>\n",
       "  </thead>\n",
       "  <tbody>\n",
       "    <tr>\n",
       "      <th>2000-01-01</th>\n",
       "      <td>-0.700357</td>\n",
       "      <td>-0.023085</td>\n",
       "      <td>0.377124</td>\n",
       "      <td>0.690618</td>\n",
       "    </tr>\n",
       "    <tr>\n",
       "      <th>2000-01-02</th>\n",
       "      <td>-0.261330</td>\n",
       "      <td>0.456513</td>\n",
       "      <td>-0.742383</td>\n",
       "      <td>-0.085439</td>\n",
       "    </tr>\n",
       "    <tr>\n",
       "      <th>2000-01-03</th>\n",
       "      <td>0.440801</td>\n",
       "      <td>-1.345019</td>\n",
       "      <td>0.131449</td>\n",
       "      <td>0.455163</td>\n",
       "    </tr>\n",
       "    <tr>\n",
       "      <th>2000-01-04</th>\n",
       "      <td>-0.794202</td>\n",
       "      <td>-0.388952</td>\n",
       "      <td>0.453211</td>\n",
       "      <td>0.502746</td>\n",
       "    </tr>\n",
       "    <tr>\n",
       "      <th>2000-01-05</th>\n",
       "      <td>-0.538715</td>\n",
       "      <td>-0.876613</td>\n",
       "      <td>0.927513</td>\n",
       "      <td>0.462744</td>\n",
       "    </tr>\n",
       "    <tr>\n",
       "      <th>2000-01-06</th>\n",
       "      <td>-2.345255</td>\n",
       "      <td>0.869346</td>\n",
       "      <td>0.126137</td>\n",
       "      <td>-0.344611</td>\n",
       "    </tr>\n",
       "    <tr>\n",
       "      <th>2000-01-07</th>\n",
       "      <td>0.429425</td>\n",
       "      <td>-1.782356</td>\n",
       "      <td>0.732238</td>\n",
       "      <td>1.830993</td>\n",
       "    </tr>\n",
       "    <tr>\n",
       "      <th>2000-01-08</th>\n",
       "      <td>0.489747</td>\n",
       "      <td>1.633026</td>\n",
       "      <td>-1.380645</td>\n",
       "      <td>-0.261789</td>\n",
       "    </tr>\n",
       "  </tbody>\n",
       "</table>\n",
       "</div>"
      ],
      "text/plain": [
       "                   A         B         C         D\n",
       "2000-01-01 -0.700357 -0.023085  0.377124  0.690618\n",
       "2000-01-02 -0.261330  0.456513 -0.742383 -0.085439\n",
       "2000-01-03  0.440801 -1.345019  0.131449  0.455163\n",
       "2000-01-04 -0.794202 -0.388952  0.453211  0.502746\n",
       "2000-01-05 -0.538715 -0.876613  0.927513  0.462744\n",
       "2000-01-06 -2.345255  0.869346  0.126137 -0.344611\n",
       "2000-01-07  0.429425 -1.782356  0.732238  1.830993\n",
       "2000-01-08  0.489747  1.633026 -1.380645 -0.261789"
      ]
     },
     "execution_count": 16,
     "metadata": {},
     "output_type": "execute_result"
    }
   ],
   "source": [
    "df[['B', 'A']] = df[['A', 'B']]\n",
    "df"
   ]
  },
  {
   "cell_type": "code",
   "execution_count": 17,
   "metadata": {},
   "outputs": [
    {
     "data": {
      "text/html": [
       "<div>\n",
       "<style scoped>\n",
       "    .dataframe tbody tr th:only-of-type {\n",
       "        vertical-align: middle;\n",
       "    }\n",
       "\n",
       "    .dataframe tbody tr th {\n",
       "        vertical-align: top;\n",
       "    }\n",
       "\n",
       "    .dataframe thead th {\n",
       "        text-align: right;\n",
       "    }\n",
       "</style>\n",
       "<table border=\"1\" class=\"dataframe\">\n",
       "  <thead>\n",
       "    <tr style=\"text-align: right;\">\n",
       "      <th></th>\n",
       "      <th>A</th>\n",
       "      <th>B</th>\n",
       "    </tr>\n",
       "  </thead>\n",
       "  <tbody>\n",
       "    <tr>\n",
       "      <th>2000-01-01</th>\n",
       "      <td>-0.700357</td>\n",
       "      <td>-0.023085</td>\n",
       "    </tr>\n",
       "    <tr>\n",
       "      <th>2000-01-02</th>\n",
       "      <td>-0.261330</td>\n",
       "      <td>0.456513</td>\n",
       "    </tr>\n",
       "    <tr>\n",
       "      <th>2000-01-03</th>\n",
       "      <td>0.440801</td>\n",
       "      <td>-1.345019</td>\n",
       "    </tr>\n",
       "    <tr>\n",
       "      <th>2000-01-04</th>\n",
       "      <td>-0.794202</td>\n",
       "      <td>-0.388952</td>\n",
       "    </tr>\n",
       "    <tr>\n",
       "      <th>2000-01-05</th>\n",
       "      <td>-0.538715</td>\n",
       "      <td>-0.876613</td>\n",
       "    </tr>\n",
       "    <tr>\n",
       "      <th>2000-01-06</th>\n",
       "      <td>-2.345255</td>\n",
       "      <td>0.869346</td>\n",
       "    </tr>\n",
       "    <tr>\n",
       "      <th>2000-01-07</th>\n",
       "      <td>0.429425</td>\n",
       "      <td>-1.782356</td>\n",
       "    </tr>\n",
       "    <tr>\n",
       "      <th>2000-01-08</th>\n",
       "      <td>0.489747</td>\n",
       "      <td>1.633026</td>\n",
       "    </tr>\n",
       "  </tbody>\n",
       "</table>\n",
       "</div>"
      ],
      "text/plain": [
       "                   A         B\n",
       "2000-01-01 -0.700357 -0.023085\n",
       "2000-01-02 -0.261330  0.456513\n",
       "2000-01-03  0.440801 -1.345019\n",
       "2000-01-04 -0.794202 -0.388952\n",
       "2000-01-05 -0.538715 -0.876613\n",
       "2000-01-06 -2.345255  0.869346\n",
       "2000-01-07  0.429425 -1.782356\n",
       "2000-01-08  0.489747  1.633026"
      ]
     },
     "execution_count": 17,
     "metadata": {},
     "output_type": "execute_result"
    }
   ],
   "source": [
    "df.loc[:, ['B', 'A']]  = df[['A', 'B']]\n",
    "df[['A', 'B']]"
   ]
  },
  {
   "cell_type": "code",
   "execution_count": 18,
   "metadata": {
    "scrolled": true
   },
   "outputs": [
    {
     "data": {
      "text/html": [
       "<div>\n",
       "<style scoped>\n",
       "    .dataframe tbody tr th:only-of-type {\n",
       "        vertical-align: middle;\n",
       "    }\n",
       "\n",
       "    .dataframe tbody tr th {\n",
       "        vertical-align: top;\n",
       "    }\n",
       "\n",
       "    .dataframe thead th {\n",
       "        text-align: right;\n",
       "    }\n",
       "</style>\n",
       "<table border=\"1\" class=\"dataframe\">\n",
       "  <thead>\n",
       "    <tr style=\"text-align: right;\">\n",
       "      <th></th>\n",
       "      <th>A</th>\n",
       "      <th>B</th>\n",
       "    </tr>\n",
       "  </thead>\n",
       "  <tbody>\n",
       "    <tr>\n",
       "      <th>2000-01-01</th>\n",
       "      <td>-0.023085</td>\n",
       "      <td>-0.700357</td>\n",
       "    </tr>\n",
       "    <tr>\n",
       "      <th>2000-01-02</th>\n",
       "      <td>0.456513</td>\n",
       "      <td>-0.261330</td>\n",
       "    </tr>\n",
       "    <tr>\n",
       "      <th>2000-01-03</th>\n",
       "      <td>-1.345019</td>\n",
       "      <td>0.440801</td>\n",
       "    </tr>\n",
       "    <tr>\n",
       "      <th>2000-01-04</th>\n",
       "      <td>-0.388952</td>\n",
       "      <td>-0.794202</td>\n",
       "    </tr>\n",
       "    <tr>\n",
       "      <th>2000-01-05</th>\n",
       "      <td>-0.876613</td>\n",
       "      <td>-0.538715</td>\n",
       "    </tr>\n",
       "    <tr>\n",
       "      <th>2000-01-06</th>\n",
       "      <td>0.869346</td>\n",
       "      <td>-2.345255</td>\n",
       "    </tr>\n",
       "    <tr>\n",
       "      <th>2000-01-07</th>\n",
       "      <td>-1.782356</td>\n",
       "      <td>0.429425</td>\n",
       "    </tr>\n",
       "    <tr>\n",
       "      <th>2000-01-08</th>\n",
       "      <td>1.633026</td>\n",
       "      <td>0.489747</td>\n",
       "    </tr>\n",
       "  </tbody>\n",
       "</table>\n",
       "</div>"
      ],
      "text/plain": [
       "                   A         B\n",
       "2000-01-01 -0.023085 -0.700357\n",
       "2000-01-02  0.456513 -0.261330\n",
       "2000-01-03 -1.345019  0.440801\n",
       "2000-01-04 -0.388952 -0.794202\n",
       "2000-01-05 -0.876613 -0.538715\n",
       "2000-01-06  0.869346 -2.345255\n",
       "2000-01-07 -1.782356  0.429425\n",
       "2000-01-08  1.633026  0.489747"
      ]
     },
     "execution_count": 18,
     "metadata": {},
     "output_type": "execute_result"
    }
   ],
   "source": [
    "df.loc[:, ['B', 'A']] = df[['A', 'B']].to_numpy()\n",
    "df[['A', 'B']]"
   ]
  },
  {
   "cell_type": "markdown",
   "metadata": {},
   "source": [
    "# 属性访问"
   ]
  },
  {
   "cell_type": "code",
   "execution_count": 22,
   "metadata": {},
   "outputs": [],
   "source": [
    "sa = pd.Series([1, 2, 3], index = list('abc'))\n",
    "dfa = df.copy()"
   ]
  },
  {
   "cell_type": "code",
   "execution_count": 23,
   "metadata": {},
   "outputs": [
    {
     "data": {
      "text/plain": [
       "2"
      ]
     },
     "execution_count": 23,
     "metadata": {},
     "output_type": "execute_result"
    }
   ],
   "source": [
    "sa.b"
   ]
  },
  {
   "cell_type": "code",
   "execution_count": 24,
   "metadata": {},
   "outputs": [
    {
     "data": {
      "text/plain": [
       "2000-01-01   -0.023085\n",
       "2000-01-02    0.456513\n",
       "2000-01-03   -1.345019\n",
       "2000-01-04   -0.388952\n",
       "2000-01-05   -0.876613\n",
       "2000-01-06    0.869346\n",
       "2000-01-07   -1.782356\n",
       "2000-01-08    1.633026\n",
       "Freq: D, Name: A, dtype: float64"
      ]
     },
     "execution_count": 24,
     "metadata": {},
     "output_type": "execute_result"
    }
   ],
   "source": [
    "dfa.A"
   ]
  },
  {
   "cell_type": "code",
   "execution_count": 25,
   "metadata": {},
   "outputs": [
    {
     "data": {
      "text/html": [
       "<div>\n",
       "<style scoped>\n",
       "    .dataframe tbody tr th:only-of-type {\n",
       "        vertical-align: middle;\n",
       "    }\n",
       "\n",
       "    .dataframe tbody tr th {\n",
       "        vertical-align: top;\n",
       "    }\n",
       "\n",
       "    .dataframe thead th {\n",
       "        text-align: right;\n",
       "    }\n",
       "</style>\n",
       "<table border=\"1\" class=\"dataframe\">\n",
       "  <thead>\n",
       "    <tr style=\"text-align: right;\">\n",
       "      <th></th>\n",
       "      <th>A</th>\n",
       "      <th>B</th>\n",
       "      <th>C</th>\n",
       "      <th>D</th>\n",
       "    </tr>\n",
       "  </thead>\n",
       "  <tbody>\n",
       "    <tr>\n",
       "      <th>2000-01-01</th>\n",
       "      <td>0.159058</td>\n",
       "      <td>-0.290371</td>\n",
       "      <td>0.299043</td>\n",
       "      <td>0.284315</td>\n",
       "    </tr>\n",
       "    <tr>\n",
       "      <th>2000-01-02</th>\n",
       "      <td>0.638655</td>\n",
       "      <td>0.148656</td>\n",
       "      <td>-0.820464</td>\n",
       "      <td>-0.491742</td>\n",
       "    </tr>\n",
       "    <tr>\n",
       "      <th>2000-01-03</th>\n",
       "      <td>-1.162876</td>\n",
       "      <td>0.850787</td>\n",
       "      <td>0.053368</td>\n",
       "      <td>0.048860</td>\n",
       "    </tr>\n",
       "    <tr>\n",
       "      <th>2000-01-04</th>\n",
       "      <td>-0.206810</td>\n",
       "      <td>-0.384216</td>\n",
       "      <td>0.375130</td>\n",
       "      <td>0.096443</td>\n",
       "    </tr>\n",
       "    <tr>\n",
       "      <th>2000-01-05</th>\n",
       "      <td>-0.694471</td>\n",
       "      <td>-0.128729</td>\n",
       "      <td>0.849433</td>\n",
       "      <td>0.056441</td>\n",
       "    </tr>\n",
       "    <tr>\n",
       "      <th>2000-01-06</th>\n",
       "      <td>1.051488</td>\n",
       "      <td>-1.935270</td>\n",
       "      <td>0.048057</td>\n",
       "      <td>-0.750914</td>\n",
       "    </tr>\n",
       "    <tr>\n",
       "      <th>2000-01-07</th>\n",
       "      <td>-1.600213</td>\n",
       "      <td>0.839410</td>\n",
       "      <td>0.654158</td>\n",
       "      <td>1.424690</td>\n",
       "    </tr>\n",
       "    <tr>\n",
       "      <th>2000-01-08</th>\n",
       "      <td>1.815169</td>\n",
       "      <td>0.899732</td>\n",
       "      <td>-1.458725</td>\n",
       "      <td>-0.668092</td>\n",
       "    </tr>\n",
       "  </tbody>\n",
       "</table>\n",
       "</div>"
      ],
      "text/plain": [
       "                   A         B         C         D\n",
       "2000-01-01  0.159058 -0.290371  0.299043  0.284315\n",
       "2000-01-02  0.638655  0.148656 -0.820464 -0.491742\n",
       "2000-01-03 -1.162876  0.850787  0.053368  0.048860\n",
       "2000-01-04 -0.206810 -0.384216  0.375130  0.096443\n",
       "2000-01-05 -0.694471 -0.128729  0.849433  0.056441\n",
       "2000-01-06  1.051488 -1.935270  0.048057 -0.750914\n",
       "2000-01-07 -1.600213  0.839410  0.654158  1.424690\n",
       "2000-01-08  1.815169  0.899732 -1.458725 -0.668092"
      ]
     },
     "execution_count": 25,
     "metadata": {},
     "output_type": "execute_result"
    }
   ],
   "source": [
    "panel.two"
   ]
  },
  {
   "cell_type": "markdown",
   "metadata": {},
   "source": [
    "# 切片\n",
    "\n",
    "* Series[:]\n",
    "* Series[:::]\n",
    "* DataFrame[:]\n",
    "* DataFrame[::]"
   ]
  },
  {
   "cell_type": "code",
   "execution_count": 33,
   "metadata": {},
   "outputs": [
    {
     "data": {
      "text/plain": [
       "2000-01-01   -0.023085\n",
       "2000-01-02    0.456513\n",
       "2000-01-03   -1.345019\n",
       "2000-01-04   -0.388952\n",
       "2000-01-05   -0.876613\n",
       "2000-01-06    0.869346\n",
       "2000-01-07   -1.782356\n",
       "2000-01-08    1.633026\n",
       "Freq: D, Name: A, dtype: float64"
      ]
     },
     "execution_count": 33,
     "metadata": {},
     "output_type": "execute_result"
    }
   ],
   "source": [
    "s"
   ]
  },
  {
   "cell_type": "code",
   "execution_count": 27,
   "metadata": {},
   "outputs": [
    {
     "data": {
      "text/plain": [
       "2000-01-01   -0.023085\n",
       "2000-01-02    0.456513\n",
       "2000-01-03   -1.345019\n",
       "2000-01-04   -0.388952\n",
       "2000-01-05   -0.876613\n",
       "Freq: D, Name: A, dtype: float64"
      ]
     },
     "execution_count": 27,
     "metadata": {},
     "output_type": "execute_result"
    }
   ],
   "source": [
    "s[:5]"
   ]
  },
  {
   "cell_type": "code",
   "execution_count": 28,
   "metadata": {},
   "outputs": [
    {
     "data": {
      "text/plain": [
       "2000-01-01   -0.023085\n",
       "2000-01-03   -1.345019\n",
       "2000-01-05   -0.876613\n",
       "2000-01-07   -1.782356\n",
       "Freq: 2D, Name: A, dtype: float64"
      ]
     },
     "execution_count": 28,
     "metadata": {},
     "output_type": "execute_result"
    }
   ],
   "source": [
    "s[::2]"
   ]
  },
  {
   "cell_type": "code",
   "execution_count": 29,
   "metadata": {},
   "outputs": [
    {
     "data": {
      "text/plain": [
       "2000-01-08    1.633026\n",
       "2000-01-07   -1.782356\n",
       "2000-01-06    0.869346\n",
       "2000-01-05   -0.876613\n",
       "2000-01-04   -0.388952\n",
       "2000-01-03   -1.345019\n",
       "2000-01-02    0.456513\n",
       "2000-01-01   -0.023085\n",
       "Freq: -1D, Name: A, dtype: float64"
      ]
     },
     "execution_count": 29,
     "metadata": {},
     "output_type": "execute_result"
    }
   ],
   "source": [
    "s[::-1]"
   ]
  },
  {
   "cell_type": "code",
   "execution_count": 30,
   "metadata": {},
   "outputs": [
    {
     "data": {
      "text/html": [
       "<div>\n",
       "<style scoped>\n",
       "    .dataframe tbody tr th:only-of-type {\n",
       "        vertical-align: middle;\n",
       "    }\n",
       "\n",
       "    .dataframe tbody tr th {\n",
       "        vertical-align: top;\n",
       "    }\n",
       "\n",
       "    .dataframe thead th {\n",
       "        text-align: right;\n",
       "    }\n",
       "</style>\n",
       "<table border=\"1\" class=\"dataframe\">\n",
       "  <thead>\n",
       "    <tr style=\"text-align: right;\">\n",
       "      <th></th>\n",
       "      <th>A</th>\n",
       "      <th>B</th>\n",
       "      <th>C</th>\n",
       "      <th>D</th>\n",
       "    </tr>\n",
       "  </thead>\n",
       "  <tbody>\n",
       "    <tr>\n",
       "      <th>2000-01-01</th>\n",
       "      <td>-0.023085</td>\n",
       "      <td>-0.700357</td>\n",
       "      <td>0.377124</td>\n",
       "      <td>0.690618</td>\n",
       "    </tr>\n",
       "    <tr>\n",
       "      <th>2000-01-02</th>\n",
       "      <td>0.456513</td>\n",
       "      <td>-0.261330</td>\n",
       "      <td>-0.742383</td>\n",
       "      <td>-0.085439</td>\n",
       "    </tr>\n",
       "    <tr>\n",
       "      <th>2000-01-03</th>\n",
       "      <td>-1.345019</td>\n",
       "      <td>0.440801</td>\n",
       "      <td>0.131449</td>\n",
       "      <td>0.455163</td>\n",
       "    </tr>\n",
       "  </tbody>\n",
       "</table>\n",
       "</div>"
      ],
      "text/plain": [
       "                   A         B         C         D\n",
       "2000-01-01 -0.023085 -0.700357  0.377124  0.690618\n",
       "2000-01-02  0.456513 -0.261330 -0.742383 -0.085439\n",
       "2000-01-03 -1.345019  0.440801  0.131449  0.455163"
      ]
     },
     "execution_count": 30,
     "metadata": {},
     "output_type": "execute_result"
    }
   ],
   "source": [
    "df[:3]"
   ]
  },
  {
   "cell_type": "code",
   "execution_count": 31,
   "metadata": {},
   "outputs": [
    {
     "data": {
      "text/html": [
       "<div>\n",
       "<style scoped>\n",
       "    .dataframe tbody tr th:only-of-type {\n",
       "        vertical-align: middle;\n",
       "    }\n",
       "\n",
       "    .dataframe tbody tr th {\n",
       "        vertical-align: top;\n",
       "    }\n",
       "\n",
       "    .dataframe thead th {\n",
       "        text-align: right;\n",
       "    }\n",
       "</style>\n",
       "<table border=\"1\" class=\"dataframe\">\n",
       "  <thead>\n",
       "    <tr style=\"text-align: right;\">\n",
       "      <th></th>\n",
       "      <th>A</th>\n",
       "      <th>B</th>\n",
       "      <th>C</th>\n",
       "      <th>D</th>\n",
       "    </tr>\n",
       "  </thead>\n",
       "  <tbody>\n",
       "    <tr>\n",
       "      <th>2000-01-08</th>\n",
       "      <td>1.633026</td>\n",
       "      <td>0.489747</td>\n",
       "      <td>-1.380645</td>\n",
       "      <td>-0.261789</td>\n",
       "    </tr>\n",
       "    <tr>\n",
       "      <th>2000-01-07</th>\n",
       "      <td>-1.782356</td>\n",
       "      <td>0.429425</td>\n",
       "      <td>0.732238</td>\n",
       "      <td>1.830993</td>\n",
       "    </tr>\n",
       "    <tr>\n",
       "      <th>2000-01-06</th>\n",
       "      <td>0.869346</td>\n",
       "      <td>-2.345255</td>\n",
       "      <td>0.126137</td>\n",
       "      <td>-0.344611</td>\n",
       "    </tr>\n",
       "    <tr>\n",
       "      <th>2000-01-05</th>\n",
       "      <td>-0.876613</td>\n",
       "      <td>-0.538715</td>\n",
       "      <td>0.927513</td>\n",
       "      <td>0.462744</td>\n",
       "    </tr>\n",
       "    <tr>\n",
       "      <th>2000-01-04</th>\n",
       "      <td>-0.388952</td>\n",
       "      <td>-0.794202</td>\n",
       "      <td>0.453211</td>\n",
       "      <td>0.502746</td>\n",
       "    </tr>\n",
       "    <tr>\n",
       "      <th>2000-01-03</th>\n",
       "      <td>-1.345019</td>\n",
       "      <td>0.440801</td>\n",
       "      <td>0.131449</td>\n",
       "      <td>0.455163</td>\n",
       "    </tr>\n",
       "    <tr>\n",
       "      <th>2000-01-02</th>\n",
       "      <td>0.456513</td>\n",
       "      <td>-0.261330</td>\n",
       "      <td>-0.742383</td>\n",
       "      <td>-0.085439</td>\n",
       "    </tr>\n",
       "    <tr>\n",
       "      <th>2000-01-01</th>\n",
       "      <td>-0.023085</td>\n",
       "      <td>-0.700357</td>\n",
       "      <td>0.377124</td>\n",
       "      <td>0.690618</td>\n",
       "    </tr>\n",
       "  </tbody>\n",
       "</table>\n",
       "</div>"
      ],
      "text/plain": [
       "                   A         B         C         D\n",
       "2000-01-08  1.633026  0.489747 -1.380645 -0.261789\n",
       "2000-01-07 -1.782356  0.429425  0.732238  1.830993\n",
       "2000-01-06  0.869346 -2.345255  0.126137 -0.344611\n",
       "2000-01-05 -0.876613 -0.538715  0.927513  0.462744\n",
       "2000-01-04 -0.388952 -0.794202  0.453211  0.502746\n",
       "2000-01-03 -1.345019  0.440801  0.131449  0.455163\n",
       "2000-01-02  0.456513 -0.261330 -0.742383 -0.085439\n",
       "2000-01-01 -0.023085 -0.700357  0.377124  0.690618"
      ]
     },
     "execution_count": 31,
     "metadata": {},
     "output_type": "execute_result"
    }
   ],
   "source": [
    "df[::-1]"
   ]
  },
  {
   "cell_type": "markdown",
   "metadata": {},
   "source": [
    "# Selection By Label"
   ]
  },
  {
   "cell_type": "markdown",
   "metadata": {},
   "source": [
    "#### DataFrame with Datetime index"
   ]
  },
  {
   "cell_type": "code",
   "execution_count": 81,
   "metadata": {},
   "outputs": [
    {
     "data": {
      "text/html": [
       "<div>\n",
       "<style scoped>\n",
       "    .dataframe tbody tr th:only-of-type {\n",
       "        vertical-align: middle;\n",
       "    }\n",
       "\n",
       "    .dataframe tbody tr th {\n",
       "        vertical-align: top;\n",
       "    }\n",
       "\n",
       "    .dataframe thead th {\n",
       "        text-align: right;\n",
       "    }\n",
       "</style>\n",
       "<table border=\"1\" class=\"dataframe\">\n",
       "  <thead>\n",
       "    <tr style=\"text-align: right;\">\n",
       "      <th></th>\n",
       "      <th>A</th>\n",
       "      <th>B</th>\n",
       "      <th>C</th>\n",
       "      <th>D</th>\n",
       "    </tr>\n",
       "  </thead>\n",
       "  <tbody>\n",
       "    <tr>\n",
       "      <th>2013-01-01</th>\n",
       "      <td>-0.354722</td>\n",
       "      <td>-1.923728</td>\n",
       "      <td>1.976339</td>\n",
       "      <td>0.129871</td>\n",
       "    </tr>\n",
       "    <tr>\n",
       "      <th>2013-01-02</th>\n",
       "      <td>1.525818</td>\n",
       "      <td>0.219340</td>\n",
       "      <td>-0.288649</td>\n",
       "      <td>-2.034759</td>\n",
       "    </tr>\n",
       "    <tr>\n",
       "      <th>2013-01-03</th>\n",
       "      <td>-1.589549</td>\n",
       "      <td>-0.050532</td>\n",
       "      <td>0.559865</td>\n",
       "      <td>0.730954</td>\n",
       "    </tr>\n",
       "    <tr>\n",
       "      <th>2013-01-04</th>\n",
       "      <td>0.720532</td>\n",
       "      <td>0.811010</td>\n",
       "      <td>-1.492413</td>\n",
       "      <td>2.263404</td>\n",
       "    </tr>\n",
       "    <tr>\n",
       "      <th>2013-01-05</th>\n",
       "      <td>0.039209</td>\n",
       "      <td>-1.398068</td>\n",
       "      <td>0.806302</td>\n",
       "      <td>0.300870</td>\n",
       "    </tr>\n",
       "  </tbody>\n",
       "</table>\n",
       "</div>"
      ],
      "text/plain": [
       "                   A         B         C         D\n",
       "2013-01-01 -0.354722 -1.923728  1.976339  0.129871\n",
       "2013-01-02  1.525818  0.219340 -0.288649 -2.034759\n",
       "2013-01-03 -1.589549 -0.050532  0.559865  0.730954\n",
       "2013-01-04  0.720532  0.811010 -1.492413  2.263404\n",
       "2013-01-05  0.039209 -1.398068  0.806302  0.300870"
      ]
     },
     "execution_count": 81,
     "metadata": {},
     "output_type": "execute_result"
    }
   ],
   "source": [
    "df1 = pd.DataFrame(np.random.randn(5, 4), \n",
    "                   columns = list('ABCD'),\n",
    "                   index = pd.date_range('20130101', periods = 5, freq = 'D'))\n",
    "df1"
   ]
  },
  {
   "cell_type": "code",
   "execution_count": 82,
   "metadata": {},
   "outputs": [
    {
     "name": "stdout",
     "output_type": "stream",
     "text": [
      "Error\n"
     ]
    }
   ],
   "source": [
    "try:\n",
    "    df1.loc[2:3]\n",
    "except:\n",
    "    print(\"Error\")"
   ]
  },
  {
   "cell_type": "code",
   "execution_count": 83,
   "metadata": {},
   "outputs": [
    {
     "data": {
      "text/plain": [
       "A    1.525818\n",
       "B    0.219340\n",
       "C   -0.288649\n",
       "D   -2.034759\n",
       "Name: 2013-01-02 00:00:00, dtype: float64"
      ]
     },
     "execution_count": 83,
     "metadata": {},
     "output_type": "execute_result"
    }
   ],
   "source": [
    "df1.loc['20130102']"
   ]
  },
  {
   "cell_type": "code",
   "execution_count": 84,
   "metadata": {},
   "outputs": [
    {
     "data": {
      "text/plain": [
       "A    1.525818\n",
       "B    0.219340\n",
       "C   -0.288649\n",
       "D   -2.034759\n",
       "Name: 2013-01-02 00:00:00, dtype: float64"
      ]
     },
     "execution_count": 84,
     "metadata": {},
     "output_type": "execute_result"
    }
   ],
   "source": [
    "df1.loc['20130102', :]"
   ]
  },
  {
   "cell_type": "code",
   "execution_count": 85,
   "metadata": {},
   "outputs": [
    {
     "data": {
      "text/html": [
       "<div>\n",
       "<style scoped>\n",
       "    .dataframe tbody tr th:only-of-type {\n",
       "        vertical-align: middle;\n",
       "    }\n",
       "\n",
       "    .dataframe tbody tr th {\n",
       "        vertical-align: top;\n",
       "    }\n",
       "\n",
       "    .dataframe thead th {\n",
       "        text-align: right;\n",
       "    }\n",
       "</style>\n",
       "<table border=\"1\" class=\"dataframe\">\n",
       "  <thead>\n",
       "    <tr style=\"text-align: right;\">\n",
       "      <th></th>\n",
       "      <th>A</th>\n",
       "      <th>B</th>\n",
       "      <th>C</th>\n",
       "      <th>D</th>\n",
       "    </tr>\n",
       "  </thead>\n",
       "  <tbody>\n",
       "    <tr>\n",
       "      <th>2013-01-02</th>\n",
       "      <td>1.525818</td>\n",
       "      <td>0.219340</td>\n",
       "      <td>-0.288649</td>\n",
       "      <td>-2.034759</td>\n",
       "    </tr>\n",
       "    <tr>\n",
       "      <th>2013-01-03</th>\n",
       "      <td>-1.589549</td>\n",
       "      <td>-0.050532</td>\n",
       "      <td>0.559865</td>\n",
       "      <td>0.730954</td>\n",
       "    </tr>\n",
       "    <tr>\n",
       "      <th>2013-01-04</th>\n",
       "      <td>0.720532</td>\n",
       "      <td>0.811010</td>\n",
       "      <td>-1.492413</td>\n",
       "      <td>2.263404</td>\n",
       "    </tr>\n",
       "  </tbody>\n",
       "</table>\n",
       "</div>"
      ],
      "text/plain": [
       "                   A         B         C         D\n",
       "2013-01-02  1.525818  0.219340 -0.288649 -2.034759\n",
       "2013-01-03 -1.589549 -0.050532  0.559865  0.730954\n",
       "2013-01-04  0.720532  0.811010 -1.492413  2.263404"
      ]
     },
     "execution_count": 85,
     "metadata": {},
     "output_type": "execute_result"
    }
   ],
   "source": [
    "df1.loc['20130102':'20130104', :]"
   ]
  },
  {
   "cell_type": "code",
   "execution_count": 92,
   "metadata": {},
   "outputs": [],
   "source": [
    "# df1.loc[['2013-01-02', '2013-01-04', '2013-01-05'], :]"
   ]
  },
  {
   "cell_type": "code",
   "execution_count": 37,
   "metadata": {},
   "outputs": [
    {
     "data": {
      "text/html": [
       "<div>\n",
       "<style scoped>\n",
       "    .dataframe tbody tr th:only-of-type {\n",
       "        vertical-align: middle;\n",
       "    }\n",
       "\n",
       "    .dataframe tbody tr th {\n",
       "        vertical-align: top;\n",
       "    }\n",
       "\n",
       "    .dataframe thead th {\n",
       "        text-align: right;\n",
       "    }\n",
       "</style>\n",
       "<table border=\"1\" class=\"dataframe\">\n",
       "  <thead>\n",
       "    <tr style=\"text-align: right;\">\n",
       "      <th></th>\n",
       "      <th>A</th>\n",
       "      <th>B</th>\n",
       "      <th>C</th>\n",
       "      <th>D</th>\n",
       "    </tr>\n",
       "  </thead>\n",
       "  <tbody>\n",
       "    <tr>\n",
       "      <th>2013-01-02</th>\n",
       "      <td>-1.405488</td>\n",
       "      <td>-0.240855</td>\n",
       "      <td>0.359263</td>\n",
       "      <td>-0.307247</td>\n",
       "    </tr>\n",
       "    <tr>\n",
       "      <th>2013-01-03</th>\n",
       "      <td>1.698013</td>\n",
       "      <td>1.753987</td>\n",
       "      <td>-1.002604</td>\n",
       "      <td>-0.328292</td>\n",
       "    </tr>\n",
       "    <tr>\n",
       "      <th>2013-01-04</th>\n",
       "      <td>-1.418603</td>\n",
       "      <td>0.053742</td>\n",
       "      <td>0.306062</td>\n",
       "      <td>0.808014</td>\n",
       "    </tr>\n",
       "  </tbody>\n",
       "</table>\n",
       "</div>"
      ],
      "text/plain": [
       "                   A         B         C         D\n",
       "2013-01-02 -1.405488 -0.240855  0.359263 -0.307247\n",
       "2013-01-03  1.698013  1.753987 -1.002604 -0.328292\n",
       "2013-01-04 -1.418603  0.053742  0.306062  0.808014"
      ]
     },
     "execution_count": 37,
     "metadata": {},
     "output_type": "execute_result"
    }
   ],
   "source": [
    "df1.loc['20130102':'20130104']"
   ]
  },
  {
   "cell_type": "code",
   "execution_count": 74,
   "metadata": {},
   "outputs": [
    {
     "data": {
      "text/plain": [
       "2013-01-01   -2.113286\n",
       "2013-01-02   -1.405488\n",
       "2013-01-03    1.698013\n",
       "2013-01-04   -1.418603\n",
       "2013-01-05    0.083651\n",
       "Freq: D, Name: A, dtype: float64"
      ]
     },
     "execution_count": 74,
     "metadata": {},
     "output_type": "execute_result"
    }
   ],
   "source": [
    "df1.loc[:,'A']"
   ]
  },
  {
   "cell_type": "code",
   "execution_count": 95,
   "metadata": {},
   "outputs": [
    {
     "data": {
      "text/html": [
       "<div>\n",
       "<style scoped>\n",
       "    .dataframe tbody tr th:only-of-type {\n",
       "        vertical-align: middle;\n",
       "    }\n",
       "\n",
       "    .dataframe tbody tr th {\n",
       "        vertical-align: top;\n",
       "    }\n",
       "\n",
       "    .dataframe thead th {\n",
       "        text-align: right;\n",
       "    }\n",
       "</style>\n",
       "<table border=\"1\" class=\"dataframe\">\n",
       "  <thead>\n",
       "    <tr style=\"text-align: right;\">\n",
       "      <th></th>\n",
       "      <th>A</th>\n",
       "      <th>B</th>\n",
       "      <th>C</th>\n",
       "    </tr>\n",
       "  </thead>\n",
       "  <tbody>\n",
       "    <tr>\n",
       "      <th>2013-01-01</th>\n",
       "      <td>-0.354722</td>\n",
       "      <td>-1.923728</td>\n",
       "      <td>1.976339</td>\n",
       "    </tr>\n",
       "    <tr>\n",
       "      <th>2013-01-02</th>\n",
       "      <td>1.525818</td>\n",
       "      <td>0.219340</td>\n",
       "      <td>-0.288649</td>\n",
       "    </tr>\n",
       "    <tr>\n",
       "      <th>2013-01-03</th>\n",
       "      <td>-1.589549</td>\n",
       "      <td>-0.050532</td>\n",
       "      <td>0.559865</td>\n",
       "    </tr>\n",
       "    <tr>\n",
       "      <th>2013-01-04</th>\n",
       "      <td>0.720532</td>\n",
       "      <td>0.811010</td>\n",
       "      <td>-1.492413</td>\n",
       "    </tr>\n",
       "    <tr>\n",
       "      <th>2013-01-05</th>\n",
       "      <td>0.039209</td>\n",
       "      <td>-1.398068</td>\n",
       "      <td>0.806302</td>\n",
       "    </tr>\n",
       "  </tbody>\n",
       "</table>\n",
       "</div>"
      ],
      "text/plain": [
       "                   A         B         C\n",
       "2013-01-01 -0.354722 -1.923728  1.976339\n",
       "2013-01-02  1.525818  0.219340 -0.288649\n",
       "2013-01-03 -1.589549 -0.050532  0.559865\n",
       "2013-01-04  0.720532  0.811010 -1.492413\n",
       "2013-01-05  0.039209 -1.398068  0.806302"
      ]
     },
     "execution_count": 95,
     "metadata": {},
     "output_type": "execute_result"
    }
   ],
   "source": [
    "df1.loc[:, 'A':'C']"
   ]
  },
  {
   "cell_type": "code",
   "execution_count": 96,
   "metadata": {},
   "outputs": [
    {
     "data": {
      "text/html": [
       "<div>\n",
       "<style scoped>\n",
       "    .dataframe tbody tr th:only-of-type {\n",
       "        vertical-align: middle;\n",
       "    }\n",
       "\n",
       "    .dataframe tbody tr th {\n",
       "        vertical-align: top;\n",
       "    }\n",
       "\n",
       "    .dataframe thead th {\n",
       "        text-align: right;\n",
       "    }\n",
       "</style>\n",
       "<table border=\"1\" class=\"dataframe\">\n",
       "  <thead>\n",
       "    <tr style=\"text-align: right;\">\n",
       "      <th></th>\n",
       "      <th>A</th>\n",
       "      <th>D</th>\n",
       "      <th>C</th>\n",
       "    </tr>\n",
       "  </thead>\n",
       "  <tbody>\n",
       "    <tr>\n",
       "      <th>2013-01-01</th>\n",
       "      <td>-0.354722</td>\n",
       "      <td>0.129871</td>\n",
       "      <td>1.976339</td>\n",
       "    </tr>\n",
       "    <tr>\n",
       "      <th>2013-01-02</th>\n",
       "      <td>1.525818</td>\n",
       "      <td>-2.034759</td>\n",
       "      <td>-0.288649</td>\n",
       "    </tr>\n",
       "    <tr>\n",
       "      <th>2013-01-03</th>\n",
       "      <td>-1.589549</td>\n",
       "      <td>0.730954</td>\n",
       "      <td>0.559865</td>\n",
       "    </tr>\n",
       "    <tr>\n",
       "      <th>2013-01-04</th>\n",
       "      <td>0.720532</td>\n",
       "      <td>2.263404</td>\n",
       "      <td>-1.492413</td>\n",
       "    </tr>\n",
       "    <tr>\n",
       "      <th>2013-01-05</th>\n",
       "      <td>0.039209</td>\n",
       "      <td>0.300870</td>\n",
       "      <td>0.806302</td>\n",
       "    </tr>\n",
       "  </tbody>\n",
       "</table>\n",
       "</div>"
      ],
      "text/plain": [
       "                   A         D         C\n",
       "2013-01-01 -0.354722  0.129871  1.976339\n",
       "2013-01-02  1.525818 -2.034759 -0.288649\n",
       "2013-01-03 -1.589549  0.730954  0.559865\n",
       "2013-01-04  0.720532  2.263404 -1.492413\n",
       "2013-01-05  0.039209  0.300870  0.806302"
      ]
     },
     "execution_count": 96,
     "metadata": {},
     "output_type": "execute_result"
    }
   ],
   "source": [
    "df1.loc[:, ['A', 'D', 'C']]"
   ]
  },
  {
   "cell_type": "code",
   "execution_count": 93,
   "metadata": {},
   "outputs": [
    {
     "data": {
      "text/html": [
       "<div>\n",
       "<style scoped>\n",
       "    .dataframe tbody tr th:only-of-type {\n",
       "        vertical-align: middle;\n",
       "    }\n",
       "\n",
       "    .dataframe tbody tr th {\n",
       "        vertical-align: top;\n",
       "    }\n",
       "\n",
       "    .dataframe thead th {\n",
       "        text-align: right;\n",
       "    }\n",
       "</style>\n",
       "<table border=\"1\" class=\"dataframe\">\n",
       "  <thead>\n",
       "    <tr style=\"text-align: right;\">\n",
       "      <th></th>\n",
       "      <th>A</th>\n",
       "      <th>B</th>\n",
       "      <th>C</th>\n",
       "    </tr>\n",
       "  </thead>\n",
       "  <tbody>\n",
       "    <tr>\n",
       "      <th>2013-01-02</th>\n",
       "      <td>1.525818</td>\n",
       "      <td>0.219340</td>\n",
       "      <td>-0.288649</td>\n",
       "    </tr>\n",
       "    <tr>\n",
       "      <th>2013-01-03</th>\n",
       "      <td>-1.589549</td>\n",
       "      <td>-0.050532</td>\n",
       "      <td>0.559865</td>\n",
       "    </tr>\n",
       "    <tr>\n",
       "      <th>2013-01-04</th>\n",
       "      <td>0.720532</td>\n",
       "      <td>0.811010</td>\n",
       "      <td>-1.492413</td>\n",
       "    </tr>\n",
       "  </tbody>\n",
       "</table>\n",
       "</div>"
      ],
      "text/plain": [
       "                   A         B         C\n",
       "2013-01-02  1.525818  0.219340 -0.288649\n",
       "2013-01-03 -1.589549 -0.050532  0.559865\n",
       "2013-01-04  0.720532  0.811010 -1.492413"
      ]
     },
     "execution_count": 93,
     "metadata": {},
     "output_type": "execute_result"
    }
   ],
   "source": [
    "df1.loc['20130102':'20130104', 'A':'C']"
   ]
  },
  {
   "cell_type": "code",
   "execution_count": 97,
   "metadata": {},
   "outputs": [
    {
     "data": {
      "text/html": [
       "<div>\n",
       "<style scoped>\n",
       "    .dataframe tbody tr th:only-of-type {\n",
       "        vertical-align: middle;\n",
       "    }\n",
       "\n",
       "    .dataframe tbody tr th {\n",
       "        vertical-align: top;\n",
       "    }\n",
       "\n",
       "    .dataframe thead th {\n",
       "        text-align: right;\n",
       "    }\n",
       "</style>\n",
       "<table border=\"1\" class=\"dataframe\">\n",
       "  <thead>\n",
       "    <tr style=\"text-align: right;\">\n",
       "      <th></th>\n",
       "      <th>A</th>\n",
       "      <th>D</th>\n",
       "      <th>C</th>\n",
       "    </tr>\n",
       "  </thead>\n",
       "  <tbody>\n",
       "    <tr>\n",
       "      <th>2013-01-02</th>\n",
       "      <td>1.525818</td>\n",
       "      <td>-2.034759</td>\n",
       "      <td>-0.288649</td>\n",
       "    </tr>\n",
       "    <tr>\n",
       "      <th>2013-01-03</th>\n",
       "      <td>-1.589549</td>\n",
       "      <td>0.730954</td>\n",
       "      <td>0.559865</td>\n",
       "    </tr>\n",
       "    <tr>\n",
       "      <th>2013-01-04</th>\n",
       "      <td>0.720532</td>\n",
       "      <td>2.263404</td>\n",
       "      <td>-1.492413</td>\n",
       "    </tr>\n",
       "  </tbody>\n",
       "</table>\n",
       "</div>"
      ],
      "text/plain": [
       "                   A         D         C\n",
       "2013-01-02  1.525818 -2.034759 -0.288649\n",
       "2013-01-03 -1.589549  0.730954  0.559865\n",
       "2013-01-04  0.720532  2.263404 -1.492413"
      ]
     },
     "execution_count": 97,
     "metadata": {},
     "output_type": "execute_result"
    }
   ],
   "source": [
    "df1.loc['20130102':'20130104', ['A', 'D', 'C']]"
   ]
  },
  {
   "cell_type": "code",
   "execution_count": 100,
   "metadata": {},
   "outputs": [],
   "source": [
    "# df1.loc[['20130102', '20130104', '20130101'], ['A', 'C', 'D']]"
   ]
  },
  {
   "cell_type": "markdown",
   "metadata": {},
   "source": [
    "#### Series"
   ]
  },
  {
   "cell_type": "code",
   "execution_count": 76,
   "metadata": {
    "scrolled": true
   },
   "outputs": [
    {
     "data": {
      "text/plain": [
       "a   -0.879865\n",
       "b    0.424351\n",
       "c   -1.052348\n",
       "d   -0.600336\n",
       "e    0.243726\n",
       "f   -0.550512\n",
       "dtype: float64"
      ]
     },
     "execution_count": 76,
     "metadata": {},
     "output_type": "execute_result"
    }
   ],
   "source": [
    "s1 = pd.Series(np.random.randn(6), index = list('abcdef'))\n",
    "s1"
   ]
  },
  {
   "cell_type": "code",
   "execution_count": 78,
   "metadata": {},
   "outputs": [
    {
     "data": {
      "text/plain": [
       "c   -1.052348\n",
       "d   -0.600336\n",
       "e    0.243726\n",
       "f   -0.550512\n",
       "dtype: float64"
      ]
     },
     "execution_count": 78,
     "metadata": {},
     "output_type": "execute_result"
    }
   ],
   "source": [
    "s1.loc['c':]"
   ]
  },
  {
   "cell_type": "code",
   "execution_count": 88,
   "metadata": {},
   "outputs": [
    {
     "data": {
      "text/plain": [
       "-1.052348084281969"
      ]
     },
     "execution_count": 88,
     "metadata": {},
     "output_type": "execute_result"
    }
   ],
   "source": [
    "s1.loc['c']"
   ]
  },
  {
   "cell_type": "markdown",
   "metadata": {},
   "source": [
    "#### DataFrame with normal index"
   ]
  },
  {
   "cell_type": "code",
   "execution_count": 101,
   "metadata": {},
   "outputs": [
    {
     "data": {
      "text/html": [
       "<div>\n",
       "<style scoped>\n",
       "    .dataframe tbody tr th:only-of-type {\n",
       "        vertical-align: middle;\n",
       "    }\n",
       "\n",
       "    .dataframe tbody tr th {\n",
       "        vertical-align: top;\n",
       "    }\n",
       "\n",
       "    .dataframe thead th {\n",
       "        text-align: right;\n",
       "    }\n",
       "</style>\n",
       "<table border=\"1\" class=\"dataframe\">\n",
       "  <thead>\n",
       "    <tr style=\"text-align: right;\">\n",
       "      <th></th>\n",
       "      <th>A</th>\n",
       "      <th>B</th>\n",
       "      <th>C</th>\n",
       "      <th>D</th>\n",
       "    </tr>\n",
       "  </thead>\n",
       "  <tbody>\n",
       "    <tr>\n",
       "      <th>a</th>\n",
       "      <td>0.539614</td>\n",
       "      <td>-2.085452</td>\n",
       "      <td>-0.387480</td>\n",
       "      <td>1.612251</td>\n",
       "    </tr>\n",
       "    <tr>\n",
       "      <th>b</th>\n",
       "      <td>0.226549</td>\n",
       "      <td>0.782611</td>\n",
       "      <td>-1.295687</td>\n",
       "      <td>0.416662</td>\n",
       "    </tr>\n",
       "    <tr>\n",
       "      <th>c</th>\n",
       "      <td>0.138371</td>\n",
       "      <td>-0.095452</td>\n",
       "      <td>0.245354</td>\n",
       "      <td>-0.251030</td>\n",
       "    </tr>\n",
       "    <tr>\n",
       "      <th>d</th>\n",
       "      <td>-1.030707</td>\n",
       "      <td>0.322914</td>\n",
       "      <td>-0.083806</td>\n",
       "      <td>0.206761</td>\n",
       "    </tr>\n",
       "    <tr>\n",
       "      <th>e</th>\n",
       "      <td>1.435039</td>\n",
       "      <td>-0.248517</td>\n",
       "      <td>-0.762502</td>\n",
       "      <td>1.372238</td>\n",
       "    </tr>\n",
       "    <tr>\n",
       "      <th>f</th>\n",
       "      <td>-1.222409</td>\n",
       "      <td>0.319962</td>\n",
       "      <td>0.612967</td>\n",
       "      <td>-0.886375</td>\n",
       "    </tr>\n",
       "  </tbody>\n",
       "</table>\n",
       "</div>"
      ],
      "text/plain": [
       "          A         B         C         D\n",
       "a  0.539614 -2.085452 -0.387480  1.612251\n",
       "b  0.226549  0.782611 -1.295687  0.416662\n",
       "c  0.138371 -0.095452  0.245354 -0.251030\n",
       "d -1.030707  0.322914 -0.083806  0.206761\n",
       "e  1.435039 -0.248517 -0.762502  1.372238\n",
       "f -1.222409  0.319962  0.612967 -0.886375"
      ]
     },
     "execution_count": 101,
     "metadata": {},
     "output_type": "execute_result"
    }
   ],
   "source": [
    "df2 = pd.DataFrame(np.random.randn(6, 4), index = list('abcdef'), columns = list('ABCD'))\n",
    "df2"
   ]
  },
  {
   "cell_type": "code",
   "execution_count": 106,
   "metadata": {},
   "outputs": [
    {
     "data": {
      "text/html": [
       "<div>\n",
       "<style scoped>\n",
       "    .dataframe tbody tr th:only-of-type {\n",
       "        vertical-align: middle;\n",
       "    }\n",
       "\n",
       "    .dataframe tbody tr th {\n",
       "        vertical-align: top;\n",
       "    }\n",
       "\n",
       "    .dataframe thead th {\n",
       "        text-align: right;\n",
       "    }\n",
       "</style>\n",
       "<table border=\"1\" class=\"dataframe\">\n",
       "  <thead>\n",
       "    <tr style=\"text-align: right;\">\n",
       "      <th></th>\n",
       "      <th>A</th>\n",
       "      <th>C</th>\n",
       "      <th>D</th>\n",
       "    </tr>\n",
       "  </thead>\n",
       "  <tbody>\n",
       "    <tr>\n",
       "      <th>a</th>\n",
       "      <td>0.539614</td>\n",
       "      <td>-0.387480</td>\n",
       "      <td>1.612251</td>\n",
       "    </tr>\n",
       "    <tr>\n",
       "      <th>b</th>\n",
       "      <td>0.226549</td>\n",
       "      <td>-1.295687</td>\n",
       "      <td>0.416662</td>\n",
       "    </tr>\n",
       "    <tr>\n",
       "      <th>c</th>\n",
       "      <td>0.138371</td>\n",
       "      <td>0.245354</td>\n",
       "      <td>-0.251030</td>\n",
       "    </tr>\n",
       "    <tr>\n",
       "      <th>d</th>\n",
       "      <td>-1.030707</td>\n",
       "      <td>-0.083806</td>\n",
       "      <td>0.206761</td>\n",
       "    </tr>\n",
       "    <tr>\n",
       "      <th>e</th>\n",
       "      <td>1.435039</td>\n",
       "      <td>-0.762502</td>\n",
       "      <td>1.372238</td>\n",
       "    </tr>\n",
       "    <tr>\n",
       "      <th>f</th>\n",
       "      <td>-1.222409</td>\n",
       "      <td>0.612967</td>\n",
       "      <td>-0.886375</td>\n",
       "    </tr>\n",
       "  </tbody>\n",
       "</table>\n",
       "</div>"
      ],
      "text/plain": [
       "          A         C         D\n",
       "a  0.539614 -0.387480  1.612251\n",
       "b  0.226549 -1.295687  0.416662\n",
       "c  0.138371  0.245354 -0.251030\n",
       "d -1.030707 -0.083806  0.206761\n",
       "e  1.435039 -0.762502  1.372238\n",
       "f -1.222409  0.612967 -0.886375"
      ]
     },
     "execution_count": 106,
     "metadata": {},
     "output_type": "execute_result"
    }
   ],
   "source": [
    "df2.loc['a'], df2.loc['a', :]\n",
    "df2.loc['a':'e', :]\n",
    "df2.loc[['a', 'e', 'f'], :]\n",
    "\n",
    "df2.loc[:, 'A']\n",
    "df2.loc[:, 'A':'B']\n",
    "df2.loc[:, ['A', 'C', 'D']]"
   ]
  },
  {
   "cell_type": "markdown",
   "metadata": {},
   "source": [
    "#### bool indexing"
   ]
  },
  {
   "cell_type": "code",
   "execution_count": 112,
   "metadata": {},
   "outputs": [
    {
     "data": {
      "text/plain": [
       "A     True\n",
       "B    False\n",
       "C    False\n",
       "D     True\n",
       "Name: a, dtype: bool"
      ]
     },
     "execution_count": 112,
     "metadata": {},
     "output_type": "execute_result"
    }
   ],
   "source": [
    "df2.loc['a', :] > 0"
   ]
  },
  {
   "cell_type": "code",
   "execution_count": 113,
   "metadata": {},
   "outputs": [
    {
     "data": {
      "text/html": [
       "<div>\n",
       "<style scoped>\n",
       "    .dataframe tbody tr th:only-of-type {\n",
       "        vertical-align: middle;\n",
       "    }\n",
       "\n",
       "    .dataframe tbody tr th {\n",
       "        vertical-align: top;\n",
       "    }\n",
       "\n",
       "    .dataframe thead th {\n",
       "        text-align: right;\n",
       "    }\n",
       "</style>\n",
       "<table border=\"1\" class=\"dataframe\">\n",
       "  <thead>\n",
       "    <tr style=\"text-align: right;\">\n",
       "      <th></th>\n",
       "      <th>A</th>\n",
       "      <th>D</th>\n",
       "    </tr>\n",
       "  </thead>\n",
       "  <tbody>\n",
       "    <tr>\n",
       "      <th>a</th>\n",
       "      <td>0.539614</td>\n",
       "      <td>1.612251</td>\n",
       "    </tr>\n",
       "    <tr>\n",
       "      <th>b</th>\n",
       "      <td>0.226549</td>\n",
       "      <td>0.416662</td>\n",
       "    </tr>\n",
       "    <tr>\n",
       "      <th>c</th>\n",
       "      <td>0.138371</td>\n",
       "      <td>-0.251030</td>\n",
       "    </tr>\n",
       "    <tr>\n",
       "      <th>d</th>\n",
       "      <td>-1.030707</td>\n",
       "      <td>0.206761</td>\n",
       "    </tr>\n",
       "    <tr>\n",
       "      <th>e</th>\n",
       "      <td>1.435039</td>\n",
       "      <td>1.372238</td>\n",
       "    </tr>\n",
       "    <tr>\n",
       "      <th>f</th>\n",
       "      <td>-1.222409</td>\n",
       "      <td>-0.886375</td>\n",
       "    </tr>\n",
       "  </tbody>\n",
       "</table>\n",
       "</div>"
      ],
      "text/plain": [
       "          A         D\n",
       "a  0.539614  1.612251\n",
       "b  0.226549  0.416662\n",
       "c  0.138371 -0.251030\n",
       "d -1.030707  0.206761\n",
       "e  1.435039  1.372238\n",
       "f -1.222409 -0.886375"
      ]
     },
     "execution_count": 113,
     "metadata": {},
     "output_type": "execute_result"
    }
   ],
   "source": [
    "df2.loc[:, df2.loc['a'] > 0]"
   ]
  },
  {
   "cell_type": "markdown",
   "metadata": {},
   "source": [
    "# Selection By Position"
   ]
  },
  {
   "cell_type": "markdown",
   "metadata": {},
   "source": [
    "#### Series"
   ]
  },
  {
   "cell_type": "code",
   "execution_count": 114,
   "metadata": {},
   "outputs": [
    {
     "data": {
      "text/plain": [
       "0   -0.641168\n",
       "2    1.273565\n",
       "4    0.265654\n",
       "6    1.062376\n",
       "8   -0.416196\n",
       "dtype: float64"
      ]
     },
     "execution_count": 114,
     "metadata": {},
     "output_type": "execute_result"
    }
   ],
   "source": [
    "s1 = pd.Series(np.random.randn(5), \n",
    "               index = list(range(0, 10, 2)))\n",
    "s1"
   ]
  },
  {
   "cell_type": "code",
   "execution_count": 117,
   "metadata": {},
   "outputs": [
    {
     "data": {
      "text/plain": [
       "1.2735654873490818"
      ]
     },
     "execution_count": 117,
     "metadata": {},
     "output_type": "execute_result"
    }
   ],
   "source": [
    "s1.iloc[1]"
   ]
  },
  {
   "cell_type": "code",
   "execution_count": 118,
   "metadata": {},
   "outputs": [
    {
     "data": {
      "text/plain": [
       "0   -0.641168\n",
       "2    1.273565\n",
       "4    0.265654\n",
       "dtype: float64"
      ]
     },
     "execution_count": 118,
     "metadata": {},
     "output_type": "execute_result"
    }
   ],
   "source": [
    "s1.iloc[0:3]"
   ]
  },
  {
   "cell_type": "markdown",
   "metadata": {},
   "source": [
    "#### DataFrame"
   ]
  },
  {
   "cell_type": "code",
   "execution_count": 119,
   "metadata": {},
   "outputs": [
    {
     "data": {
      "text/html": [
       "<div>\n",
       "<style scoped>\n",
       "    .dataframe tbody tr th:only-of-type {\n",
       "        vertical-align: middle;\n",
       "    }\n",
       "\n",
       "    .dataframe tbody tr th {\n",
       "        vertical-align: top;\n",
       "    }\n",
       "\n",
       "    .dataframe thead th {\n",
       "        text-align: right;\n",
       "    }\n",
       "</style>\n",
       "<table border=\"1\" class=\"dataframe\">\n",
       "  <thead>\n",
       "    <tr style=\"text-align: right;\">\n",
       "      <th></th>\n",
       "      <th>0</th>\n",
       "      <th>2</th>\n",
       "      <th>4</th>\n",
       "      <th>6</th>\n",
       "    </tr>\n",
       "  </thead>\n",
       "  <tbody>\n",
       "    <tr>\n",
       "      <th>0</th>\n",
       "      <td>0.277355</td>\n",
       "      <td>1.170329</td>\n",
       "      <td>-0.216728</td>\n",
       "      <td>-0.491426</td>\n",
       "    </tr>\n",
       "    <tr>\n",
       "      <th>2</th>\n",
       "      <td>1.102692</td>\n",
       "      <td>1.541183</td>\n",
       "      <td>0.380077</td>\n",
       "      <td>-3.015055</td>\n",
       "    </tr>\n",
       "    <tr>\n",
       "      <th>4</th>\n",
       "      <td>-0.610160</td>\n",
       "      <td>0.794926</td>\n",
       "      <td>1.228155</td>\n",
       "      <td>-0.727703</td>\n",
       "    </tr>\n",
       "    <tr>\n",
       "      <th>6</th>\n",
       "      <td>0.499212</td>\n",
       "      <td>1.775840</td>\n",
       "      <td>0.926014</td>\n",
       "      <td>-0.750819</td>\n",
       "    </tr>\n",
       "    <tr>\n",
       "      <th>8</th>\n",
       "      <td>1.615997</td>\n",
       "      <td>0.330519</td>\n",
       "      <td>-0.191336</td>\n",
       "      <td>0.067967</td>\n",
       "    </tr>\n",
       "    <tr>\n",
       "      <th>10</th>\n",
       "      <td>0.398877</td>\n",
       "      <td>0.771205</td>\n",
       "      <td>-0.093476</td>\n",
       "      <td>0.307660</td>\n",
       "    </tr>\n",
       "  </tbody>\n",
       "</table>\n",
       "</div>"
      ],
      "text/plain": [
       "           0         2         4         6\n",
       "0   0.277355  1.170329 -0.216728 -0.491426\n",
       "2   1.102692  1.541183  0.380077 -3.015055\n",
       "4  -0.610160  0.794926  1.228155 -0.727703\n",
       "6   0.499212  1.775840  0.926014 -0.750819\n",
       "8   1.615997  0.330519 -0.191336  0.067967\n",
       "10  0.398877  0.771205 -0.093476  0.307660"
      ]
     },
     "execution_count": 119,
     "metadata": {},
     "output_type": "execute_result"
    }
   ],
   "source": [
    "df1 = pd.DataFrame(np.random.randn(6, 4), \n",
    "                   index = list(range(0, 12, 2)),\n",
    "                   columns = list(range(0, 8, 2)))\n",
    "df1"
   ]
  },
  {
   "cell_type": "code",
   "execution_count": 121,
   "metadata": {},
   "outputs": [
    {
     "data": {
      "text/plain": [
       "0    0.277355\n",
       "2    1.170329\n",
       "4   -0.216728\n",
       "6   -0.491426\n",
       "Name: 0, dtype: float64"
      ]
     },
     "execution_count": 121,
     "metadata": {},
     "output_type": "execute_result"
    }
   ],
   "source": [
    "df1.iloc[0]"
   ]
  },
  {
   "cell_type": "code",
   "execution_count": 122,
   "metadata": {},
   "outputs": [
    {
     "data": {
      "text/plain": [
       "0    0.277355\n",
       "2    1.170329\n",
       "4   -0.216728\n",
       "6   -0.491426\n",
       "Name: 0, dtype: float64"
      ]
     },
     "execution_count": 122,
     "metadata": {},
     "output_type": "execute_result"
    }
   ],
   "source": [
    "df1.iloc[0, :]"
   ]
  },
  {
   "cell_type": "code",
   "execution_count": 123,
   "metadata": {},
   "outputs": [
    {
     "data": {
      "text/html": [
       "<div>\n",
       "<style scoped>\n",
       "    .dataframe tbody tr th:only-of-type {\n",
       "        vertical-align: middle;\n",
       "    }\n",
       "\n",
       "    .dataframe tbody tr th {\n",
       "        vertical-align: top;\n",
       "    }\n",
       "\n",
       "    .dataframe thead th {\n",
       "        text-align: right;\n",
       "    }\n",
       "</style>\n",
       "<table border=\"1\" class=\"dataframe\">\n",
       "  <thead>\n",
       "    <tr style=\"text-align: right;\">\n",
       "      <th></th>\n",
       "      <th>0</th>\n",
       "      <th>2</th>\n",
       "      <th>4</th>\n",
       "      <th>6</th>\n",
       "    </tr>\n",
       "  </thead>\n",
       "  <tbody>\n",
       "    <tr>\n",
       "      <th>0</th>\n",
       "      <td>0.277355</td>\n",
       "      <td>1.170329</td>\n",
       "      <td>-0.216728</td>\n",
       "      <td>-0.491426</td>\n",
       "    </tr>\n",
       "    <tr>\n",
       "      <th>2</th>\n",
       "      <td>1.102692</td>\n",
       "      <td>1.541183</td>\n",
       "      <td>0.380077</td>\n",
       "      <td>-3.015055</td>\n",
       "    </tr>\n",
       "    <tr>\n",
       "      <th>4</th>\n",
       "      <td>-0.610160</td>\n",
       "      <td>0.794926</td>\n",
       "      <td>1.228155</td>\n",
       "      <td>-0.727703</td>\n",
       "    </tr>\n",
       "  </tbody>\n",
       "</table>\n",
       "</div>"
      ],
      "text/plain": [
       "          0         2         4         6\n",
       "0  0.277355  1.170329 -0.216728 -0.491426\n",
       "2  1.102692  1.541183  0.380077 -3.015055\n",
       "4 -0.610160  0.794926  1.228155 -0.727703"
      ]
     },
     "execution_count": 123,
     "metadata": {},
     "output_type": "execute_result"
    }
   ],
   "source": [
    "df1.iloc[0:3]"
   ]
  },
  {
   "cell_type": "code",
   "execution_count": 131,
   "metadata": {},
   "outputs": [
    {
     "data": {
      "text/html": [
       "<div>\n",
       "<style scoped>\n",
       "    .dataframe tbody tr th:only-of-type {\n",
       "        vertical-align: middle;\n",
       "    }\n",
       "\n",
       "    .dataframe tbody tr th {\n",
       "        vertical-align: top;\n",
       "    }\n",
       "\n",
       "    .dataframe thead th {\n",
       "        text-align: right;\n",
       "    }\n",
       "</style>\n",
       "<table border=\"1\" class=\"dataframe\">\n",
       "  <thead>\n",
       "    <tr style=\"text-align: right;\">\n",
       "      <th></th>\n",
       "      <th>0</th>\n",
       "      <th>2</th>\n",
       "      <th>4</th>\n",
       "      <th>6</th>\n",
       "    </tr>\n",
       "  </thead>\n",
       "  <tbody>\n",
       "    <tr>\n",
       "      <th>0</th>\n",
       "      <td>0.277355</td>\n",
       "      <td>1.170329</td>\n",
       "      <td>-0.216728</td>\n",
       "      <td>-0.491426</td>\n",
       "    </tr>\n",
       "    <tr>\n",
       "      <th>2</th>\n",
       "      <td>1.102692</td>\n",
       "      <td>1.541183</td>\n",
       "      <td>0.380077</td>\n",
       "      <td>-3.015055</td>\n",
       "    </tr>\n",
       "    <tr>\n",
       "      <th>4</th>\n",
       "      <td>-0.610160</td>\n",
       "      <td>0.794926</td>\n",
       "      <td>1.228155</td>\n",
       "      <td>-0.727703</td>\n",
       "    </tr>\n",
       "  </tbody>\n",
       "</table>\n",
       "</div>"
      ],
      "text/plain": [
       "          0         2         4         6\n",
       "0  0.277355  1.170329 -0.216728 -0.491426\n",
       "2  1.102692  1.541183  0.380077 -3.015055\n",
       "4 -0.610160  0.794926  1.228155 -0.727703"
      ]
     },
     "execution_count": 131,
     "metadata": {},
     "output_type": "execute_result"
    }
   ],
   "source": [
    "df1.iloc[0:3, :]"
   ]
  },
  {
   "cell_type": "code",
   "execution_count": 133,
   "metadata": {},
   "outputs": [
    {
     "data": {
      "text/html": [
       "<div>\n",
       "<style scoped>\n",
       "    .dataframe tbody tr th:only-of-type {\n",
       "        vertical-align: middle;\n",
       "    }\n",
       "\n",
       "    .dataframe tbody tr th {\n",
       "        vertical-align: top;\n",
       "    }\n",
       "\n",
       "    .dataframe thead th {\n",
       "        text-align: right;\n",
       "    }\n",
       "</style>\n",
       "<table border=\"1\" class=\"dataframe\">\n",
       "  <thead>\n",
       "    <tr style=\"text-align: right;\">\n",
       "      <th></th>\n",
       "      <th>0</th>\n",
       "      <th>2</th>\n",
       "      <th>4</th>\n",
       "      <th>6</th>\n",
       "    </tr>\n",
       "  </thead>\n",
       "  <tbody>\n",
       "    <tr>\n",
       "      <th>4</th>\n",
       "      <td>-0.610160</td>\n",
       "      <td>0.794926</td>\n",
       "      <td>1.228155</td>\n",
       "      <td>-0.727703</td>\n",
       "    </tr>\n",
       "    <tr>\n",
       "      <th>0</th>\n",
       "      <td>0.277355</td>\n",
       "      <td>1.170329</td>\n",
       "      <td>-0.216728</td>\n",
       "      <td>-0.491426</td>\n",
       "    </tr>\n",
       "    <tr>\n",
       "      <th>2</th>\n",
       "      <td>1.102692</td>\n",
       "      <td>1.541183</td>\n",
       "      <td>0.380077</td>\n",
       "      <td>-3.015055</td>\n",
       "    </tr>\n",
       "  </tbody>\n",
       "</table>\n",
       "</div>"
      ],
      "text/plain": [
       "          0         2         4         6\n",
       "4 -0.610160  0.794926  1.228155 -0.727703\n",
       "0  0.277355  1.170329 -0.216728 -0.491426\n",
       "2  1.102692  1.541183  0.380077 -3.015055"
      ]
     },
     "execution_count": 133,
     "metadata": {},
     "output_type": "execute_result"
    }
   ],
   "source": [
    "df1.iloc[[2, 0, 1]]"
   ]
  },
  {
   "cell_type": "code",
   "execution_count": 132,
   "metadata": {},
   "outputs": [
    {
     "data": {
      "text/html": [
       "<div>\n",
       "<style scoped>\n",
       "    .dataframe tbody tr th:only-of-type {\n",
       "        vertical-align: middle;\n",
       "    }\n",
       "\n",
       "    .dataframe tbody tr th {\n",
       "        vertical-align: top;\n",
       "    }\n",
       "\n",
       "    .dataframe thead th {\n",
       "        text-align: right;\n",
       "    }\n",
       "</style>\n",
       "<table border=\"1\" class=\"dataframe\">\n",
       "  <thead>\n",
       "    <tr style=\"text-align: right;\">\n",
       "      <th></th>\n",
       "      <th>0</th>\n",
       "      <th>2</th>\n",
       "      <th>4</th>\n",
       "      <th>6</th>\n",
       "    </tr>\n",
       "  </thead>\n",
       "  <tbody>\n",
       "    <tr>\n",
       "      <th>4</th>\n",
       "      <td>-0.610160</td>\n",
       "      <td>0.794926</td>\n",
       "      <td>1.228155</td>\n",
       "      <td>-0.727703</td>\n",
       "    </tr>\n",
       "    <tr>\n",
       "      <th>0</th>\n",
       "      <td>0.277355</td>\n",
       "      <td>1.170329</td>\n",
       "      <td>-0.216728</td>\n",
       "      <td>-0.491426</td>\n",
       "    </tr>\n",
       "    <tr>\n",
       "      <th>2</th>\n",
       "      <td>1.102692</td>\n",
       "      <td>1.541183</td>\n",
       "      <td>0.380077</td>\n",
       "      <td>-3.015055</td>\n",
       "    </tr>\n",
       "  </tbody>\n",
       "</table>\n",
       "</div>"
      ],
      "text/plain": [
       "          0         2         4         6\n",
       "4 -0.610160  0.794926  1.228155 -0.727703\n",
       "0  0.277355  1.170329 -0.216728 -0.491426\n",
       "2  1.102692  1.541183  0.380077 -3.015055"
      ]
     },
     "execution_count": 132,
     "metadata": {},
     "output_type": "execute_result"
    }
   ],
   "source": [
    "df1.iloc[[2, 0, 1], :]"
   ]
  },
  {
   "cell_type": "code",
   "execution_count": 125,
   "metadata": {},
   "outputs": [
    {
     "data": {
      "text/plain": [
       "0    -0.491426\n",
       "2    -3.015055\n",
       "4    -0.727703\n",
       "6    -0.750819\n",
       "8     0.067967\n",
       "10    0.307660\n",
       "Name: 6, dtype: float64"
      ]
     },
     "execution_count": 125,
     "metadata": {},
     "output_type": "execute_result"
    }
   ],
   "source": [
    "df1.iloc[:, 3]"
   ]
  },
  {
   "cell_type": "code",
   "execution_count": 134,
   "metadata": {},
   "outputs": [
    {
     "data": {
      "text/html": [
       "<div>\n",
       "<style scoped>\n",
       "    .dataframe tbody tr th:only-of-type {\n",
       "        vertical-align: middle;\n",
       "    }\n",
       "\n",
       "    .dataframe tbody tr th {\n",
       "        vertical-align: top;\n",
       "    }\n",
       "\n",
       "    .dataframe thead th {\n",
       "        text-align: right;\n",
       "    }\n",
       "</style>\n",
       "<table border=\"1\" class=\"dataframe\">\n",
       "  <thead>\n",
       "    <tr style=\"text-align: right;\">\n",
       "      <th></th>\n",
       "      <th>4</th>\n",
       "    </tr>\n",
       "  </thead>\n",
       "  <tbody>\n",
       "    <tr>\n",
       "      <th>0</th>\n",
       "      <td>-0.216728</td>\n",
       "    </tr>\n",
       "    <tr>\n",
       "      <th>2</th>\n",
       "      <td>0.380077</td>\n",
       "    </tr>\n",
       "    <tr>\n",
       "      <th>4</th>\n",
       "      <td>1.228155</td>\n",
       "    </tr>\n",
       "    <tr>\n",
       "      <th>6</th>\n",
       "      <td>0.926014</td>\n",
       "    </tr>\n",
       "    <tr>\n",
       "      <th>8</th>\n",
       "      <td>-0.191336</td>\n",
       "    </tr>\n",
       "    <tr>\n",
       "      <th>10</th>\n",
       "      <td>-0.093476</td>\n",
       "    </tr>\n",
       "  </tbody>\n",
       "</table>\n",
       "</div>"
      ],
      "text/plain": [
       "           4\n",
       "0  -0.216728\n",
       "2   0.380077\n",
       "4   1.228155\n",
       "6   0.926014\n",
       "8  -0.191336\n",
       "10 -0.093476"
      ]
     },
     "execution_count": 134,
     "metadata": {},
     "output_type": "execute_result"
    }
   ],
   "source": [
    "df1.iloc[:, 2:3]"
   ]
  },
  {
   "cell_type": "code",
   "execution_count": 136,
   "metadata": {},
   "outputs": [
    {
     "data": {
      "text/html": [
       "<div>\n",
       "<style scoped>\n",
       "    .dataframe tbody tr th:only-of-type {\n",
       "        vertical-align: middle;\n",
       "    }\n",
       "\n",
       "    .dataframe tbody tr th {\n",
       "        vertical-align: top;\n",
       "    }\n",
       "\n",
       "    .dataframe thead th {\n",
       "        text-align: right;\n",
       "    }\n",
       "</style>\n",
       "<table border=\"1\" class=\"dataframe\">\n",
       "  <thead>\n",
       "    <tr style=\"text-align: right;\">\n",
       "      <th></th>\n",
       "      <th>0</th>\n",
       "      <th>2</th>\n",
       "      <th>6</th>\n",
       "    </tr>\n",
       "  </thead>\n",
       "  <tbody>\n",
       "    <tr>\n",
       "      <th>0</th>\n",
       "      <td>0.277355</td>\n",
       "      <td>1.170329</td>\n",
       "      <td>-0.491426</td>\n",
       "    </tr>\n",
       "    <tr>\n",
       "      <th>2</th>\n",
       "      <td>1.102692</td>\n",
       "      <td>1.541183</td>\n",
       "      <td>-3.015055</td>\n",
       "    </tr>\n",
       "    <tr>\n",
       "      <th>4</th>\n",
       "      <td>-0.610160</td>\n",
       "      <td>0.794926</td>\n",
       "      <td>-0.727703</td>\n",
       "    </tr>\n",
       "    <tr>\n",
       "      <th>6</th>\n",
       "      <td>0.499212</td>\n",
       "      <td>1.775840</td>\n",
       "      <td>-0.750819</td>\n",
       "    </tr>\n",
       "    <tr>\n",
       "      <th>8</th>\n",
       "      <td>1.615997</td>\n",
       "      <td>0.330519</td>\n",
       "      <td>0.067967</td>\n",
       "    </tr>\n",
       "    <tr>\n",
       "      <th>10</th>\n",
       "      <td>0.398877</td>\n",
       "      <td>0.771205</td>\n",
       "      <td>0.307660</td>\n",
       "    </tr>\n",
       "  </tbody>\n",
       "</table>\n",
       "</div>"
      ],
      "text/plain": [
       "           0         2         6\n",
       "0   0.277355  1.170329 -0.491426\n",
       "2   1.102692  1.541183 -3.015055\n",
       "4  -0.610160  0.794926 -0.727703\n",
       "6   0.499212  1.775840 -0.750819\n",
       "8   1.615997  0.330519  0.067967\n",
       "10  0.398877  0.771205  0.307660"
      ]
     },
     "execution_count": 136,
     "metadata": {},
     "output_type": "execute_result"
    }
   ],
   "source": [
    "df1.iloc[:, [0, 1, 3]]"
   ]
  },
  {
   "cell_type": "code",
   "execution_count": 130,
   "metadata": {},
   "outputs": [
    {
     "data": {
      "text/html": [
       "<div>\n",
       "<style scoped>\n",
       "    .dataframe tbody tr th:only-of-type {\n",
       "        vertical-align: middle;\n",
       "    }\n",
       "\n",
       "    .dataframe tbody tr th {\n",
       "        vertical-align: top;\n",
       "    }\n",
       "\n",
       "    .dataframe thead th {\n",
       "        text-align: right;\n",
       "    }\n",
       "</style>\n",
       "<table border=\"1\" class=\"dataframe\">\n",
       "  <thead>\n",
       "    <tr style=\"text-align: right;\">\n",
       "      <th></th>\n",
       "      <th>4</th>\n",
       "      <th>6</th>\n",
       "    </tr>\n",
       "  </thead>\n",
       "  <tbody>\n",
       "    <tr>\n",
       "      <th>2</th>\n",
       "      <td>0.380077</td>\n",
       "      <td>-3.015055</td>\n",
       "    </tr>\n",
       "    <tr>\n",
       "      <th>4</th>\n",
       "      <td>1.228155</td>\n",
       "      <td>-0.727703</td>\n",
       "    </tr>\n",
       "    <tr>\n",
       "      <th>6</th>\n",
       "      <td>0.926014</td>\n",
       "      <td>-0.750819</td>\n",
       "    </tr>\n",
       "    <tr>\n",
       "      <th>8</th>\n",
       "      <td>-0.191336</td>\n",
       "      <td>0.067967</td>\n",
       "    </tr>\n",
       "  </tbody>\n",
       "</table>\n",
       "</div>"
      ],
      "text/plain": [
       "          4         6\n",
       "2  0.380077 -3.015055\n",
       "4  1.228155 -0.727703\n",
       "6  0.926014 -0.750819\n",
       "8 -0.191336  0.067967"
      ]
     },
     "execution_count": 130,
     "metadata": {},
     "output_type": "execute_result"
    }
   ],
   "source": [
    "df1.iloc[1:5, 2:4]"
   ]
  },
  {
   "cell_type": "code",
   "execution_count": 137,
   "metadata": {},
   "outputs": [
    {
     "data": {
      "text/html": [
       "<div>\n",
       "<style scoped>\n",
       "    .dataframe tbody tr th:only-of-type {\n",
       "        vertical-align: middle;\n",
       "    }\n",
       "\n",
       "    .dataframe tbody tr th {\n",
       "        vertical-align: top;\n",
       "    }\n",
       "\n",
       "    .dataframe thead th {\n",
       "        text-align: right;\n",
       "    }\n",
       "</style>\n",
       "<table border=\"1\" class=\"dataframe\">\n",
       "  <thead>\n",
       "    <tr style=\"text-align: right;\">\n",
       "      <th></th>\n",
       "      <th>A</th>\n",
       "      <th>C</th>\n",
       "      <th>B</th>\n",
       "    </tr>\n",
       "  </thead>\n",
       "  <tbody>\n",
       "    <tr>\n",
       "      <th>a</th>\n",
       "      <td>0.903444</td>\n",
       "      <td>-0.666687</td>\n",
       "      <td>0.641825</td>\n",
       "    </tr>\n",
       "    <tr>\n",
       "      <th>d</th>\n",
       "      <td>-0.889497</td>\n",
       "      <td>-0.076937</td>\n",
       "      <td>1.469473</td>\n",
       "    </tr>\n",
       "    <tr>\n",
       "      <th>c</th>\n",
       "      <td>0.234372</td>\n",
       "      <td>-1.302702</td>\n",
       "      <td>1.422947</td>\n",
       "    </tr>\n",
       "  </tbody>\n",
       "</table>\n",
       "</div>"
      ],
      "text/plain": [
       "          A         C         B\n",
       "a  0.903444 -0.666687  0.641825\n",
       "d -0.889497 -0.076937  1.469473\n",
       "c  0.234372 -1.302702  1.422947"
      ]
     },
     "execution_count": 137,
     "metadata": {},
     "output_type": "execute_result"
    }
   ],
   "source": [
    "df.iloc[[0, 3, 2], [0, 2, 1]]"
   ]
  },
  {
   "cell_type": "markdown",
   "metadata": {},
   "source": [
    "# Selection By Callable"
   ]
  },
  {
   "cell_type": "code",
   "execution_count": null,
   "metadata": {},
   "outputs": [],
   "source": []
  }
 ],
 "metadata": {
  "kernelspec": {
   "display_name": "Python 3",
   "language": "python",
   "name": "python3"
  },
  "language_info": {
   "codemirror_mode": {
    "name": "ipython",
    "version": 3
   },
   "file_extension": ".py",
   "mimetype": "text/x-python",
   "name": "python",
   "nbconvert_exporter": "python",
   "pygments_lexer": "ipython3",
   "version": "3.6.5"
  }
 },
 "nbformat": 4,
 "nbformat_minor": 2
}
