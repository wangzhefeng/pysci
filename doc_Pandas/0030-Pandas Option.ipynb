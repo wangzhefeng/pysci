{
 "cells": [
  {
   "cell_type": "code",
   "execution_count": 1,
   "metadata": {},
   "outputs": [],
   "source": [
    "import pandas as pd"
   ]
  },
  {
   "cell_type": "markdown",
   "metadata": {},
   "source": [
    "### 获取和设置选项"
   ]
  },
  {
   "cell_type": "markdown",
   "metadata": {},
   "source": [
    "#### `pd.get_option()`, `pd.set_option())`"
   ]
  },
  {
   "cell_type": "code",
   "execution_count": 10,
   "metadata": {},
   "outputs": [
    {
     "data": {
      "text/plain": [
       "False"
      ]
     },
     "execution_count": 10,
     "metadata": {},
     "output_type": "execute_result"
    }
   ],
   "source": [
    "pd.get_option('mode.sim_interactive')"
   ]
  },
  {
   "cell_type": "code",
   "execution_count": 12,
   "metadata": {},
   "outputs": [
    {
     "data": {
      "text/plain": [
       "True"
      ]
     },
     "execution_count": 12,
     "metadata": {},
     "output_type": "execute_result"
    }
   ],
   "source": [
    "pd.set_option('mode.sim_interactive', True)\n",
    "pd.get_option('mode.sim_interactive')"
   ]
  },
  {
   "cell_type": "markdown",
   "metadata": {},
   "source": [
    "#### `pd.reset_option(\"regex\")`"
   ]
  },
  {
   "cell_type": "code",
   "execution_count": 15,
   "metadata": {},
   "outputs": [
    {
     "data": {
      "text/plain": [
       "999"
      ]
     },
     "execution_count": 15,
     "metadata": {},
     "output_type": "execute_result"
    }
   ],
   "source": [
    "pd.get_option('display.max_rows')"
   ]
  },
  {
   "cell_type": "code",
   "execution_count": 16,
   "metadata": {},
   "outputs": [],
   "source": [
    "pd.set_option('display.max_rows', 999)"
   ]
  },
  {
   "cell_type": "code",
   "execution_count": 17,
   "metadata": {},
   "outputs": [
    {
     "data": {
      "text/plain": [
       "999"
      ]
     },
     "execution_count": 17,
     "metadata": {},
     "output_type": "execute_result"
    }
   ],
   "source": [
    "pd.get_option('display.max_rows')"
   ]
  },
  {
   "cell_type": "code",
   "execution_count": 18,
   "metadata": {},
   "outputs": [],
   "source": [
    "pd.reset_option('display.max_rows')"
   ]
  },
  {
   "cell_type": "code",
   "execution_count": 19,
   "metadata": {},
   "outputs": [
    {
     "data": {
      "text/plain": [
       "60"
      ]
     },
     "execution_count": 19,
     "metadata": {},
     "output_type": "execute_result"
    }
   ],
   "source": [
    "pd.get_option('display.max_rows')"
   ]
  },
  {
   "cell_type": "code",
   "execution_count": 20,
   "metadata": {},
   "outputs": [],
   "source": [
    "pd.reset_option('^display')"
   ]
  },
  {
   "cell_type": "markdown",
   "metadata": {},
   "source": [
    "#### `pd.option_context()`"
   ]
  },
  {
   "cell_type": "code",
   "execution_count": 23,
   "metadata": {},
   "outputs": [
    {
     "name": "stdout",
     "output_type": "stream",
     "text": [
      "10\n",
      "5\n"
     ]
    }
   ],
   "source": [
    "with pd.option_context('display.max_rows', 10, 'display.max_columns', 5):\n",
    "    print(pd.get_option('display.max_rows'))\n",
    "    print(pd.get_option('display.max_columns'))"
   ]
  },
  {
   "cell_type": "markdown",
   "metadata": {},
   "source": [
    "### 在Python，IPython环境中设置开始选项配置"
   ]
  },
  {
   "cell_type": "code",
   "execution_count": 24,
   "metadata": {},
   "outputs": [],
   "source": [
    "# startup/01.py\n",
    "import pandas as pd\n",
    "pd.set_option('display.max_rows', 999)\n",
    "pd.set_option('precision', 5)"
   ]
  },
  {
   "cell_type": "markdown",
   "metadata": {},
   "source": [
    "### 常用选项"
   ]
  },
  {
   "cell_type": "markdown",
   "metadata": {},
   "source": [
    "* display.max_rows\n",
    "* display.max_columns\n",
    "* display.expand_frame_repr"
   ]
  },
  {
   "cell_type": "code",
   "execution_count": 27,
   "metadata": {},
   "outputs": [
    {
     "data": {
      "text/html": [
       "<div>\n",
       "<style scoped>\n",
       "    .dataframe tbody tr th:only-of-type {\n",
       "        vertical-align: middle;\n",
       "    }\n",
       "\n",
       "    .dataframe tbody tr th {\n",
       "        vertical-align: top;\n",
       "    }\n",
       "\n",
       "    .dataframe thead th {\n",
       "        text-align: right;\n",
       "    }\n",
       "</style>\n",
       "<table border=\"1\" class=\"dataframe\">\n",
       "  <thead>\n",
       "    <tr style=\"text-align: right;\">\n",
       "      <th></th>\n",
       "      <th>0</th>\n",
       "      <th>1</th>\n",
       "    </tr>\n",
       "  </thead>\n",
       "  <tbody>\n",
       "    <tr>\n",
       "      <th>0</th>\n",
       "      <td>-0.94654</td>\n",
       "      <td>1.84023</td>\n",
       "    </tr>\n",
       "    <tr>\n",
       "      <th>1</th>\n",
       "      <td>0.73832</td>\n",
       "      <td>0.32721</td>\n",
       "    </tr>\n",
       "    <tr>\n",
       "      <th>2</th>\n",
       "      <td>0.39149</td>\n",
       "      <td>-0.27293</td>\n",
       "    </tr>\n",
       "    <tr>\n",
       "      <th>3</th>\n",
       "      <td>-1.19163</td>\n",
       "      <td>0.65912</td>\n",
       "    </tr>\n",
       "    <tr>\n",
       "      <th>4</th>\n",
       "      <td>0.14472</td>\n",
       "      <td>-1.65645</td>\n",
       "    </tr>\n",
       "    <tr>\n",
       "      <th>5</th>\n",
       "      <td>-0.09900</td>\n",
       "      <td>2.07030</td>\n",
       "    </tr>\n",
       "    <tr>\n",
       "      <th>6</th>\n",
       "      <td>-0.44689</td>\n",
       "      <td>-0.87072</td>\n",
       "    </tr>\n",
       "  </tbody>\n",
       "</table>\n",
       "</div>"
      ],
      "text/plain": [
       "         0        1\n",
       "0 -0.94654  1.84023\n",
       "1  0.73832  0.32721\n",
       "2  0.39149 -0.27293\n",
       "3 -1.19163  0.65912\n",
       "4  0.14472 -1.65645\n",
       "5 -0.09900  2.07030\n",
       "6 -0.44689 -0.87072"
      ]
     },
     "execution_count": 27,
     "metadata": {},
     "output_type": "execute_result"
    }
   ],
   "source": [
    "import numpy as np\n",
    "df = pd.DataFrame(np.random.randn(7, 2))\n",
    "pd.set_option('max_rows', 7)\n",
    "df"
   ]
  },
  {
   "cell_type": "code",
   "execution_count": 30,
   "metadata": {},
   "outputs": [
    {
     "data": {
      "text/html": [
       "<div>\n",
       "<style scoped>\n",
       "    .dataframe tbody tr th:only-of-type {\n",
       "        vertical-align: middle;\n",
       "    }\n",
       "\n",
       "    .dataframe tbody tr th {\n",
       "        vertical-align: top;\n",
       "    }\n",
       "\n",
       "    .dataframe thead th {\n",
       "        text-align: right;\n",
       "    }\n",
       "</style>\n",
       "<table border=\"1\" class=\"dataframe\">\n",
       "  <thead>\n",
       "    <tr style=\"text-align: right;\">\n",
       "      <th></th>\n",
       "      <th>0</th>\n",
       "      <th>1</th>\n",
       "    </tr>\n",
       "  </thead>\n",
       "  <tbody>\n",
       "    <tr>\n",
       "      <th>0</th>\n",
       "      <td>-0.94654</td>\n",
       "      <td>1.84023</td>\n",
       "    </tr>\n",
       "    <tr>\n",
       "      <th>1</th>\n",
       "      <td>0.73832</td>\n",
       "      <td>0.32721</td>\n",
       "    </tr>\n",
       "    <tr>\n",
       "      <th>...</th>\n",
       "      <td>...</td>\n",
       "      <td>...</td>\n",
       "    </tr>\n",
       "    <tr>\n",
       "      <th>5</th>\n",
       "      <td>-0.09900</td>\n",
       "      <td>2.07030</td>\n",
       "    </tr>\n",
       "    <tr>\n",
       "      <th>6</th>\n",
       "      <td>-0.44689</td>\n",
       "      <td>-0.87072</td>\n",
       "    </tr>\n",
       "  </tbody>\n",
       "</table>\n",
       "<p>7 rows × 2 columns</p>\n",
       "</div>"
      ],
      "text/plain": [
       "          0        1\n",
       "0  -0.94654  1.84023\n",
       "1   0.73832  0.32721\n",
       "..      ...      ...\n",
       "5  -0.09900  2.07030\n",
       "6  -0.44689 -0.87072\n",
       "\n",
       "[7 rows x 2 columns]"
      ]
     },
     "execution_count": 30,
     "metadata": {},
     "output_type": "execute_result"
    }
   ],
   "source": [
    "pd.set_option('display.max_rows', 5)\n",
    "df"
   ]
  },
  {
   "cell_type": "code",
   "execution_count": 31,
   "metadata": {},
   "outputs": [],
   "source": [
    "pd.reset_option('max_rows')"
   ]
  },
  {
   "cell_type": "code",
   "execution_count": 32,
   "metadata": {},
   "outputs": [
    {
     "data": {
      "text/html": [
       "<div>\n",
       "<style scoped>\n",
       "    .dataframe tbody tr th:only-of-type {\n",
       "        vertical-align: middle;\n",
       "    }\n",
       "\n",
       "    .dataframe tbody tr th {\n",
       "        vertical-align: top;\n",
       "    }\n",
       "\n",
       "    .dataframe thead th {\n",
       "        text-align: right;\n",
       "    }\n",
       "</style>\n",
       "<table border=\"1\" class=\"dataframe\">\n",
       "  <thead>\n",
       "    <tr style=\"text-align: right;\">\n",
       "      <th></th>\n",
       "      <th>0</th>\n",
       "      <th>1</th>\n",
       "      <th>2</th>\n",
       "      <th>3</th>\n",
       "      <th>4</th>\n",
       "      <th>5</th>\n",
       "      <th>6</th>\n",
       "      <th>7</th>\n",
       "      <th>8</th>\n",
       "      <th>9</th>\n",
       "    </tr>\n",
       "  </thead>\n",
       "  <tbody>\n",
       "    <tr>\n",
       "      <th>0</th>\n",
       "      <td>2.39931</td>\n",
       "      <td>-1.23260</td>\n",
       "      <td>0.89286</td>\n",
       "      <td>-1.68144</td>\n",
       "      <td>-0.16518</td>\n",
       "      <td>-0.62590</td>\n",
       "      <td>1.30248</td>\n",
       "      <td>1.21471</td>\n",
       "      <td>0.18985</td>\n",
       "      <td>-0.04642</td>\n",
       "    </tr>\n",
       "    <tr>\n",
       "      <th>1</th>\n",
       "      <td>-2.23447</td>\n",
       "      <td>1.40555</td>\n",
       "      <td>-1.98587</td>\n",
       "      <td>1.36817</td>\n",
       "      <td>-1.05612</td>\n",
       "      <td>0.13431</td>\n",
       "      <td>-0.06293</td>\n",
       "      <td>0.29252</td>\n",
       "      <td>-1.13548</td>\n",
       "      <td>-0.20761</td>\n",
       "    </tr>\n",
       "    <tr>\n",
       "      <th>2</th>\n",
       "      <td>0.46129</td>\n",
       "      <td>-0.98899</td>\n",
       "      <td>0.53789</td>\n",
       "      <td>-0.81180</td>\n",
       "      <td>-1.61431</td>\n",
       "      <td>-0.28389</td>\n",
       "      <td>1.04829</td>\n",
       "      <td>-1.13585</td>\n",
       "      <td>-0.03234</td>\n",
       "      <td>-1.64850</td>\n",
       "    </tr>\n",
       "    <tr>\n",
       "      <th>3</th>\n",
       "      <td>0.57031</td>\n",
       "      <td>0.87322</td>\n",
       "      <td>0.65957</td>\n",
       "      <td>-0.92043</td>\n",
       "      <td>0.74952</td>\n",
       "      <td>-2.38305</td>\n",
       "      <td>0.08594</td>\n",
       "      <td>-0.50057</td>\n",
       "      <td>-0.00964</td>\n",
       "      <td>0.87714</td>\n",
       "    </tr>\n",
       "    <tr>\n",
       "      <th>4</th>\n",
       "      <td>1.14877</td>\n",
       "      <td>2.00962</td>\n",
       "      <td>-0.14966</td>\n",
       "      <td>-0.46520</td>\n",
       "      <td>0.31858</td>\n",
       "      <td>-0.30415</td>\n",
       "      <td>-1.22176</td>\n",
       "      <td>-1.97865</td>\n",
       "      <td>0.55651</td>\n",
       "      <td>-1.65729</td>\n",
       "    </tr>\n",
       "  </tbody>\n",
       "</table>\n",
       "</div>"
      ],
      "text/plain": [
       "         0        1        2        3        4        5        6        7  \\\n",
       "0  2.39931 -1.23260  0.89286 -1.68144 -0.16518 -0.62590  1.30248  1.21471   \n",
       "1 -2.23447  1.40555 -1.98587  1.36817 -1.05612  0.13431 -0.06293  0.29252   \n",
       "2  0.46129 -0.98899  0.53789 -0.81180 -1.61431 -0.28389  1.04829 -1.13585   \n",
       "3  0.57031  0.87322  0.65957 -0.92043  0.74952 -2.38305  0.08594 -0.50057   \n",
       "4  1.14877  2.00962 -0.14966 -0.46520  0.31858 -0.30415 -1.22176 -1.97865   \n",
       "\n",
       "         8        9  \n",
       "0  0.18985 -0.04642  \n",
       "1 -1.13548 -0.20761  \n",
       "2 -0.03234 -1.64850  \n",
       "3 -0.00964  0.87714  \n",
       "4  0.55651 -1.65729  "
      ]
     },
     "execution_count": 32,
     "metadata": {},
     "output_type": "execute_result"
    }
   ],
   "source": [
    "df = pd.DataFrame(np.random.randn(5, 10))\n",
    "df"
   ]
  },
  {
   "cell_type": "code",
   "execution_count": 33,
   "metadata": {},
   "outputs": [
    {
     "data": {
      "text/html": [
       "<div>\n",
       "<style scoped>\n",
       "    .dataframe tbody tr th:only-of-type {\n",
       "        vertical-align: middle;\n",
       "    }\n",
       "\n",
       "    .dataframe tbody tr th {\n",
       "        vertical-align: top;\n",
       "    }\n",
       "\n",
       "    .dataframe thead th {\n",
       "        text-align: right;\n",
       "    }\n",
       "</style>\n",
       "<table border=\"1\" class=\"dataframe\">\n",
       "  <thead>\n",
       "    <tr style=\"text-align: right;\">\n",
       "      <th></th>\n",
       "      <th>0</th>\n",
       "      <th>1</th>\n",
       "      <th>2</th>\n",
       "      <th>3</th>\n",
       "      <th>4</th>\n",
       "      <th>5</th>\n",
       "      <th>6</th>\n",
       "      <th>7</th>\n",
       "      <th>8</th>\n",
       "      <th>9</th>\n",
       "    </tr>\n",
       "  </thead>\n",
       "  <tbody>\n",
       "    <tr>\n",
       "      <th>0</th>\n",
       "      <td>2.39931</td>\n",
       "      <td>-1.23260</td>\n",
       "      <td>0.89286</td>\n",
       "      <td>-1.68144</td>\n",
       "      <td>-0.16518</td>\n",
       "      <td>-0.62590</td>\n",
       "      <td>1.30248</td>\n",
       "      <td>1.21471</td>\n",
       "      <td>0.18985</td>\n",
       "      <td>-0.04642</td>\n",
       "    </tr>\n",
       "    <tr>\n",
       "      <th>1</th>\n",
       "      <td>-2.23447</td>\n",
       "      <td>1.40555</td>\n",
       "      <td>-1.98587</td>\n",
       "      <td>1.36817</td>\n",
       "      <td>-1.05612</td>\n",
       "      <td>0.13431</td>\n",
       "      <td>-0.06293</td>\n",
       "      <td>0.29252</td>\n",
       "      <td>-1.13548</td>\n",
       "      <td>-0.20761</td>\n",
       "    </tr>\n",
       "    <tr>\n",
       "      <th>2</th>\n",
       "      <td>0.46129</td>\n",
       "      <td>-0.98899</td>\n",
       "      <td>0.53789</td>\n",
       "      <td>-0.81180</td>\n",
       "      <td>-1.61431</td>\n",
       "      <td>-0.28389</td>\n",
       "      <td>1.04829</td>\n",
       "      <td>-1.13585</td>\n",
       "      <td>-0.03234</td>\n",
       "      <td>-1.64850</td>\n",
       "    </tr>\n",
       "    <tr>\n",
       "      <th>3</th>\n",
       "      <td>0.57031</td>\n",
       "      <td>0.87322</td>\n",
       "      <td>0.65957</td>\n",
       "      <td>-0.92043</td>\n",
       "      <td>0.74952</td>\n",
       "      <td>-2.38305</td>\n",
       "      <td>0.08594</td>\n",
       "      <td>-0.50057</td>\n",
       "      <td>-0.00964</td>\n",
       "      <td>0.87714</td>\n",
       "    </tr>\n",
       "    <tr>\n",
       "      <th>4</th>\n",
       "      <td>1.14877</td>\n",
       "      <td>2.00962</td>\n",
       "      <td>-0.14966</td>\n",
       "      <td>-0.46520</td>\n",
       "      <td>0.31858</td>\n",
       "      <td>-0.30415</td>\n",
       "      <td>-1.22176</td>\n",
       "      <td>-1.97865</td>\n",
       "      <td>0.55651</td>\n",
       "      <td>-1.65729</td>\n",
       "    </tr>\n",
       "  </tbody>\n",
       "</table>\n",
       "</div>"
      ],
      "text/plain": [
       "         0        1        2        3        4        5        6        7  \\\n",
       "0  2.39931 -1.23260  0.89286 -1.68144 -0.16518 -0.62590  1.30248  1.21471   \n",
       "1 -2.23447  1.40555 -1.98587  1.36817 -1.05612  0.13431 -0.06293  0.29252   \n",
       "2  0.46129 -0.98899  0.53789 -0.81180 -1.61431 -0.28389  1.04829 -1.13585   \n",
       "3  0.57031  0.87322  0.65957 -0.92043  0.74952 -2.38305  0.08594 -0.50057   \n",
       "4  1.14877  2.00962 -0.14966 -0.46520  0.31858 -0.30415 -1.22176 -1.97865   \n",
       "\n",
       "         8        9  \n",
       "0  0.18985 -0.04642  \n",
       "1 -1.13548 -0.20761  \n",
       "2 -0.03234 -1.64850  \n",
       "3 -0.00964  0.87714  \n",
       "4  0.55651 -1.65729  "
      ]
     },
     "execution_count": 33,
     "metadata": {},
     "output_type": "execute_result"
    }
   ],
   "source": [
    "pd.set_option('expand_frame_repr', True)\n",
    "df"
   ]
  },
  {
   "cell_type": "code",
   "execution_count": 34,
   "metadata": {
    "scrolled": false
   },
   "outputs": [
    {
     "data": {
      "text/html": [
       "<div>\n",
       "<style scoped>\n",
       "    .dataframe tbody tr th:only-of-type {\n",
       "        vertical-align: middle;\n",
       "    }\n",
       "\n",
       "    .dataframe tbody tr th {\n",
       "        vertical-align: top;\n",
       "    }\n",
       "\n",
       "    .dataframe thead th {\n",
       "        text-align: right;\n",
       "    }\n",
       "</style>\n",
       "<table border=\"1\" class=\"dataframe\">\n",
       "  <thead>\n",
       "    <tr style=\"text-align: right;\">\n",
       "      <th></th>\n",
       "      <th>0</th>\n",
       "      <th>1</th>\n",
       "      <th>2</th>\n",
       "      <th>3</th>\n",
       "      <th>4</th>\n",
       "      <th>5</th>\n",
       "      <th>6</th>\n",
       "      <th>7</th>\n",
       "      <th>8</th>\n",
       "      <th>9</th>\n",
       "    </tr>\n",
       "  </thead>\n",
       "  <tbody>\n",
       "    <tr>\n",
       "      <th>0</th>\n",
       "      <td>2.39931</td>\n",
       "      <td>-1.23260</td>\n",
       "      <td>0.89286</td>\n",
       "      <td>-1.68144</td>\n",
       "      <td>-0.16518</td>\n",
       "      <td>-0.62590</td>\n",
       "      <td>1.30248</td>\n",
       "      <td>1.21471</td>\n",
       "      <td>0.18985</td>\n",
       "      <td>-0.04642</td>\n",
       "    </tr>\n",
       "    <tr>\n",
       "      <th>1</th>\n",
       "      <td>-2.23447</td>\n",
       "      <td>1.40555</td>\n",
       "      <td>-1.98587</td>\n",
       "      <td>1.36817</td>\n",
       "      <td>-1.05612</td>\n",
       "      <td>0.13431</td>\n",
       "      <td>-0.06293</td>\n",
       "      <td>0.29252</td>\n",
       "      <td>-1.13548</td>\n",
       "      <td>-0.20761</td>\n",
       "    </tr>\n",
       "    <tr>\n",
       "      <th>2</th>\n",
       "      <td>0.46129</td>\n",
       "      <td>-0.98899</td>\n",
       "      <td>0.53789</td>\n",
       "      <td>-0.81180</td>\n",
       "      <td>-1.61431</td>\n",
       "      <td>-0.28389</td>\n",
       "      <td>1.04829</td>\n",
       "      <td>-1.13585</td>\n",
       "      <td>-0.03234</td>\n",
       "      <td>-1.64850</td>\n",
       "    </tr>\n",
       "    <tr>\n",
       "      <th>3</th>\n",
       "      <td>0.57031</td>\n",
       "      <td>0.87322</td>\n",
       "      <td>0.65957</td>\n",
       "      <td>-0.92043</td>\n",
       "      <td>0.74952</td>\n",
       "      <td>-2.38305</td>\n",
       "      <td>0.08594</td>\n",
       "      <td>-0.50057</td>\n",
       "      <td>-0.00964</td>\n",
       "      <td>0.87714</td>\n",
       "    </tr>\n",
       "    <tr>\n",
       "      <th>4</th>\n",
       "      <td>1.14877</td>\n",
       "      <td>2.00962</td>\n",
       "      <td>-0.14966</td>\n",
       "      <td>-0.46520</td>\n",
       "      <td>0.31858</td>\n",
       "      <td>-0.30415</td>\n",
       "      <td>-1.22176</td>\n",
       "      <td>-1.97865</td>\n",
       "      <td>0.55651</td>\n",
       "      <td>-1.65729</td>\n",
       "    </tr>\n",
       "  </tbody>\n",
       "</table>\n",
       "</div>"
      ],
      "text/plain": [
       "         0        1        2        3        4        5        6        7        8        9\n",
       "0  2.39931 -1.23260  0.89286 -1.68144 -0.16518 -0.62590  1.30248  1.21471  0.18985 -0.04642\n",
       "1 -2.23447  1.40555 -1.98587  1.36817 -1.05612  0.13431 -0.06293  0.29252 -1.13548 -0.20761\n",
       "2  0.46129 -0.98899  0.53789 -0.81180 -1.61431 -0.28389  1.04829 -1.13585 -0.03234 -1.64850\n",
       "3  0.57031  0.87322  0.65957 -0.92043  0.74952 -2.38305  0.08594 -0.50057 -0.00964  0.87714\n",
       "4  1.14877  2.00962 -0.14966 -0.46520  0.31858 -0.30415 -1.22176 -1.97865  0.55651 -1.65729"
      ]
     },
     "execution_count": 34,
     "metadata": {},
     "output_type": "execute_result"
    }
   ],
   "source": [
    "pd.set_option('expand_frame_repr', False)\n",
    "df"
   ]
  },
  {
   "cell_type": "markdown",
   "metadata": {},
   "source": [
    "### 数值格式"
   ]
  },
  {
   "cell_type": "code",
   "execution_count": 45,
   "metadata": {},
   "outputs": [
    {
     "data": {
      "application/vnd.dataresource+json": {
       "data": [
        {
         "index": "a",
         "values": 0.8282300598
        },
        {
         "index": "b",
         "values": -0.5418339002
        },
        {
         "index": "c",
         "values": -0.6086974196
        },
        {
         "index": "d",
         "values": -0.6655854701
        },
        {
         "index": "e",
         "values": -0.6723551573
        }
       ],
       "schema": {
        "fields": [
         {
          "name": "index",
          "type": "string"
         },
         {
          "name": "values",
          "type": "number"
         }
        ],
        "pandas_version": "0.20.0",
        "primaryKey": [
         "index"
        ]
       }
      },
      "text/plain": [
       "a    828.230m\n",
       "b   -541.834m\n",
       "c   -608.697m\n",
       "d   -665.585m\n",
       "e   -672.355m\n",
       "dtype: float64"
      ]
     },
     "execution_count": 45,
     "metadata": {},
     "output_type": "execute_result"
    }
   ],
   "source": [
    "# pd.set_eng_float_format(accuracy = 3, use_eng_prefix = True)\n",
    "s = pd.Series(np.random.randn(5), index = ['a', 'b', 'c', 'd', 'e'])\n",
    "s"
   ]
  },
  {
   "cell_type": "markdown",
   "metadata": {},
   "source": [
    "### Unicode格式"
   ]
  },
  {
   "cell_type": "code",
   "execution_count": 35,
   "metadata": {},
   "outputs": [
    {
     "data": {
      "text/html": [
       "<div>\n",
       "<style scoped>\n",
       "    .dataframe tbody tr th:only-of-type {\n",
       "        vertical-align: middle;\n",
       "    }\n",
       "\n",
       "    .dataframe tbody tr th {\n",
       "        vertical-align: top;\n",
       "    }\n",
       "\n",
       "    .dataframe thead th {\n",
       "        text-align: right;\n",
       "    }\n",
       "</style>\n",
       "<table border=\"1\" class=\"dataframe\">\n",
       "  <thead>\n",
       "    <tr style=\"text-align: right;\">\n",
       "      <th></th>\n",
       "      <th>国籍</th>\n",
       "      <th>名前</th>\n",
       "    </tr>\n",
       "  </thead>\n",
       "  <tbody>\n",
       "    <tr>\n",
       "      <th>0</th>\n",
       "      <td>UK</td>\n",
       "      <td>Alice</td>\n",
       "    </tr>\n",
       "    <tr>\n",
       "      <th>1</th>\n",
       "      <td>日本</td>\n",
       "      <td>しのぶ</td>\n",
       "    </tr>\n",
       "  </tbody>\n",
       "</table>\n",
       "</div>"
      ],
      "text/plain": [
       "   国籍     名前\n",
       "0  UK  Alice\n",
       "1  日本    しのぶ"
      ]
     },
     "execution_count": 35,
     "metadata": {},
     "output_type": "execute_result"
    }
   ],
   "source": [
    "df = pd.DataFrame({\n",
    "    u'国籍': ['UK', u'日本'],\n",
    "    u'名前': ['Alice', u'しのぶ']\n",
    "})\n",
    "df"
   ]
  },
  {
   "cell_type": "code",
   "execution_count": 39,
   "metadata": {},
   "outputs": [
    {
     "data": {
      "application/vnd.dataresource+json": {
       "data": [
        {
         "0": 1.0342884845,
         "1": -2.2275621158,
         "2": -0.7785456054,
         "3": 0.2573297389,
         "4": -1.4620072488,
         "5": -0.2312496925,
         "6": 0.2954853429,
         "7": 0.7301073832,
         "8": 1.6136696964,
         "9": 1.4238165839,
         "index": 0
        },
        {
         "0": -0.5638618652,
         "1": 0.7718445217,
         "2": 0.3172873175,
         "3": -0.8490555657,
         "4": 0.3942971084,
         "5": -1.3252558864,
         "6": 0.2383974399,
         "7": 1.5285245493,
         "8": -1.7413905442,
         "9": -0.1270204278,
         "index": 1
        },
        {
         "0": -1.2321138183,
         "1": 0.5685615415,
         "2": 0.6111809106,
         "3": 0.4562154889,
         "4": -0.0762797029,
         "5": 0.2898805402,
         "6": -0.1752881909,
         "7": -0.5535253703,
         "8": -0.9729394825,
         "9": -0.4534123911,
         "index": 2
        },
        {
         "0": -0.2421404574,
         "1": -0.2830374648,
         "2": -0.9789537697,
         "3": -0.0116114305,
         "4": 0.8137612301,
         "5": 0.8881185082,
         "6": 0.9526648929,
         "7": 0.6766735918,
         "8": 1.0898780066,
         "9": 0.8555798031,
         "index": 3
        },
        {
         "0": 0.2275150992,
         "1": 0.6412961214,
         "2": -0.0626242114,
         "3": -0.8495528538,
         "4": -1.2826630998,
         "5": -0.8034092609,
         "6": -0.3339541698,
         "7": -0.154404593,
         "8": 0.0198719375,
         "9": 1.1995283724,
         "index": 4
        }
       ],
       "schema": {
        "fields": [
         {
          "name": "index",
          "type": "integer"
         },
         {
          "name": 0,
          "type": "number"
         },
         {
          "name": 1,
          "type": "number"
         },
         {
          "name": 2,
          "type": "number"
         },
         {
          "name": 3,
          "type": "number"
         },
         {
          "name": 4,
          "type": "number"
         },
         {
          "name": 5,
          "type": "number"
         },
         {
          "name": 6,
          "type": "number"
         },
         {
          "name": 7,
          "type": "number"
         },
         {
          "name": 8,
          "type": "number"
         },
         {
          "name": 9,
          "type": "number"
         }
        ],
        "pandas_version": "0.20.0",
        "primaryKey": [
         "index"
        ]
       }
      },
      "text/html": [
       "<div>\n",
       "<style scoped>\n",
       "    .dataframe tbody tr th:only-of-type {\n",
       "        vertical-align: middle;\n",
       "    }\n",
       "\n",
       "    .dataframe tbody tr th {\n",
       "        vertical-align: top;\n",
       "    }\n",
       "\n",
       "    .dataframe thead th {\n",
       "        text-align: right;\n",
       "    }\n",
       "</style>\n",
       "<table border=\"1\" class=\"dataframe\">\n",
       "  <thead>\n",
       "    <tr style=\"text-align: right;\">\n",
       "      <th></th>\n",
       "      <th>0</th>\n",
       "      <th>1</th>\n",
       "      <th>2</th>\n",
       "      <th>3</th>\n",
       "      <th>4</th>\n",
       "      <th>5</th>\n",
       "      <th>6</th>\n",
       "      <th>7</th>\n",
       "      <th>8</th>\n",
       "      <th>9</th>\n",
       "    </tr>\n",
       "  </thead>\n",
       "  <tbody>\n",
       "    <tr>\n",
       "      <th>0</th>\n",
       "      <td>1.03429</td>\n",
       "      <td>-2.22756</td>\n",
       "      <td>-0.77855</td>\n",
       "      <td>0.25733</td>\n",
       "      <td>-1.46201</td>\n",
       "      <td>-0.23125</td>\n",
       "      <td>0.29549</td>\n",
       "      <td>0.73011</td>\n",
       "      <td>1.61367</td>\n",
       "      <td>1.42382</td>\n",
       "    </tr>\n",
       "    <tr>\n",
       "      <th>1</th>\n",
       "      <td>-0.56386</td>\n",
       "      <td>0.77184</td>\n",
       "      <td>0.31729</td>\n",
       "      <td>-0.84906</td>\n",
       "      <td>0.39430</td>\n",
       "      <td>-1.32526</td>\n",
       "      <td>0.23840</td>\n",
       "      <td>1.52852</td>\n",
       "      <td>-1.74139</td>\n",
       "      <td>-0.12702</td>\n",
       "    </tr>\n",
       "    <tr>\n",
       "      <th>2</th>\n",
       "      <td>-1.23211</td>\n",
       "      <td>0.56856</td>\n",
       "      <td>0.61118</td>\n",
       "      <td>0.45622</td>\n",
       "      <td>-0.07628</td>\n",
       "      <td>0.28988</td>\n",
       "      <td>-0.17529</td>\n",
       "      <td>-0.55353</td>\n",
       "      <td>-0.97294</td>\n",
       "      <td>-0.45341</td>\n",
       "    </tr>\n",
       "    <tr>\n",
       "      <th>3</th>\n",
       "      <td>-0.24214</td>\n",
       "      <td>-0.28304</td>\n",
       "      <td>-0.97895</td>\n",
       "      <td>-0.01161</td>\n",
       "      <td>0.81376</td>\n",
       "      <td>0.88812</td>\n",
       "      <td>0.95266</td>\n",
       "      <td>0.67667</td>\n",
       "      <td>1.08988</td>\n",
       "      <td>0.85558</td>\n",
       "    </tr>\n",
       "    <tr>\n",
       "      <th>4</th>\n",
       "      <td>0.22752</td>\n",
       "      <td>0.64130</td>\n",
       "      <td>-0.06262</td>\n",
       "      <td>-0.84955</td>\n",
       "      <td>-1.28266</td>\n",
       "      <td>-0.80341</td>\n",
       "      <td>-0.33395</td>\n",
       "      <td>-0.15440</td>\n",
       "      <td>0.01987</td>\n",
       "      <td>1.19953</td>\n",
       "    </tr>\n",
       "  </tbody>\n",
       "</table>\n",
       "</div>"
      ],
      "text/plain": [
       "         0        1        2        3        4        5        6        7        8        9\n",
       "0  1.03429 -2.22756 -0.77855  0.25733 -1.46201 -0.23125  0.29549  0.73011  1.61367  1.42382\n",
       "1 -0.56386  0.77184  0.31729 -0.84906  0.39430 -1.32526  0.23840  1.52852 -1.74139 -0.12702\n",
       "2 -1.23211  0.56856  0.61118  0.45622 -0.07628  0.28988 -0.17529 -0.55353 -0.97294 -0.45341\n",
       "3 -0.24214 -0.28304 -0.97895 -0.01161  0.81376  0.88812  0.95266  0.67667  1.08988  0.85558\n",
       "4  0.22752  0.64130 -0.06262 -0.84955 -1.28266 -0.80341 -0.33395 -0.15440  0.01987  1.19953"
      ]
     },
     "execution_count": 39,
     "metadata": {},
     "output_type": "execute_result"
    }
   ],
   "source": [
    "pd.set_option('display.unicode.east_asian_width', True)\n",
    "df"
   ]
  },
  {
   "cell_type": "code",
   "execution_count": 41,
   "metadata": {},
   "outputs": [
    {
     "data": {
      "application/vnd.dataresource+json": {
       "data": [
        {
         "a": "xxx",
         "b": "yyy",
         "index": 0
        },
        {
         "a": "¡¡",
         "b": "¡¡",
         "index": 1
        }
       ],
       "schema": {
        "fields": [
         {
          "name": "index",
          "type": "integer"
         },
         {
          "name": "a",
          "type": "string"
         },
         {
          "name": "b",
          "type": "string"
         }
        ],
        "pandas_version": "0.20.0",
        "primaryKey": [
         "index"
        ]
       }
      },
      "text/html": [
       "<div>\n",
       "<style scoped>\n",
       "    .dataframe tbody tr th:only-of-type {\n",
       "        vertical-align: middle;\n",
       "    }\n",
       "\n",
       "    .dataframe tbody tr th {\n",
       "        vertical-align: top;\n",
       "    }\n",
       "\n",
       "    .dataframe thead th {\n",
       "        text-align: right;\n",
       "    }\n",
       "</style>\n",
       "<table border=\"1\" class=\"dataframe\">\n",
       "  <thead>\n",
       "    <tr style=\"text-align: right;\">\n",
       "      <th></th>\n",
       "      <th>a</th>\n",
       "      <th>b</th>\n",
       "    </tr>\n",
       "  </thead>\n",
       "  <tbody>\n",
       "    <tr>\n",
       "      <th>0</th>\n",
       "      <td>xxx</td>\n",
       "      <td>yyy</td>\n",
       "    </tr>\n",
       "    <tr>\n",
       "      <th>1</th>\n",
       "      <td>¡¡</td>\n",
       "      <td>¡¡</td>\n",
       "    </tr>\n",
       "  </tbody>\n",
       "</table>\n",
       "</div>"
      ],
      "text/plain": [
       "     a    b\n",
       "0  xxx  yyy\n",
       "1   ¡¡   ¡¡"
      ]
     },
     "execution_count": 41,
     "metadata": {},
     "output_type": "execute_result"
    }
   ],
   "source": [
    "df = pd.DataFrame({\n",
    "    'a': ['xxx', u'¡¡'], \n",
    "    'b': ['yyy', u'¡¡']\n",
    "})\n",
    "df"
   ]
  },
  {
   "cell_type": "code",
   "execution_count": 43,
   "metadata": {},
   "outputs": [
    {
     "data": {
      "application/vnd.dataresource+json": {
       "data": [
        {
         "a": "xxx",
         "b": "yyy",
         "index": 0
        },
        {
         "a": "¡¡",
         "b": "¡¡",
         "index": 1
        }
       ],
       "schema": {
        "fields": [
         {
          "name": "index",
          "type": "integer"
         },
         {
          "name": "a",
          "type": "string"
         },
         {
          "name": "b",
          "type": "string"
         }
        ],
        "pandas_version": "0.20.0",
        "primaryKey": [
         "index"
        ]
       }
      },
      "text/html": [
       "<div>\n",
       "<style scoped>\n",
       "    .dataframe tbody tr th:only-of-type {\n",
       "        vertical-align: middle;\n",
       "    }\n",
       "\n",
       "    .dataframe tbody tr th {\n",
       "        vertical-align: top;\n",
       "    }\n",
       "\n",
       "    .dataframe thead th {\n",
       "        text-align: right;\n",
       "    }\n",
       "</style>\n",
       "<table border=\"1\" class=\"dataframe\">\n",
       "  <thead>\n",
       "    <tr style=\"text-align: right;\">\n",
       "      <th></th>\n",
       "      <th>a</th>\n",
       "      <th>b</th>\n",
       "    </tr>\n",
       "  </thead>\n",
       "  <tbody>\n",
       "    <tr>\n",
       "      <th>0</th>\n",
       "      <td>xxx</td>\n",
       "      <td>yyy</td>\n",
       "    </tr>\n",
       "    <tr>\n",
       "      <th>1</th>\n",
       "      <td>¡¡</td>\n",
       "      <td>¡¡</td>\n",
       "    </tr>\n",
       "  </tbody>\n",
       "</table>\n",
       "</div>"
      ],
      "text/plain": [
       "      a     b\n",
       "0   xxx   yyy\n",
       "1  ¡¡  ¡¡"
      ]
     },
     "execution_count": 43,
     "metadata": {},
     "output_type": "execute_result"
    }
   ],
   "source": [
    "pd.set_option('display.unicode.east_asian_width', True)\n",
    "pd.set_option('display.unicode.ambiguous_as_wide', True)\n",
    "df"
   ]
  },
  {
   "cell_type": "markdown",
   "metadata": {},
   "source": [
    "### 表模式"
   ]
  },
  {
   "cell_type": "code",
   "execution_count": 37,
   "metadata": {
    "scrolled": true
   },
   "outputs": [
    {
     "data": {
      "text/html": [
       "<div>\n",
       "<style scoped>\n",
       "    .dataframe tbody tr th:only-of-type {\n",
       "        vertical-align: middle;\n",
       "    }\n",
       "\n",
       "    .dataframe tbody tr th {\n",
       "        vertical-align: top;\n",
       "    }\n",
       "\n",
       "    .dataframe thead th {\n",
       "        text-align: right;\n",
       "    }\n",
       "</style>\n",
       "<table border=\"1\" class=\"dataframe\">\n",
       "  <thead>\n",
       "    <tr style=\"text-align: right;\">\n",
       "      <th></th>\n",
       "      <th>0</th>\n",
       "      <th>1</th>\n",
       "      <th>2</th>\n",
       "      <th>3</th>\n",
       "      <th>4</th>\n",
       "      <th>5</th>\n",
       "      <th>6</th>\n",
       "      <th>7</th>\n",
       "      <th>8</th>\n",
       "      <th>9</th>\n",
       "    </tr>\n",
       "  </thead>\n",
       "  <tbody>\n",
       "    <tr>\n",
       "      <th>0</th>\n",
       "      <td>1.03429</td>\n",
       "      <td>-2.22756</td>\n",
       "      <td>-0.77855</td>\n",
       "      <td>0.25733</td>\n",
       "      <td>-1.46201</td>\n",
       "      <td>-0.23125</td>\n",
       "      <td>0.29549</td>\n",
       "      <td>0.73011</td>\n",
       "      <td>1.61367</td>\n",
       "      <td>1.42382</td>\n",
       "    </tr>\n",
       "    <tr>\n",
       "      <th>1</th>\n",
       "      <td>-0.56386</td>\n",
       "      <td>0.77184</td>\n",
       "      <td>0.31729</td>\n",
       "      <td>-0.84906</td>\n",
       "      <td>0.39430</td>\n",
       "      <td>-1.32526</td>\n",
       "      <td>0.23840</td>\n",
       "      <td>1.52852</td>\n",
       "      <td>-1.74139</td>\n",
       "      <td>-0.12702</td>\n",
       "    </tr>\n",
       "    <tr>\n",
       "      <th>2</th>\n",
       "      <td>-1.23211</td>\n",
       "      <td>0.56856</td>\n",
       "      <td>0.61118</td>\n",
       "      <td>0.45622</td>\n",
       "      <td>-0.07628</td>\n",
       "      <td>0.28988</td>\n",
       "      <td>-0.17529</td>\n",
       "      <td>-0.55353</td>\n",
       "      <td>-0.97294</td>\n",
       "      <td>-0.45341</td>\n",
       "    </tr>\n",
       "    <tr>\n",
       "      <th>3</th>\n",
       "      <td>-0.24214</td>\n",
       "      <td>-0.28304</td>\n",
       "      <td>-0.97895</td>\n",
       "      <td>-0.01161</td>\n",
       "      <td>0.81376</td>\n",
       "      <td>0.88812</td>\n",
       "      <td>0.95266</td>\n",
       "      <td>0.67667</td>\n",
       "      <td>1.08988</td>\n",
       "      <td>0.85558</td>\n",
       "    </tr>\n",
       "    <tr>\n",
       "      <th>4</th>\n",
       "      <td>0.22752</td>\n",
       "      <td>0.64130</td>\n",
       "      <td>-0.06262</td>\n",
       "      <td>-0.84955</td>\n",
       "      <td>-1.28266</td>\n",
       "      <td>-0.80341</td>\n",
       "      <td>-0.33395</td>\n",
       "      <td>-0.15440</td>\n",
       "      <td>0.01987</td>\n",
       "      <td>1.19953</td>\n",
       "    </tr>\n",
       "  </tbody>\n",
       "</table>\n",
       "</div>"
      ],
      "text/plain": [
       "         0        1        2        3        4        5        6        7        8        9\n",
       "0  1.03429 -2.22756 -0.77855  0.25733 -1.46201 -0.23125  0.29549  0.73011  1.61367  1.42382\n",
       "1 -0.56386  0.77184  0.31729 -0.84906  0.39430 -1.32526  0.23840  1.52852 -1.74139 -0.12702\n",
       "2 -1.23211  0.56856  0.61118  0.45622 -0.07628  0.28988 -0.17529 -0.55353 -0.97294 -0.45341\n",
       "3 -0.24214 -0.28304 -0.97895 -0.01161  0.81376  0.88812  0.95266  0.67667  1.08988  0.85558\n",
       "4  0.22752  0.64130 -0.06262 -0.84955 -1.28266 -0.80341 -0.33395 -0.15440  0.01987  1.19953"
      ]
     },
     "execution_count": 37,
     "metadata": {},
     "output_type": "execute_result"
    }
   ],
   "source": [
    "df = pd.DataFrame(np.random.randn(5, 10))\n",
    "df"
   ]
  },
  {
   "cell_type": "code",
   "execution_count": 38,
   "metadata": {
    "scrolled": true
   },
   "outputs": [
    {
     "data": {
      "application/vnd.dataresource+json": {
       "data": [
        {
         "0": 1.0342884845,
         "1": -2.2275621158,
         "2": -0.7785456054,
         "3": 0.2573297389,
         "4": -1.4620072488,
         "5": -0.2312496925,
         "6": 0.2954853429,
         "7": 0.7301073832,
         "8": 1.6136696964,
         "9": 1.4238165839,
         "index": 0
        },
        {
         "0": -0.5638618652,
         "1": 0.7718445217,
         "2": 0.3172873175,
         "3": -0.8490555657,
         "4": 0.3942971084,
         "5": -1.3252558864,
         "6": 0.2383974399,
         "7": 1.5285245493,
         "8": -1.7413905442,
         "9": -0.1270204278,
         "index": 1
        },
        {
         "0": -1.2321138183,
         "1": 0.5685615415,
         "2": 0.6111809106,
         "3": 0.4562154889,
         "4": -0.0762797029,
         "5": 0.2898805402,
         "6": -0.1752881909,
         "7": -0.5535253703,
         "8": -0.9729394825,
         "9": -0.4534123911,
         "index": 2
        },
        {
         "0": -0.2421404574,
         "1": -0.2830374648,
         "2": -0.9789537697,
         "3": -0.0116114305,
         "4": 0.8137612301,
         "5": 0.8881185082,
         "6": 0.9526648929,
         "7": 0.6766735918,
         "8": 1.0898780066,
         "9": 0.8555798031,
         "index": 3
        },
        {
         "0": 0.2275150992,
         "1": 0.6412961214,
         "2": -0.0626242114,
         "3": -0.8495528538,
         "4": -1.2826630998,
         "5": -0.8034092609,
         "6": -0.3339541698,
         "7": -0.154404593,
         "8": 0.0198719375,
         "9": 1.1995283724,
         "index": 4
        }
       ],
       "schema": {
        "fields": [
         {
          "name": "index",
          "type": "integer"
         },
         {
          "name": 0,
          "type": "number"
         },
         {
          "name": 1,
          "type": "number"
         },
         {
          "name": 2,
          "type": "number"
         },
         {
          "name": 3,
          "type": "number"
         },
         {
          "name": 4,
          "type": "number"
         },
         {
          "name": 5,
          "type": "number"
         },
         {
          "name": 6,
          "type": "number"
         },
         {
          "name": 7,
          "type": "number"
         },
         {
          "name": 8,
          "type": "number"
         },
         {
          "name": 9,
          "type": "number"
         }
        ],
        "pandas_version": "0.20.0",
        "primaryKey": [
         "index"
        ]
       }
      },
      "text/html": [
       "<div>\n",
       "<style scoped>\n",
       "    .dataframe tbody tr th:only-of-type {\n",
       "        vertical-align: middle;\n",
       "    }\n",
       "\n",
       "    .dataframe tbody tr th {\n",
       "        vertical-align: top;\n",
       "    }\n",
       "\n",
       "    .dataframe thead th {\n",
       "        text-align: right;\n",
       "    }\n",
       "</style>\n",
       "<table border=\"1\" class=\"dataframe\">\n",
       "  <thead>\n",
       "    <tr style=\"text-align: right;\">\n",
       "      <th></th>\n",
       "      <th>0</th>\n",
       "      <th>1</th>\n",
       "      <th>2</th>\n",
       "      <th>3</th>\n",
       "      <th>4</th>\n",
       "      <th>5</th>\n",
       "      <th>6</th>\n",
       "      <th>7</th>\n",
       "      <th>8</th>\n",
       "      <th>9</th>\n",
       "    </tr>\n",
       "  </thead>\n",
       "  <tbody>\n",
       "    <tr>\n",
       "      <th>0</th>\n",
       "      <td>1.03429</td>\n",
       "      <td>-2.22756</td>\n",
       "      <td>-0.77855</td>\n",
       "      <td>0.25733</td>\n",
       "      <td>-1.46201</td>\n",
       "      <td>-0.23125</td>\n",
       "      <td>0.29549</td>\n",
       "      <td>0.73011</td>\n",
       "      <td>1.61367</td>\n",
       "      <td>1.42382</td>\n",
       "    </tr>\n",
       "    <tr>\n",
       "      <th>1</th>\n",
       "      <td>-0.56386</td>\n",
       "      <td>0.77184</td>\n",
       "      <td>0.31729</td>\n",
       "      <td>-0.84906</td>\n",
       "      <td>0.39430</td>\n",
       "      <td>-1.32526</td>\n",
       "      <td>0.23840</td>\n",
       "      <td>1.52852</td>\n",
       "      <td>-1.74139</td>\n",
       "      <td>-0.12702</td>\n",
       "    </tr>\n",
       "    <tr>\n",
       "      <th>2</th>\n",
       "      <td>-1.23211</td>\n",
       "      <td>0.56856</td>\n",
       "      <td>0.61118</td>\n",
       "      <td>0.45622</td>\n",
       "      <td>-0.07628</td>\n",
       "      <td>0.28988</td>\n",
       "      <td>-0.17529</td>\n",
       "      <td>-0.55353</td>\n",
       "      <td>-0.97294</td>\n",
       "      <td>-0.45341</td>\n",
       "    </tr>\n",
       "    <tr>\n",
       "      <th>3</th>\n",
       "      <td>-0.24214</td>\n",
       "      <td>-0.28304</td>\n",
       "      <td>-0.97895</td>\n",
       "      <td>-0.01161</td>\n",
       "      <td>0.81376</td>\n",
       "      <td>0.88812</td>\n",
       "      <td>0.95266</td>\n",
       "      <td>0.67667</td>\n",
       "      <td>1.08988</td>\n",
       "      <td>0.85558</td>\n",
       "    </tr>\n",
       "    <tr>\n",
       "      <th>4</th>\n",
       "      <td>0.22752</td>\n",
       "      <td>0.64130</td>\n",
       "      <td>-0.06262</td>\n",
       "      <td>-0.84955</td>\n",
       "      <td>-1.28266</td>\n",
       "      <td>-0.80341</td>\n",
       "      <td>-0.33395</td>\n",
       "      <td>-0.15440</td>\n",
       "      <td>0.01987</td>\n",
       "      <td>1.19953</td>\n",
       "    </tr>\n",
       "  </tbody>\n",
       "</table>\n",
       "</div>"
      ],
      "text/plain": [
       "         0        1        2        3        4        5        6        7        8        9\n",
       "0  1.03429 -2.22756 -0.77855  0.25733 -1.46201 -0.23125  0.29549  0.73011  1.61367  1.42382\n",
       "1 -0.56386  0.77184  0.31729 -0.84906  0.39430 -1.32526  0.23840  1.52852 -1.74139 -0.12702\n",
       "2 -1.23211  0.56856  0.61118  0.45622 -0.07628  0.28988 -0.17529 -0.55353 -0.97294 -0.45341\n",
       "3 -0.24214 -0.28304 -0.97895 -0.01161  0.81376  0.88812  0.95266  0.67667  1.08988  0.85558\n",
       "4  0.22752  0.64130 -0.06262 -0.84955 -1.28266 -0.80341 -0.33395 -0.15440  0.01987  1.19953"
      ]
     },
     "execution_count": 38,
     "metadata": {},
     "output_type": "execute_result"
    }
   ],
   "source": [
    "pd.set_option('display.html.table_schema', True)\n",
    "df"
   ]
  },
  {
   "cell_type": "code",
   "execution_count": null,
   "metadata": {},
   "outputs": [],
   "source": []
  }
 ],
 "metadata": {
  "kernelspec": {
   "display_name": "Python 3",
   "language": "python",
   "name": "python3"
  },
  "language_info": {
   "codemirror_mode": {
    "name": "ipython",
    "version": 3
   },
   "file_extension": ".py",
   "mimetype": "text/x-python",
   "name": "python",
   "nbconvert_exporter": "python",
   "pygments_lexer": "ipython3",
   "version": "3.6.5"
  }
 },
 "nbformat": 4,
 "nbformat_minor": 2
}
