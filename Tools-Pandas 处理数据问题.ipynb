{
 "cells": [
  {
   "cell_type": "markdown",
   "metadata": {},
   "source": [
    "### 数据问题\n",
    "\n",
    "* 没有列名\n",
    "* 一个列有多个参数，比如：first_name, last_name\n",
    "* 数据含有缺失值\n",
    "* 数据含有空行\n",
    "* 数据含有重复数据\n",
    "* 数据有非ASCII字符\n",
    "* 有些列名应该是数据，而不是列名参数"
   ]
  },
  {
   "cell_type": "markdown",
   "metadata": {},
   "source": [
    "## 常用处理方法\n",
    "\n",
    "* 检查数据\n",
    "    - data.head()\n",
    "    - data.col_name.describe()\n",
    "    - data['col_name']\n",
    "    - data['col_name'][:n]\n",
    "    - data[['col_name1', 'col_name2', ...]]\n",
    "    - data[data['col_name'] > condition]\n",
    "* 处理缺失数据\n",
    "    - 为缺失数据赋值为默认值\n",
    "    - 删除缺失数据行、列"
   ]
  },
  {
   "cell_type": "code",
   "execution_count": null,
   "metadata": {},
   "outputs": [],
   "source": []
  }
 ],
 "metadata": {
  "kernelspec": {
   "display_name": "Python 3",
   "language": "python",
   "name": "python3"
  },
  "language_info": {
   "codemirror_mode": {
    "name": "ipython",
    "version": 3
   },
   "file_extension": ".py",
   "mimetype": "text/x-python",
   "name": "python",
   "nbconvert_exporter": "python",
   "pygments_lexer": "ipython3",
   "version": "3.6.5"
  }
 },
 "nbformat": 4,
 "nbformat_minor": 2
}
